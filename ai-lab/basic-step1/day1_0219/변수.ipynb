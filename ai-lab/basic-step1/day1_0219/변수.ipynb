{
 "cells": [
  {
   "cell_type": "markdown",
   "metadata": {},
   "source": [
    "### 변수 선언"
   ]
  },
  {
   "cell_type": "code",
   "execution_count": 1,
   "metadata": {},
   "outputs": [
    {
     "name": "stdout",
     "output_type": "stream",
     "text": [
      "10\n"
     ]
    }
   ],
   "source": [
    "print(10)"
   ]
  },
  {
   "cell_type": "markdown",
   "metadata": {},
   "source": [
    "### 프로그래밍을 위해서 사용자로부터 입력받은 값이 필요하다."
   ]
  },
  {
   "cell_type": "code",
   "execution_count": null,
   "metadata": {},
   "outputs": [
    {
     "name": "stdout",
     "output_type": "stream",
     "text": [
      "<class 'str'>\n"
     ]
    }
   ],
   "source": [
    "# input은 한줄 모두 입력을 받는다. 공백도 포함한다. 띄어쓰기도 포함된다.\n",
    "# n은 문자열이다. - str\n",
    "# input함수의 리턴타입은 문자열이다. 대입연산자로 반환 값을 받을 수 있다.\n",
    "n = input(\"0부터 9사이의 숫자를 입력하세요.\") # 같은 함수인데 파라미터를 사용할 수 있고,  생략할 수도 있다.\n",
    "print(type(n)) # 변수 n의 타입을 확일 할 수 있다."
   ]
  },
  {
   "cell_type": "code",
   "execution_count": null,
   "metadata": {},
   "outputs": [
    {
     "name": "stdout",
     "output_type": "stream",
     "text": [
      "<class 'int'>\n",
      "2\n"
     ]
    }
   ],
   "source": [
    "# 만일 정수를 입력 받고 싶다면 - 여러개의 함수를 중첩되게 사용이 가능하다.\n",
    "n = int(input())\n",
    "print(type(n)) # <class 'int'>\n",
    "print(n + 1)"
   ]
  },
  {
   "cell_type": "code",
   "execution_count": null,
   "metadata": {},
   "outputs": [
    {
     "name": "stdout",
     "output_type": "stream",
     "text": [
      "<class 'list'>\n",
      "['123', '456']\n"
     ]
    }
   ],
   "source": [
    "# input함수에 split함수를 같이 사용하면 띄어쓰리고 잘라서 리스트(자료구조, 알고리즘)로 반환해 준다.\n",
    "# 띄어쓰기가 구분자 역할 (토큰과 같은 역할)\n",
    "# 객체지향 -> 함수형 프로그래밍 -> 화살표함수, 람다식, lombok\n",
    "n = input().split() # 람다식에서는 함수를 체이닝으로 연결해서 반복되는 코드를 줄이고 직관적이다.\n",
    "print(type(n)) # <class 'list'>\n",
    "print(n)"
   ]
  },
  {
   "cell_type": "code",
   "execution_count": null,
   "metadata": {},
   "outputs": [],
   "source": [
    "# input에 map을 같이 사용하면 입력 받은 문자열을 split로 쪼개고\n",
    "# 쪼갠 결과를 int로 담을 수 있다.\n",
    "# input, split, map 더하니까 마치 구조분해 할당처럼 변수를 나누어서 담기가 가능하다.\n",
    "a, b = map(int, input().split())\n",
    "\n",
    "# print(type(a)) 혹은 print(type(b)) # <class 'int'>\n",
    "print(a + 1) # a 자리에 1을 입력 했다면 11일 출력되는게 아니라 2가 출련된다.\n",
    "print(b + 2)\n",
    "print(a + b)"
   ]
  },
  {
   "cell_type": "markdown",
   "metadata": {},
   "source": [
    "- 입출력 함수 - print, input\n",
    "- 빠른 입출력 함수"
   ]
  },
  {
   "cell_type": "code",
   "execution_count": 1,
   "metadata": {},
   "outputs": [
    {
     "name": "stdout",
     "output_type": "stream",
     "text": [
      "1\n",
      "2\n",
      "3\n",
      "4\n",
      "5\n",
      "6\n",
      "7\n",
      "8\n",
      "9\n",
      "10\n"
     ]
    }
   ],
   "source": [
    "# 만번이 넘어가면 급격하게 속도가 느려진다. - 성능향상 -> sys\n",
    "for _ in range(10): #10번\n",
    "  n = int(input()) # 정수를 10번 입력 받아서 담기\n",
    "  print(n) # 입력 받은 정수를 출력"
   ]
  },
  {
   "cell_type": "code",
   "execution_count": null,
   "metadata": {},
   "outputs": [],
   "source": [
    "for _ in range(1000000): # 100만 번 반복하기\n",
    "  n = int(input()) # 정수를 10번 입력 받아서 담기\n",
    "  print(n) # 입력 받은 정수를 출력"
   ]
  },
  {
   "cell_type": "code",
   "execution_count": null,
   "metadata": {},
   "outputs": [],
   "source": [
    "# input함수 보다 빠르게 처리 가능하다.\n",
    "import sys\n",
    "for _ in range(1000000): # 100만 번 반복하기\n",
    "  n = int(sys.stdin.readline()) # 정수를 10번 입력 받아서 담기\n",
    "  print(n) # 입력 받은 정수를 출력"
   ]
  }
 ],
 "metadata": {
  "kernelspec": {
   "display_name": "basic-step1",
   "language": "python",
   "name": "python3"
  },
  "language_info": {
   "codemirror_mode": {
    "name": "ipython",
    "version": 3
   },
   "file_extension": ".py",
   "mimetype": "text/x-python",
   "name": "python",
   "nbconvert_exporter": "python",
   "pygments_lexer": "ipython3",
   "version": "3.11.9"
  }
 },
 "nbformat": 4,
 "nbformat_minor": 2
}
