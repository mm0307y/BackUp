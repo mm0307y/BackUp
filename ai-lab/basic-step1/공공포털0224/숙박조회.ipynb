{
 "cells": [
  {
   "cell_type": "markdown",
   "metadata": {},
   "source": [
    "### 공공 포털 서비스 활용\n",
    "#### 숙박 조회 \n",
    "- 작업 지시서\n",
    "1. 공공 데이터 포털 회원가입/로그인(https://www.data.go.kr)\n",
    "2. API 사용 요청 / 키 발급\n",
    "3. API문서 확인\n",
    "4. API테스트 및 개발"
   ]
  },
  {
   "cell_type": "code",
   "execution_count": 1,
   "metadata": {},
   "outputs": [
    {
     "name": "stdout",
     "output_type": "stream",
     "text": [
      "200\n"
     ]
    }
   ],
   "source": [
    "import requests\n",
    "endPoint = \"http://apis.data.go.kr/B551011/KorService1/searchStay1?serviceKey=wzj%2FxwcBTKzoJ4%2FqkPe%2FHPqlSmEOpclP4IKhG8BEjY57tyT4O5uOxWlmo1xMru%2Bhow9Z2p3YDPpCQ1oOkVPiqA%3D%3D&numOfRows=10&pageNo=1&MobileOS=ETC&MobileApp=TestApp&_type=json&arrange=A&listYN=Y\"\n",
    "resp = requests.get(endPoint)\n",
    "print(resp.status_code) "
   ]
  },
  {
   "cell_type": "code",
   "execution_count": 2,
   "metadata": {},
   "outputs": [
    {
     "name": "stdout",
     "output_type": "stream",
     "text": [
      "<class 'dict'>\n"
     ]
    }
   ],
   "source": [
    "data = resp.json()\n",
    "print(type(resp.json()))"
   ]
  },
  {
   "cell_type": "code",
   "execution_count": 3,
   "metadata": {},
   "outputs": [
    {
     "name": "stdout",
     "output_type": "stream",
     "text": [
      "{'response': {'header': {'resultCode': '0000', 'resultMsg': 'OK'}, 'body': {'items': {'item': [{'addr1': '경상북도 안동시 하회남촌길 69-5', 'addr2': '', 'areacode': '35', 'benikia': '', 'cat1': 'B02', 'cat2': 'B0201', 'cat3': 'B02011600', 'contentid': '2465071', 'contenttypeid': '32', 'createdtime': '20161220190700', 'firstimage': 'http://tong.visitkorea.or.kr/cms/resource/00/2626200_image2_1.jpg', 'firstimage2': 'http://tong.visitkorea.or.kr/cms/resource/00/2626200_image3_1.jpg', 'cpyrhtDivCd': 'Type3', 'goodstay': '', 'hanok': '', 'mapx': '128.5175868107', 'mapy': '36.5376537450', 'mlevel': '6', 'modifiedtime': '20241220093815', 'tel': '054-855-8552', 'title': '가경재', 'booktour': '', 'sigungucode': '11'}, {'addr1': '서울특별시 송파구 송파대로28길 5', 'addr2': '(가락동)', 'areacode': '1', 'benikia': '', 'cat1': 'B02', 'cat2': 'B0201', 'cat3': 'B02010100', 'contentid': '142785', 'contenttypeid': '32', 'createdtime': '20040426090000', 'firstimage': '', 'firstimage2': '', 'cpyrhtDivCd': '', 'goodstay': '', 'hanok': '', 'mapx': '127.1166298703', 'mapy': '37.4966565128', 'mlevel': '6', 'modifiedtime': '20241101172817', 'tel': '02-400-6641~3', 'title': '가락관광호텔', 'booktour': '', 'sigungucode': '18'}, {'addr1': '전북특별자치도 전주시 완산구 한지길 68', 'addr2': '(풍남동3가)', 'areacode': '37', 'benikia': '', 'cat1': 'B02', 'cat2': 'B0201', 'cat3': 'B02011600', 'contentid': '2671267', 'contenttypeid': '32', 'createdtime': '20200908224549', 'firstimage': '', 'firstimage2': '', 'cpyrhtDivCd': '', 'goodstay': '', 'hanok': '', 'mapx': '127.1535667664', 'mapy': '35.8173223769', 'mlevel': '', 'modifiedtime': '20241126104237', 'tel': '', 'title': '가락청', 'booktour': '', 'sigungucode': '12'}, {'addr1': '경기도 파주시 소라지로327번길 126-21', 'addr2': '(송촌동)', 'areacode': '31', 'benikia': '', 'cat1': 'B02', 'cat2': 'B0201', 'cat3': 'B02011600', 'contentid': '2627867', 'contenttypeid': '32', 'createdtime': '20191021220426', 'firstimage': '', 'firstimage2': '', 'cpyrhtDivCd': '', 'goodstay': '', 'hanok': '', 'mapx': '126.6891949040', 'mapy': '37.7547493903', 'mlevel': '', 'modifiedtime': '20241126104303', 'tel': '', 'title': '가람나무', 'booktour': '', 'sigungucode': '27'}, {'addr1': '경상북도 안동시 풍천면 하회종가길 76-6', 'addr2': '(풍천면)', 'areacode': '35', 'benikia': '', 'cat1': 'B02', 'cat2': 'B0201', 'cat3': 'B02011600', 'contentid': '1865597', 'contenttypeid': '32', 'createdtime': '20131202181422', 'firstimage': 'http://tong.visitkorea.or.kr/cms/resource/48/2993048_image2_1.jpg', 'firstimage2': 'http://tong.visitkorea.or.kr/cms/resource/48/2993048_image3_1.jpg', 'cpyrhtDivCd': 'Type1', 'goodstay': '', 'hanok': '', 'mapx': '128.5163479914', 'mapy': '36.5390674494', 'mlevel': '6', 'modifiedtime': '20241126104326', 'tel': '010-3849-7542', 'title': '가람초연재', 'booktour': '', 'sigungucode': '11'}, {'addr1': '제주특별자치도 서귀포시 법환하로9번길 10', 'addr2': '', 'areacode': '39', 'benikia': '', 'cat1': 'B02', 'cat2': 'B0201', 'cat3': 'B02010700', 'contentid': '1896032', 'contenttypeid': '32', 'createdtime': '20140219003733', 'firstimage': '', 'firstimage2': '', 'cpyrhtDivCd': '', 'goodstay': '', 'hanok': '', 'mapx': '126.5123383804', 'mapy': '33.2365870334', 'mlevel': '6', 'modifiedtime': '20240523102643', 'tel': '064-739-4499', 'title': '가름게스트하우스', 'booktour': '', 'sigungucode': '3'}, {'addr1': '강원특별자치도 인제군 인제읍 대목리길 137', 'addr2': '', 'areacode': '32', 'benikia': '', 'cat1': 'B02', 'cat2': 'B0201', 'cat3': 'B02010700', 'contentid': '2571998', 'contenttypeid': '32', 'createdtime': '20181201005923', 'firstimage': 'http://tong.visitkorea.or.kr/cms/resource/37/2571137_image2_1.jpeg', 'firstimage2': 'http://tong.visitkorea.or.kr/cms/resource/37/2571137_image2_1.jpeg', 'cpyrhtDivCd': 'Type3', 'goodstay': '', 'hanok': '', 'mapx': '128.3383767680', 'mapy': '38.0731872541', 'mlevel': '', 'modifiedtime': '20240701153542', 'tel': '033-463-1212', 'title': '가리벨리 관광펜션(가리벨리관광펜션휴양타운)', 'booktour': '', 'sigungucode': '10'}, {'addr1': '강원특별자치도 정선군 정선읍 청량길 32', 'addr2': '', 'areacode': '32', 'benikia': '', 'cat1': 'B02', 'cat2': 'B0201', 'cat3': 'B02010700', 'contentid': '582215', 'contenttypeid': '32', 'createdtime': '20080702182139', 'firstimage': 'http://tong.visitkorea.or.kr/cms/resource/09/582509_image2_1.jpg', 'firstimage2': 'http://tong.visitkorea.or.kr/cms/resource/09/582509_image3_1.jpg', 'cpyrhtDivCd': 'Type3', 'goodstay': '', 'hanok': '', 'mapx': '128.5773915547', 'mapy': '37.4241170266', 'mlevel': '6', 'modifiedtime': '20240613150915', 'tel': '010-2289-0021', 'title': '가리왕산이야기 펜션', 'booktour': '', 'sigungucode': '11'}, {'addr1': '경기도 구리시 안골로 70', 'addr2': '', 'areacode': '31', 'benikia': '', 'cat1': 'B02', 'cat2': 'B0201', 'cat3': 'B02010900', 'contentid': '1781984', 'contenttypeid': '32', 'createdtime': '20130117230401', 'firstimage': '', 'firstimage2': '', 'cpyrhtDivCd': '', 'goodstay': '', 'hanok': '', 'mapx': '127.1388777598', 'mapy': '37.5972257905', 'mlevel': '6', 'modifiedtime': '20241111175258', 'tel': '031-563-0444', 'title': '가바나모텔', 'booktour': '', 'sigungucode': '6'}, {'addr1': '경기도 평택시 평택5로76번길 18-10', 'addr2': '', 'areacode': '31', 'benikia': '', 'cat1': 'B02', 'cat2': 'B0201', 'cat3': 'B02010100', 'contentid': '143017', 'contenttypeid': '32', 'createdtime': '20030806090000', 'firstimage': 'http://tong.visitkorea.or.kr/cms/resource/83/1942883_image2_1.jpg', 'firstimage2': 'http://tong.visitkorea.or.kr/cms/resource/83/1942883_image3_1.jpg', 'cpyrhtDivCd': 'Type3', 'goodstay': '', 'hanok': '', 'mapx': '127.1128582139', 'mapy': '36.9932008224', 'mlevel': '6', 'modifiedtime': '20241112155405', 'tel': '031-658-7700', 'title': '가보호텔', 'booktour': '', 'sigungucode': '28'}]}, 'numOfRows': 10, 'pageNo': 1, 'totalCount': 3962}}}\n"
     ]
    }
   ],
   "source": [
    "print(data)"
   ]
  },
  {
   "cell_type": "code",
   "execution_count": 4,
   "metadata": {},
   "outputs": [
    {
     "name": "stdout",
     "output_type": "stream",
     "text": [
      "{'item': [{'addr1': '경상북도 안동시 하회남촌길 69-5', 'addr2': '', 'areacode': '35', 'benikia': '', 'cat1': 'B02', 'cat2': 'B0201', 'cat3': 'B02011600', 'contentid': '2465071', 'contenttypeid': '32', 'createdtime': '20161220190700', 'firstimage': 'http://tong.visitkorea.or.kr/cms/resource/00/2626200_image2_1.jpg', 'firstimage2': 'http://tong.visitkorea.or.kr/cms/resource/00/2626200_image3_1.jpg', 'cpyrhtDivCd': 'Type3', 'goodstay': '', 'hanok': '', 'mapx': '128.5175868107', 'mapy': '36.5376537450', 'mlevel': '6', 'modifiedtime': '20241220093815', 'tel': '054-855-8552', 'title': '가경재', 'booktour': '', 'sigungucode': '11'}, {'addr1': '서울특별시 송파구 송파대로28길 5', 'addr2': '(가락동)', 'areacode': '1', 'benikia': '', 'cat1': 'B02', 'cat2': 'B0201', 'cat3': 'B02010100', 'contentid': '142785', 'contenttypeid': '32', 'createdtime': '20040426090000', 'firstimage': '', 'firstimage2': '', 'cpyrhtDivCd': '', 'goodstay': '', 'hanok': '', 'mapx': '127.1166298703', 'mapy': '37.4966565128', 'mlevel': '6', 'modifiedtime': '20241101172817', 'tel': '02-400-6641~3', 'title': '가락관광호텔', 'booktour': '', 'sigungucode': '18'}, {'addr1': '전북특별자치도 전주시 완산구 한지길 68', 'addr2': '(풍남동3가)', 'areacode': '37', 'benikia': '', 'cat1': 'B02', 'cat2': 'B0201', 'cat3': 'B02011600', 'contentid': '2671267', 'contenttypeid': '32', 'createdtime': '20200908224549', 'firstimage': '', 'firstimage2': '', 'cpyrhtDivCd': '', 'goodstay': '', 'hanok': '', 'mapx': '127.1535667664', 'mapy': '35.8173223769', 'mlevel': '', 'modifiedtime': '20241126104237', 'tel': '', 'title': '가락청', 'booktour': '', 'sigungucode': '12'}, {'addr1': '경기도 파주시 소라지로327번길 126-21', 'addr2': '(송촌동)', 'areacode': '31', 'benikia': '', 'cat1': 'B02', 'cat2': 'B0201', 'cat3': 'B02011600', 'contentid': '2627867', 'contenttypeid': '32', 'createdtime': '20191021220426', 'firstimage': '', 'firstimage2': '', 'cpyrhtDivCd': '', 'goodstay': '', 'hanok': '', 'mapx': '126.6891949040', 'mapy': '37.7547493903', 'mlevel': '', 'modifiedtime': '20241126104303', 'tel': '', 'title': '가람나무', 'booktour': '', 'sigungucode': '27'}, {'addr1': '경상북도 안동시 풍천면 하회종가길 76-6', 'addr2': '(풍천면)', 'areacode': '35', 'benikia': '', 'cat1': 'B02', 'cat2': 'B0201', 'cat3': 'B02011600', 'contentid': '1865597', 'contenttypeid': '32', 'createdtime': '20131202181422', 'firstimage': 'http://tong.visitkorea.or.kr/cms/resource/48/2993048_image2_1.jpg', 'firstimage2': 'http://tong.visitkorea.or.kr/cms/resource/48/2993048_image3_1.jpg', 'cpyrhtDivCd': 'Type1', 'goodstay': '', 'hanok': '', 'mapx': '128.5163479914', 'mapy': '36.5390674494', 'mlevel': '6', 'modifiedtime': '20241126104326', 'tel': '010-3849-7542', 'title': '가람초연재', 'booktour': '', 'sigungucode': '11'}, {'addr1': '제주특별자치도 서귀포시 법환하로9번길 10', 'addr2': '', 'areacode': '39', 'benikia': '', 'cat1': 'B02', 'cat2': 'B0201', 'cat3': 'B02010700', 'contentid': '1896032', 'contenttypeid': '32', 'createdtime': '20140219003733', 'firstimage': '', 'firstimage2': '', 'cpyrhtDivCd': '', 'goodstay': '', 'hanok': '', 'mapx': '126.5123383804', 'mapy': '33.2365870334', 'mlevel': '6', 'modifiedtime': '20240523102643', 'tel': '064-739-4499', 'title': '가름게스트하우스', 'booktour': '', 'sigungucode': '3'}, {'addr1': '강원특별자치도 인제군 인제읍 대목리길 137', 'addr2': '', 'areacode': '32', 'benikia': '', 'cat1': 'B02', 'cat2': 'B0201', 'cat3': 'B02010700', 'contentid': '2571998', 'contenttypeid': '32', 'createdtime': '20181201005923', 'firstimage': 'http://tong.visitkorea.or.kr/cms/resource/37/2571137_image2_1.jpeg', 'firstimage2': 'http://tong.visitkorea.or.kr/cms/resource/37/2571137_image2_1.jpeg', 'cpyrhtDivCd': 'Type3', 'goodstay': '', 'hanok': '', 'mapx': '128.3383767680', 'mapy': '38.0731872541', 'mlevel': '', 'modifiedtime': '20240701153542', 'tel': '033-463-1212', 'title': '가리벨리 관광펜션(가리벨리관광펜션휴양타운)', 'booktour': '', 'sigungucode': '10'}, {'addr1': '강원특별자치도 정선군 정선읍 청량길 32', 'addr2': '', 'areacode': '32', 'benikia': '', 'cat1': 'B02', 'cat2': 'B0201', 'cat3': 'B02010700', 'contentid': '582215', 'contenttypeid': '32', 'createdtime': '20080702182139', 'firstimage': 'http://tong.visitkorea.or.kr/cms/resource/09/582509_image2_1.jpg', 'firstimage2': 'http://tong.visitkorea.or.kr/cms/resource/09/582509_image3_1.jpg', 'cpyrhtDivCd': 'Type3', 'goodstay': '', 'hanok': '', 'mapx': '128.5773915547', 'mapy': '37.4241170266', 'mlevel': '6', 'modifiedtime': '20240613150915', 'tel': '010-2289-0021', 'title': '가리왕산이야기 펜션', 'booktour': '', 'sigungucode': '11'}, {'addr1': '경기도 구리시 안골로 70', 'addr2': '', 'areacode': '31', 'benikia': '', 'cat1': 'B02', 'cat2': 'B0201', 'cat3': 'B02010900', 'contentid': '1781984', 'contenttypeid': '32', 'createdtime': '20130117230401', 'firstimage': '', 'firstimage2': '', 'cpyrhtDivCd': '', 'goodstay': '', 'hanok': '', 'mapx': '127.1388777598', 'mapy': '37.5972257905', 'mlevel': '6', 'modifiedtime': '20241111175258', 'tel': '031-563-0444', 'title': '가바나모텔', 'booktour': '', 'sigungucode': '6'}, {'addr1': '경기도 평택시 평택5로76번길 18-10', 'addr2': '', 'areacode': '31', 'benikia': '', 'cat1': 'B02', 'cat2': 'B0201', 'cat3': 'B02010100', 'contentid': '143017', 'contenttypeid': '32', 'createdtime': '20030806090000', 'firstimage': 'http://tong.visitkorea.or.kr/cms/resource/83/1942883_image2_1.jpg', 'firstimage2': 'http://tong.visitkorea.or.kr/cms/resource/83/1942883_image3_1.jpg', 'cpyrhtDivCd': 'Type3', 'goodstay': '', 'hanok': '', 'mapx': '127.1128582139', 'mapy': '36.9932008224', 'mlevel': '6', 'modifiedtime': '20241112155405', 'tel': '031-658-7700', 'title': '가보호텔', 'booktour': '', 'sigungucode': '28'}]}\n"
     ]
    }
   ],
   "source": [
    "print(data[\"response\"][\"body\"][\"items\"])"
   ]
  },
  {
   "cell_type": "code",
   "execution_count": 5,
   "metadata": {},
   "outputs": [
    {
     "name": "stdout",
     "output_type": "stream",
     "text": [
      "<class 'dict'>\n"
     ]
    }
   ],
   "source": [
    "print(type(data[\"response\"][\"body\"][\"items\"]))"
   ]
  },
  {
   "cell_type": "code",
   "execution_count": 6,
   "metadata": {},
   "outputs": [
    {
     "name": "stdout",
     "output_type": "stream",
     "text": [
      "<class 'list'>\n"
     ]
    }
   ],
   "source": [
    "print(type(data[\"response\"][\"body\"][\"items\"][\"item\"]))"
   ]
  },
  {
   "cell_type": "code",
   "execution_count": 7,
   "metadata": {},
   "outputs": [
    {
     "name": "stdout",
     "output_type": "stream",
     "text": [
      "<class 'dict'>\n"
     ]
    }
   ],
   "source": [
    "print(type(data[\"response\"][\"body\"][\"items\"][\"item\"][0]))"
   ]
  },
  {
   "cell_type": "code",
   "execution_count": 8,
   "metadata": {},
   "outputs": [
    {
     "name": "stdout",
     "output_type": "stream",
     "text": [
      "{'addr1': '경상북도 안동시 하회남촌길 69-5', 'addr2': '', 'areacode': '35', 'benikia': '', 'cat1': 'B02', 'cat2': 'B0201', 'cat3': 'B02011600', 'contentid': '2465071', 'contenttypeid': '32', 'createdtime': '20161220190700', 'firstimage': 'http://tong.visitkorea.or.kr/cms/resource/00/2626200_image2_1.jpg', 'firstimage2': 'http://tong.visitkorea.or.kr/cms/resource/00/2626200_image3_1.jpg', 'cpyrhtDivCd': 'Type3', 'goodstay': '', 'hanok': '', 'mapx': '128.5175868107', 'mapy': '36.5376537450', 'mlevel': '6', 'modifiedtime': '20241220093815', 'tel': '054-855-8552', 'title': '가경재', 'booktour': '', 'sigungucode': '11'}\n"
     ]
    }
   ],
   "source": [
    "print(data[\"response\"][\"body\"][\"items\"][\"item\"][0])"
   ]
  },
  {
   "cell_type": "code",
   "execution_count": 9,
   "metadata": {},
   "outputs": [
    {
     "name": "stdout",
     "output_type": "stream",
     "text": [
      "{'addr1': '서울특별시 송파구 송파대로28길 5', 'addr2': '(가락동)', 'areacode': '1', 'benikia': '', 'cat1': 'B02', 'cat2': 'B0201', 'cat3': 'B02010100', 'contentid': '142785', 'contenttypeid': '32', 'createdtime': '20040426090000', 'firstimage': '', 'firstimage2': '', 'cpyrhtDivCd': '', 'goodstay': '', 'hanok': '', 'mapx': '127.1166298703', 'mapy': '37.4966565128', 'mlevel': '6', 'modifiedtime': '20241101172817', 'tel': '02-400-6641~3', 'title': '가락관광호텔', 'booktour': '', 'sigungucode': '18'}\n"
     ]
    }
   ],
   "source": [
    "print(data[\"response\"][\"body\"][\"items\"][\"item\"][1])"
   ]
  },
  {
   "cell_type": "code",
   "execution_count": 10,
   "metadata": {},
   "outputs": [
    {
     "name": "stdout",
     "output_type": "stream",
     "text": [
      "{'addr1': '경상북도 안동시 하회남촌길 69-5', 'addr2': '', 'areacode': '35', 'benikia': '', 'cat1': 'B02', 'cat2': 'B0201', 'cat3': 'B02011600', 'contentid': '2465071', 'contenttypeid': '32', 'createdtime': '20161220190700', 'firstimage': 'http://tong.visitkorea.or.kr/cms/resource/00/2626200_image2_1.jpg', 'firstimage2': 'http://tong.visitkorea.or.kr/cms/resource/00/2626200_image3_1.jpg', 'cpyrhtDivCd': 'Type3', 'goodstay': '', 'hanok': '', 'mapx': '128.5175868107', 'mapy': '36.5376537450', 'mlevel': '6', 'modifiedtime': '20241220093815', 'tel': '054-855-8552', 'title': '가경재', 'booktour': '', 'sigungucode': '11'}\n",
      "{'addr1': '서울특별시 송파구 송파대로28길 5', 'addr2': '(가락동)', 'areacode': '1', 'benikia': '', 'cat1': 'B02', 'cat2': 'B0201', 'cat3': 'B02010100', 'contentid': '142785', 'contenttypeid': '32', 'createdtime': '20040426090000', 'firstimage': '', 'firstimage2': '', 'cpyrhtDivCd': '', 'goodstay': '', 'hanok': '', 'mapx': '127.1166298703', 'mapy': '37.4966565128', 'mlevel': '6', 'modifiedtime': '20241101172817', 'tel': '02-400-6641~3', 'title': '가락관광호텔', 'booktour': '', 'sigungucode': '18'}\n",
      "{'addr1': '전북특별자치도 전주시 완산구 한지길 68', 'addr2': '(풍남동3가)', 'areacode': '37', 'benikia': '', 'cat1': 'B02', 'cat2': 'B0201', 'cat3': 'B02011600', 'contentid': '2671267', 'contenttypeid': '32', 'createdtime': '20200908224549', 'firstimage': '', 'firstimage2': '', 'cpyrhtDivCd': '', 'goodstay': '', 'hanok': '', 'mapx': '127.1535667664', 'mapy': '35.8173223769', 'mlevel': '', 'modifiedtime': '20241126104237', 'tel': '', 'title': '가락청', 'booktour': '', 'sigungucode': '12'}\n",
      "{'addr1': '경기도 파주시 소라지로327번길 126-21', 'addr2': '(송촌동)', 'areacode': '31', 'benikia': '', 'cat1': 'B02', 'cat2': 'B0201', 'cat3': 'B02011600', 'contentid': '2627867', 'contenttypeid': '32', 'createdtime': '20191021220426', 'firstimage': '', 'firstimage2': '', 'cpyrhtDivCd': '', 'goodstay': '', 'hanok': '', 'mapx': '126.6891949040', 'mapy': '37.7547493903', 'mlevel': '', 'modifiedtime': '20241126104303', 'tel': '', 'title': '가람나무', 'booktour': '', 'sigungucode': '27'}\n",
      "{'addr1': '경상북도 안동시 풍천면 하회종가길 76-6', 'addr2': '(풍천면)', 'areacode': '35', 'benikia': '', 'cat1': 'B02', 'cat2': 'B0201', 'cat3': 'B02011600', 'contentid': '1865597', 'contenttypeid': '32', 'createdtime': '20131202181422', 'firstimage': 'http://tong.visitkorea.or.kr/cms/resource/48/2993048_image2_1.jpg', 'firstimage2': 'http://tong.visitkorea.or.kr/cms/resource/48/2993048_image3_1.jpg', 'cpyrhtDivCd': 'Type1', 'goodstay': '', 'hanok': '', 'mapx': '128.5163479914', 'mapy': '36.5390674494', 'mlevel': '6', 'modifiedtime': '20241126104326', 'tel': '010-3849-7542', 'title': '가람초연재', 'booktour': '', 'sigungucode': '11'}\n",
      "{'addr1': '제주특별자치도 서귀포시 법환하로9번길 10', 'addr2': '', 'areacode': '39', 'benikia': '', 'cat1': 'B02', 'cat2': 'B0201', 'cat3': 'B02010700', 'contentid': '1896032', 'contenttypeid': '32', 'createdtime': '20140219003733', 'firstimage': '', 'firstimage2': '', 'cpyrhtDivCd': '', 'goodstay': '', 'hanok': '', 'mapx': '126.5123383804', 'mapy': '33.2365870334', 'mlevel': '6', 'modifiedtime': '20240523102643', 'tel': '064-739-4499', 'title': '가름게스트하우스', 'booktour': '', 'sigungucode': '3'}\n",
      "{'addr1': '강원특별자치도 인제군 인제읍 대목리길 137', 'addr2': '', 'areacode': '32', 'benikia': '', 'cat1': 'B02', 'cat2': 'B0201', 'cat3': 'B02010700', 'contentid': '2571998', 'contenttypeid': '32', 'createdtime': '20181201005923', 'firstimage': 'http://tong.visitkorea.or.kr/cms/resource/37/2571137_image2_1.jpeg', 'firstimage2': 'http://tong.visitkorea.or.kr/cms/resource/37/2571137_image2_1.jpeg', 'cpyrhtDivCd': 'Type3', 'goodstay': '', 'hanok': '', 'mapx': '128.3383767680', 'mapy': '38.0731872541', 'mlevel': '', 'modifiedtime': '20240701153542', 'tel': '033-463-1212', 'title': '가리벨리 관광펜션(가리벨리관광펜션휴양타운)', 'booktour': '', 'sigungucode': '10'}\n",
      "{'addr1': '강원특별자치도 정선군 정선읍 청량길 32', 'addr2': '', 'areacode': '32', 'benikia': '', 'cat1': 'B02', 'cat2': 'B0201', 'cat3': 'B02010700', 'contentid': '582215', 'contenttypeid': '32', 'createdtime': '20080702182139', 'firstimage': 'http://tong.visitkorea.or.kr/cms/resource/09/582509_image2_1.jpg', 'firstimage2': 'http://tong.visitkorea.or.kr/cms/resource/09/582509_image3_1.jpg', 'cpyrhtDivCd': 'Type3', 'goodstay': '', 'hanok': '', 'mapx': '128.5773915547', 'mapy': '37.4241170266', 'mlevel': '6', 'modifiedtime': '20240613150915', 'tel': '010-2289-0021', 'title': '가리왕산이야기 펜션', 'booktour': '', 'sigungucode': '11'}\n",
      "{'addr1': '경기도 구리시 안골로 70', 'addr2': '', 'areacode': '31', 'benikia': '', 'cat1': 'B02', 'cat2': 'B0201', 'cat3': 'B02010900', 'contentid': '1781984', 'contenttypeid': '32', 'createdtime': '20130117230401', 'firstimage': '', 'firstimage2': '', 'cpyrhtDivCd': '', 'goodstay': '', 'hanok': '', 'mapx': '127.1388777598', 'mapy': '37.5972257905', 'mlevel': '6', 'modifiedtime': '20241111175258', 'tel': '031-563-0444', 'title': '가바나모텔', 'booktour': '', 'sigungucode': '6'}\n",
      "{'addr1': '경기도 평택시 평택5로76번길 18-10', 'addr2': '', 'areacode': '31', 'benikia': '', 'cat1': 'B02', 'cat2': 'B0201', 'cat3': 'B02010100', 'contentid': '143017', 'contenttypeid': '32', 'createdtime': '20030806090000', 'firstimage': 'http://tong.visitkorea.or.kr/cms/resource/83/1942883_image2_1.jpg', 'firstimage2': 'http://tong.visitkorea.or.kr/cms/resource/83/1942883_image3_1.jpg', 'cpyrhtDivCd': 'Type3', 'goodstay': '', 'hanok': '', 'mapx': '127.1128582139', 'mapy': '36.9932008224', 'mlevel': '6', 'modifiedtime': '20241112155405', 'tel': '031-658-7700', 'title': '가보호텔', 'booktour': '', 'sigungucode': '28'}\n"
     ]
    }
   ],
   "source": [
    "for item in data[\"response\"][\"body\"][\"items\"][\"item\"]:\n",
    "    print(item)"
   ]
  },
  {
   "cell_type": "code",
   "execution_count": 11,
   "metadata": {},
   "outputs": [
    {
     "name": "stdout",
     "output_type": "stream",
     "text": [
      "addr1 : 경상북도 안동시 하회남촌길 69-5\n",
      "addr2 : \n",
      "areacode : 35\n",
      "benikia : \n",
      "cat1 : B02\n",
      "cat2 : B0201\n",
      "cat3 : B02011600\n",
      "contentid : 2465071\n",
      "contenttypeid : 32\n",
      "createdtime : 20161220190700\n",
      "firstimage : http://tong.visitkorea.or.kr/cms/resource/00/2626200_image2_1.jpg\n",
      "firstimage2 : http://tong.visitkorea.or.kr/cms/resource/00/2626200_image3_1.jpg\n",
      "cpyrhtDivCd : Type3\n",
      "goodstay : \n",
      "hanok : \n",
      "mapx : 128.5175868107\n",
      "mapy : 36.5376537450\n",
      "mlevel : 6\n",
      "modifiedtime : 20241220093815\n",
      "tel : 054-855-8552\n",
      "title : 가경재\n",
      "booktour : \n",
      "sigungucode : 11\n",
      "addr1 : 서울특별시 송파구 송파대로28길 5\n",
      "addr2 : (가락동)\n",
      "areacode : 1\n",
      "benikia : \n",
      "cat1 : B02\n",
      "cat2 : B0201\n",
      "cat3 : B02010100\n",
      "contentid : 142785\n",
      "contenttypeid : 32\n",
      "createdtime : 20040426090000\n",
      "firstimage : \n",
      "firstimage2 : \n",
      "cpyrhtDivCd : \n",
      "goodstay : \n",
      "hanok : \n",
      "mapx : 127.1166298703\n",
      "mapy : 37.4966565128\n",
      "mlevel : 6\n",
      "modifiedtime : 20241101172817\n",
      "tel : 02-400-6641~3\n",
      "title : 가락관광호텔\n",
      "booktour : \n",
      "sigungucode : 18\n",
      "addr1 : 전북특별자치도 전주시 완산구 한지길 68\n",
      "addr2 : (풍남동3가)\n",
      "areacode : 37\n",
      "benikia : \n",
      "cat1 : B02\n",
      "cat2 : B0201\n",
      "cat3 : B02011600\n",
      "contentid : 2671267\n",
      "contenttypeid : 32\n",
      "createdtime : 20200908224549\n",
      "firstimage : \n",
      "firstimage2 : \n",
      "cpyrhtDivCd : \n",
      "goodstay : \n",
      "hanok : \n",
      "mapx : 127.1535667664\n",
      "mapy : 35.8173223769\n",
      "mlevel : \n",
      "modifiedtime : 20241126104237\n",
      "tel : \n",
      "title : 가락청\n",
      "booktour : \n",
      "sigungucode : 12\n",
      "addr1 : 경기도 파주시 소라지로327번길 126-21\n",
      "addr2 : (송촌동)\n",
      "areacode : 31\n",
      "benikia : \n",
      "cat1 : B02\n",
      "cat2 : B0201\n",
      "cat3 : B02011600\n",
      "contentid : 2627867\n",
      "contenttypeid : 32\n",
      "createdtime : 20191021220426\n",
      "firstimage : \n",
      "firstimage2 : \n",
      "cpyrhtDivCd : \n",
      "goodstay : \n",
      "hanok : \n",
      "mapx : 126.6891949040\n",
      "mapy : 37.7547493903\n",
      "mlevel : \n",
      "modifiedtime : 20241126104303\n",
      "tel : \n",
      "title : 가람나무\n",
      "booktour : \n",
      "sigungucode : 27\n",
      "addr1 : 경상북도 안동시 풍천면 하회종가길 76-6\n",
      "addr2 : (풍천면)\n",
      "areacode : 35\n",
      "benikia : \n",
      "cat1 : B02\n",
      "cat2 : B0201\n",
      "cat3 : B02011600\n",
      "contentid : 1865597\n",
      "contenttypeid : 32\n",
      "createdtime : 20131202181422\n",
      "firstimage : http://tong.visitkorea.or.kr/cms/resource/48/2993048_image2_1.jpg\n",
      "firstimage2 : http://tong.visitkorea.or.kr/cms/resource/48/2993048_image3_1.jpg\n",
      "cpyrhtDivCd : Type1\n",
      "goodstay : \n",
      "hanok : \n",
      "mapx : 128.5163479914\n",
      "mapy : 36.5390674494\n",
      "mlevel : 6\n",
      "modifiedtime : 20241126104326\n",
      "tel : 010-3849-7542\n",
      "title : 가람초연재\n",
      "booktour : \n",
      "sigungucode : 11\n",
      "addr1 : 제주특별자치도 서귀포시 법환하로9번길 10\n",
      "addr2 : \n",
      "areacode : 39\n",
      "benikia : \n",
      "cat1 : B02\n",
      "cat2 : B0201\n",
      "cat3 : B02010700\n",
      "contentid : 1896032\n",
      "contenttypeid : 32\n",
      "createdtime : 20140219003733\n",
      "firstimage : \n",
      "firstimage2 : \n",
      "cpyrhtDivCd : \n",
      "goodstay : \n",
      "hanok : \n",
      "mapx : 126.5123383804\n",
      "mapy : 33.2365870334\n",
      "mlevel : 6\n",
      "modifiedtime : 20240523102643\n",
      "tel : 064-739-4499\n",
      "title : 가름게스트하우스\n",
      "booktour : \n",
      "sigungucode : 3\n",
      "addr1 : 강원특별자치도 인제군 인제읍 대목리길 137\n",
      "addr2 : \n",
      "areacode : 32\n",
      "benikia : \n",
      "cat1 : B02\n",
      "cat2 : B0201\n",
      "cat3 : B02010700\n",
      "contentid : 2571998\n",
      "contenttypeid : 32\n",
      "createdtime : 20181201005923\n",
      "firstimage : http://tong.visitkorea.or.kr/cms/resource/37/2571137_image2_1.jpeg\n",
      "firstimage2 : http://tong.visitkorea.or.kr/cms/resource/37/2571137_image2_1.jpeg\n",
      "cpyrhtDivCd : Type3\n",
      "goodstay : \n",
      "hanok : \n",
      "mapx : 128.3383767680\n",
      "mapy : 38.0731872541\n",
      "mlevel : \n",
      "modifiedtime : 20240701153542\n",
      "tel : 033-463-1212\n",
      "title : 가리벨리 관광펜션(가리벨리관광펜션휴양타운)\n",
      "booktour : \n",
      "sigungucode : 10\n",
      "addr1 : 강원특별자치도 정선군 정선읍 청량길 32\n",
      "addr2 : \n",
      "areacode : 32\n",
      "benikia : \n",
      "cat1 : B02\n",
      "cat2 : B0201\n",
      "cat3 : B02010700\n",
      "contentid : 582215\n",
      "contenttypeid : 32\n",
      "createdtime : 20080702182139\n",
      "firstimage : http://tong.visitkorea.or.kr/cms/resource/09/582509_image2_1.jpg\n",
      "firstimage2 : http://tong.visitkorea.or.kr/cms/resource/09/582509_image3_1.jpg\n",
      "cpyrhtDivCd : Type3\n",
      "goodstay : \n",
      "hanok : \n",
      "mapx : 128.5773915547\n",
      "mapy : 37.4241170266\n",
      "mlevel : 6\n",
      "modifiedtime : 20240613150915\n",
      "tel : 010-2289-0021\n",
      "title : 가리왕산이야기 펜션\n",
      "booktour : \n",
      "sigungucode : 11\n",
      "addr1 : 경기도 구리시 안골로 70\n",
      "addr2 : \n",
      "areacode : 31\n",
      "benikia : \n",
      "cat1 : B02\n",
      "cat2 : B0201\n",
      "cat3 : B02010900\n",
      "contentid : 1781984\n",
      "contenttypeid : 32\n",
      "createdtime : 20130117230401\n",
      "firstimage : \n",
      "firstimage2 : \n",
      "cpyrhtDivCd : \n",
      "goodstay : \n",
      "hanok : \n",
      "mapx : 127.1388777598\n",
      "mapy : 37.5972257905\n",
      "mlevel : 6\n",
      "modifiedtime : 20241111175258\n",
      "tel : 031-563-0444\n",
      "title : 가바나모텔\n",
      "booktour : \n",
      "sigungucode : 6\n",
      "addr1 : 경기도 평택시 평택5로76번길 18-10\n",
      "addr2 : \n",
      "areacode : 31\n",
      "benikia : \n",
      "cat1 : B02\n",
      "cat2 : B0201\n",
      "cat3 : B02010100\n",
      "contentid : 143017\n",
      "contenttypeid : 32\n",
      "createdtime : 20030806090000\n",
      "firstimage : http://tong.visitkorea.or.kr/cms/resource/83/1942883_image2_1.jpg\n",
      "firstimage2 : http://tong.visitkorea.or.kr/cms/resource/83/1942883_image3_1.jpg\n",
      "cpyrhtDivCd : Type3\n",
      "goodstay : \n",
      "hanok : \n",
      "mapx : 127.1128582139\n",
      "mapy : 36.9932008224\n",
      "mlevel : 6\n",
      "modifiedtime : 20241112155405\n",
      "tel : 031-658-7700\n",
      "title : 가보호텔\n",
      "booktour : \n",
      "sigungucode : 28\n"
     ]
    }
   ],
   "source": [
    "# Outter for문 리스트 반복\n",
    "for item in data[\"response\"][\"body\"][\"items\"][\"item\"]:\n",
    "    # 딕셔너리 반복 - 컬럼의 수\n",
    "    for key in item:\n",
    "        print(f\"{key} : {item[key]}\")"
   ]
  }
 ],
 "metadata": {
  "kernelspec": {
   "display_name": "basic-step1",
   "language": "python",
   "name": "python3"
  },
  "language_info": {
   "codemirror_mode": {
    "name": "ipython",
    "version": 3
   },
   "file_extension": ".py",
   "mimetype": "text/x-python",
   "name": "python",
   "nbconvert_exporter": "python",
   "pygments_lexer": "ipython3",
   "version": "3.11.9"
  }
 },
 "nbformat": 4,
 "nbformat_minor": 2
}
