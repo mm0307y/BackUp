{
 "cells": [
  {
   "cell_type": "markdown",
   "metadata": {},
   "source": [
    "### 변수 선언"
   ]
  },
  {
   "cell_type": "code",
   "execution_count": 1,
   "metadata": {},
   "outputs": [
    {
     "name": "stdout",
     "output_type": "stream",
     "text": [
      "10\n"
     ]
    }
   ],
   "source": [
    "print(10)"
   ]
  },
  {
   "cell_type": "code",
   "execution_count": null,
   "metadata": {},
   "outputs": [
    {
     "name": "stdout",
     "output_type": "stream",
     "text": [
      "<class 'str'>\n"
     ]
    }
   ],
   "source": [
    "# input은 한줄 모두 입력을 받는다. 공백도 포함한다. 띄어쓰기도 포함된다.\n",
    "# n은 문자열이다. - str\n",
    "n = input()\n",
    "print(type(n))"
   ]
  },
  {
   "cell_type": "code",
   "execution_count": 8,
   "metadata": {},
   "outputs": [
    {
     "name": "stdout",
     "output_type": "stream",
     "text": [
      "<class 'int'>\n",
      "2\n"
     ]
    }
   ],
   "source": [
    "# 만일 정수를 입력 받고 싶다면\n",
    "n = int(input())\n",
    "print(type(n)) # <class 'int'>\n",
    "print(n + 1)"
   ]
  },
  {
   "cell_type": "code",
   "execution_count": null,
   "metadata": {},
   "outputs": [
    {
     "name": "stdout",
     "output_type": "stream",
     "text": [
      "<class 'list'>\n",
      "['123', '456']\n"
     ]
    }
   ],
   "source": [
    "# input함수에 split함수를 같이 사용하면 띄어쓰리고 잘라서 리스트로 반환해 준다.\n",
    "n = input().split()\n",
    "print(type(n)) # <class 'list'>\n",
    "print(n)"
   ]
  },
  {
   "cell_type": "code",
   "execution_count": null,
   "metadata": {},
   "outputs": [],
   "source": [
    "# input에 map을 같이 사용하면 입력 받은 문자열을 split로 쪼개고\n",
    "# 쪼갠 결과를 int로 담을 수 있다.\n",
    "a, b = map(int, input().split())\n",
    "\n",
    "# print(type(a)) 혹은 print(type(b)) # <class 'int'>\n",
    "print(a + 1) # a 자리에 1을 입력 했다면 11일 출력되는게 아니라 2가 출련된다.\n",
    "print(b + 2)\n",
    "print(a + b)"
   ]
  },
  {
   "cell_type": "markdown",
   "metadata": {},
   "source": [
    "- 입출력 함수 - print, input\n",
    "- 빠른 입출력 함수"
   ]
  },
  {
   "cell_type": "code",
   "execution_count": 14,
   "metadata": {},
   "outputs": [
    {
     "ename": "ValueError",
     "evalue": "invalid literal for int() with base 10: ''",
     "output_type": "error",
     "traceback": [
      "\u001b[1;31m---------------------------------------------------------------------------\u001b[0m",
      "\u001b[1;31mValueError\u001b[0m                                Traceback (most recent call last)",
      "Cell \u001b[1;32mIn[14], line 3\u001b[0m\n\u001b[0;32m      1\u001b[0m \u001b[38;5;66;03m# 만번이 넘어가면 급격하게 속도가 느려진다. - 성능향상 -> sys\u001b[39;00m\n\u001b[0;32m      2\u001b[0m \u001b[38;5;28;01mfor\u001b[39;00m _ \u001b[38;5;129;01min\u001b[39;00m \u001b[38;5;28mrange\u001b[39m(\u001b[38;5;241m10\u001b[39m): \u001b[38;5;66;03m#10번\u001b[39;00m\n\u001b[1;32m----> 3\u001b[0m   n \u001b[38;5;241m=\u001b[39m \u001b[38;5;28;43mint\u001b[39;49m\u001b[43m(\u001b[49m\u001b[38;5;28;43minput\u001b[39;49m\u001b[43m(\u001b[49m\u001b[43m)\u001b[49m\u001b[43m)\u001b[49m \u001b[38;5;66;03m# 정수를 10번 입력 받아서 담기\u001b[39;00m\n\u001b[0;32m      4\u001b[0m   \u001b[38;5;28mprint\u001b[39m(n) \u001b[38;5;66;03m# 입력 받은 정수를 출력\u001b[39;00m\n",
      "\u001b[1;31mValueError\u001b[0m: invalid literal for int() with base 10: ''"
     ]
    }
   ],
   "source": [
    "# 만번이 넘어가면 급격하게 속도가 느려진다. - 성능향상 -> sys\n",
    "for _ in range(10): #10번\n",
    "  n = int(input()) # 정수를 10번 입력 받아서 담기\n",
    "  print(n) # 입력 받은 정수를 출력"
   ]
  },
  {
   "cell_type": "code",
   "execution_count": null,
   "metadata": {},
   "outputs": [],
   "source": [
    "for _ in range(1000000): # 100만 번 반복하기\n",
    "  n = int(input()) # 정수를 10번 입력 받아서 담기\n",
    "  print(n) # 입력 받은 정수를 출력"
   ]
  },
  {
   "cell_type": "code",
   "execution_count": null,
   "metadata": {},
   "outputs": [],
   "source": [
    "# input함수 보다 빠르게 처리 가능하다.\n",
    "import sys\n",
    "for _ in range(1000000): # 100만 번 반복하기\n",
    "  n = int(sys.stdin.readline()) # 정수를 10번 입력 받아서 담기\n",
    "  print(n) # 입력 받은 정수를 출력"
   ]
  }
 ],
 "metadata": {
  "kernelspec": {
   "display_name": "basic-step1",
   "language": "python",
   "name": "python3"
  },
  "language_info": {
   "codemirror_mode": {
    "name": "ipython",
    "version": 3
   },
   "file_extension": ".py",
   "mimetype": "text/x-python",
   "name": "python",
   "nbconvert_exporter": "python",
   "pygments_lexer": "ipython3",
   "version": "3.11.9"
  }
 },
 "nbformat": 4,
 "nbformat_minor": 2
}
