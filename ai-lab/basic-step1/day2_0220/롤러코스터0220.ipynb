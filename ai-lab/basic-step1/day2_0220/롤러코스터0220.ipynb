{
 "cells": [
  {
   "cell_type": "markdown",
   "metadata": {},
   "source": [
    "연습문제 : 롤러코스터 요금 계산하기\n",
    "<img src=\"./롤러코스터.png\" />\n",
    "1. 당신의 키가 120보다 큰가요? 네 -> 2번째 질문 받기\n",
    "2. 당신의 나이가 12살 보다 작니? 네 5달러\n",
    "3. 18살 보다 작거나 같니? 네 7달러\n",
    "4. 그 나머지는 12달러\n",
    "5. 위 조건과는 별개로 추가 조건이 필요하다. - 사진을 원해?"
   ]
  },
  {
   "cell_type": "code",
   "execution_count": null,
   "metadata": {},
   "outputs": [
    {
     "name": "stdout",
     "output_type": "stream",
     "text": [
      "성인은 12 달러 티켓 입니다.\n",
      "사진 구매 값은 12 달러 입니다.\n",
      "총 가격은 12 달러 입니다.\n"
     ]
    }
   ],
   "source": [
    "# 변수의 갯수와 타입을 결정하기\n",
    "bill = 0\n",
    "height = float(input(\"당신의 키는 얼마입니까? cm로...\")) # 165\n",
    "if height > 120:\n",
    "  age = int(input(\"당신의 나이는?\")) #\n",
    "  if age < 12:\n",
    "    bill = 5\n",
    "    print(f\"어린이는 {bill} 달러 티켓 입니다.\")\n",
    "  elif age <= 18:\n",
    "    bill = 7\n",
    "    print(f\"청소년은 {bill} 달러 티켓 입니다.\")\n",
    "  elif age >= 60 and age <80:\n",
    "    print(\"무료 입장 대상자 입니다.\")\n",
    "  else:\n",
    "    bill = 12\n",
    "    print(f\"성인은 {bill} 달러 티켓 입니다.\")\n",
    "  # 추가 옵션은 있는 경우 - 기존에 요금에 누적 시킨다.\n",
    "  wants_photo = input(\"사진을 구매 하시겠습니까? Y or N\")\n",
    "  if wants_photo == \"Y\" :\n",
    "    bill += 3\n",
    "  print(f\"총 가격은 {bill} 달러 입니다.\")\n",
    "else:\n",
    "  print(\"당신은 롤러코스터를 탈수 없어요.\")\n"
   ]
  }
 ],
 "metadata": {
  "kernelspec": {
   "display_name": "basic-step1",
   "language": "python",
   "name": "python3"
  },
  "language_info": {
   "codemirror_mode": {
    "name": "ipython",
    "version": 3
   },
   "file_extension": ".py",
   "mimetype": "text/x-python",
   "name": "python",
   "nbconvert_exporter": "python",
   "pygments_lexer": "ipython3",
   "version": "3.11.9"
  }
 },
 "nbformat": 4,
 "nbformat_minor": 2
}
