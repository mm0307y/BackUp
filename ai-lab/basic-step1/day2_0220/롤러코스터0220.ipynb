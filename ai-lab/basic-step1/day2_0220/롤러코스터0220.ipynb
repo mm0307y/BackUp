{
 "cells": [
  {
   "cell_type": "markdown",
   "metadata": {},
   "source": [
    "연습문제 : 롤러코스터 요금 계산하기\n",
    "<ima src=\"./롤러코스터.png\">\n",
    "1. 당신의 키가 120보다 큰가요? 네 -> 2번째 질문 받기\n",
    "2. 당신의 나이가 12살 보다 작니? 네 5달러\n",
    "3. 18살 보다 작거나 같니? 네 7달러\n",
    "4. 그 나머지는 12달러\n",
    "5. 위 조건과는 별개로 추가 조건이 필요하다. - 사진을 원해?"
   ]
  }
 ],
 "metadata": {
  "language_info": {
   "name": "python"
  }
 },
 "nbformat": 4,
 "nbformat_minor": 2
}
