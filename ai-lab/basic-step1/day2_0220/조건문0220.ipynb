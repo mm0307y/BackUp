{
 "cells": [
  {
   "cell_type": "markdown",
   "metadata": {},
   "source": [
    "### 조건문\n",
    "- 조건 종류 : >, <, <=, >=, ==, !="
   ]
  },
  {
   "cell_type": "markdown",
   "metadata": {},
   "source": [
    "#### BMI 2번째 버전\n",
    "- 저체중인가, 정상인가, 경도 비만, 비만, 과체중"
   ]
  },
  {
   "cell_type": "markdown",
   "metadata": {},
   "source": [
    "### 구현할 내용에 적어 보자 - 작업지시서\n",
    "- 연약적 사고, 귀납적 사고\n",
    "- 변수가 몇개 필요하지?\n",
    "  - 당신의 키를 입력하세요. 키가 필요해, 타입은 int할까, flot할까 결정 - api -> int(input(보여줄 메시지) -> 호출하기)\n",
    "  - 당신의 몸무게를 입력하세요. int(input(\"당신의 몸무게를 입력하세요.\"))\n",
    "\n",
    "- 공식 만들기\n",
    "  - BMI = 몸무게 / 키**2\n",
    "  - 소수점을 어떻게 처리할까? - round\n",
    "  - 소수 2번째 자리에서 반올림 할까? 3번째 자리에서 반올림 할까? - 요구사항 정의서에서 확인할 것.\n",
    "  - 현업 담당자\n",
    "\n",
    "- 판정(XXX장 - 기준) : 비교연산자"
   ]
  },
  {
   "cell_type": "code",
   "execution_count": null,
   "metadata": {},
   "outputs": [],
   "source": [
    "height = float(input(\"당신의 키를 meter로 입력하세요.\")) # 165\n",
    "weight = int(input(\"당신의 몸무게를 입력하세요.\")) # 65"
   ]
  },
  {
   "cell_type": "code",
   "execution_count": null,
   "metadata": {},
   "outputs": [],
   "source": [
    "# 정수일 때 2, 실수일 때 2.0\n",
    "BMI = weight / float(height)**2\n",
    "print(BMI)\n",
    "\n",
    "# 함수 안에 다른 함수를 사용할 수 있다. - 문법 허용 여부\n",
    "bmi_as_int = int(round(BMI,2))\n",
    "print(bmi_as_int)"
   ]
  },
  {
   "cell_type": "code",
   "execution_count": null,
   "metadata": {},
   "outputs": [],
   "source": [
    "print(bmi_as_int)"
   ]
  },
  {
   "cell_type": "code",
   "execution_count": 15,
   "metadata": {},
   "outputs": [
    {
     "name": "stdout",
     "output_type": "stream",
     "text": [
      "당신의 BMI는 41, 당신은 과체중 입니다.\n"
     ]
    }
   ],
   "source": [
    "if bmi_as_int < 18.5:\n",
    "  print(f\"당신의 BMI는 {bmi_as_int}, 당신은 저체중 입니다.\")\n",
    "elif bmi_as_int < 25:\n",
    "  print(f\"당신의 BMI는 {bmi_as_int}, 당신은 정산 입니다.\")\n",
    "else :\n",
    "  print(f\"당신의 BMI는 {bmi_as_int}, 당신은 과체중 입니다.\")"
   ]
  }
 ],
 "metadata": {
  "kernelspec": {
   "display_name": "basic-step1",
   "language": "python",
   "name": "python3"
  },
  "language_info": {
   "codemirror_mode": {
    "name": "ipython",
    "version": 3
   },
   "file_extension": ".py",
   "mimetype": "text/x-python",
   "name": "python",
   "nbconvert_exporter": "python",
   "pygments_lexer": "ipython3",
   "version": "3.11.9"
  }
 },
 "nbformat": 4,
 "nbformat_minor": 2
}
