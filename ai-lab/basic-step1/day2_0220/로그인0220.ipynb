{
 "cells": [
  {
   "cell_type": "markdown",
   "metadata": {},
   "source": [
    "### 로그인 처리\n",
    "1. 아이디가 존재하니?\n",
    "- 만일 아이디가 존재하지 않는 다면 굳이 비번을 비교하는 코드가 필요한가?\n",
    "- 아이디는 존재하지만 비번이 맞지 않는 경우\n",
    "- 아이디와 비번이 모두 일치하는 경우\n",
    "\n",
    "2. 로그인 처리에 필요한 상황들을 상상해 본다.\n",
    "\n",
    "3. 2번 상황들에 대한 출력 문장을 작성해 본\n",
    "  - 상황에 따라서 출력문이 달라진다.\n",
    "  - 상태값을 정해 본다. - if문 조건절에 기준으로 사용이 된다.\n",
    "\n",
    "4. 1이면 아이디가 존재하지 않는 경우 일때\n",
    "  1이면 아이디와 비밀번호 모두 일치할 때\n",
    "  0이면 아이디는 존재하지만 비번이 일치하지 않을때\n",
    "\n",
    "5. 비교되는 아이디와 비밀번호는 어디서 가져오나요?\n",
    "  - 데이터 영속성 - 오라클, mySQL\n",
    "  - 회원가입이 로그인 처리보다 먼저이다."
   ]
  },
  {
   "cell_type": "code",
   "execution_count": 21,
   "metadata": {},
   "outputs": [],
   "source": [
    "# 회원가입시 입력한 아이디와 비밀번호와 이름이 있다고 가정한다.\n",
    "db_id = 'kiwi'\n",
    "db_pw = \"12345\"\n",
    "db_name = \" 키위나무\"\n",
    "\n",
    "# 사용자가 입력한 아이디와 비번은 매번 달라진다.\n",
    "user_id = ''\n",
    "user_pw = ''"
   ]
  },
  {
   "cell_type": "code",
   "execution_count": 22,
   "metadata": {},
   "outputs": [],
   "source": [
    "user_id = input(\"당신의 아이디를 입력하세요.\") # kiwi"
   ]
  },
  {
   "cell_type": "code",
   "execution_count": 23,
   "metadata": {},
   "outputs": [],
   "source": [
    "db_id = user_id"
   ]
  },
  {
   "cell_type": "code",
   "execution_count": 24,
   "metadata": {},
   "outputs": [
    {
     "data": {
      "text/plain": [
       "bool"
      ]
     },
     "execution_count": 24,
     "metadata": {},
     "output_type": "execute_result"
    }
   ],
   "source": [
    "type(db_id == user_id)"
   ]
  },
  {
   "cell_type": "code",
   "execution_count": 25,
   "metadata": {},
   "outputs": [
    {
     "name": "stdout",
     "output_type": "stream",
     "text": [
      "1\n"
     ]
    }
   ],
   "source": [
    "state = 0\n",
    "if db_id == user_id : # kiwi == apple\n",
    "  state = 1\n",
    "else :\n",
    "  state = -1\n",
    "print(state)"
   ]
  },
  {
   "cell_type": "code",
   "execution_count": 26,
   "metadata": {},
   "outputs": [],
   "source": [
    "user_pw = input(\"당신의 비밀번호를 입력하세요.\")"
   ]
  },
  {
   "cell_type": "code",
   "execution_count": 27,
   "metadata": {},
   "outputs": [
    {
     "name": "stdout",
     "output_type": "stream",
     "text": [
      "1234\n"
     ]
    }
   ],
   "source": [
    "print(user_pw)"
   ]
  },
  {
   "cell_type": "code",
   "execution_count": 28,
   "metadata": {},
   "outputs": [],
   "source": [
    "if db_pw == user_pw:\n",
    "  state = 1\n",
    "else :\n",
    "  state = 2"
   ]
  },
  {
   "cell_type": "code",
   "execution_count": 29,
   "metadata": {},
   "outputs": [
    {
     "name": "stdout",
     "output_type": "stream",
     "text": [
      "2\n"
     ]
    }
   ],
   "source": [
    "print(state)"
   ]
  },
  {
   "cell_type": "code",
   "execution_count": 30,
   "metadata": {},
   "outputs": [
    {
     "name": "stdout",
     "output_type": "stream",
     "text": [
      "apple\n"
     ]
    }
   ],
   "source": [
    "print(user_id)"
   ]
  },
  {
   "cell_type": "code",
   "execution_count": 31,
   "metadata": {},
   "outputs": [],
   "source": [
    "# 중첩 if문을 사용하기\n",
    "state = 1001\n",
    "if db_id == user_id: # db_id가 kiwi를 쥐고 있다.\n",
    "  state = 0\n",
    "  user_pw = input(\"당신의 비밀번호를 입력하세요.\")\n",
    "  if db_pw == user_pw:\n",
    "    state = 1\n",
    "  else:\n",
    "    state = 2\n",
    "else:\n",
    "  # 아이디가 존재하지 않는 경우\n",
    "  state = -1\n"
   ]
  },
  {
   "cell_type": "code",
   "execution_count": 32,
   "metadata": {},
   "outputs": [
    {
     "name": "stdout",
     "output_type": "stream",
     "text": [
      "2\n"
     ]
    }
   ],
   "source": [
    "print(state)"
   ]
  }
 ],
 "metadata": {
  "kernelspec": {
   "display_name": "basic-step1",
   "language": "python",
   "name": "python3"
  },
  "language_info": {
   "codemirror_mode": {
    "name": "ipython",
    "version": 3
   },
   "file_extension": ".py",
   "mimetype": "text/x-python",
   "name": "python",
   "nbconvert_exporter": "python",
   "pygments_lexer": "ipython3",
   "version": "3.11.9"
  }
 },
 "nbformat": 4,
 "nbformat_minor": 2
}
