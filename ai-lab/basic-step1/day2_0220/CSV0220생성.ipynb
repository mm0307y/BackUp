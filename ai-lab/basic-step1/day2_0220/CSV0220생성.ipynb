{
 "cells": [
  {
   "cell_type": "markdown",
   "metadata": {},
   "source": [
    "### 판다스를 활용한 CSV파일 생성하기\n",
    "- 라이브러리도 객체를 지원한다.\n",
    "- 객체 구성요소(필드와 함수)"
   ]
  },
  {
   "cell_type": "code",
   "execution_count": 7,
   "metadata": {},
   "outputs": [],
   "source": [
    "import pandas as pd\n",
    "# 판다스는 데이터셋을 지원하는데 그것은 DataFarme"
   ]
  },
  {
   "cell_type": "code",
   "execution_count": 8,
   "metadata": {},
   "outputs": [],
   "source": [
    "scores = pd.DataFrame({\n",
    "  \"이름\" : [\"김파이\", \"강감찬\", \"이성계\"],\n",
    "  \"Java\" : [90, 70, 80],\n",
    "  \"React\" : [60, 80, 80],\n",
    "  \"Spring\" : [70, 90, 50]\n",
    "}, index=[1, 2, 3])"
   ]
  },
  {
   "cell_type": "code",
   "execution_count": 10,
   "metadata": {},
   "outputs": [],
   "source": [
    "# 현재 폴더에 scores.csv 라는 이름으로 패일 생성\n",
    "scores.to_csv(\"./data0220/scores0220.csv\", encoding=\"utf-8\")"
   ]
  }
 ],
 "metadata": {
  "kernelspec": {
   "display_name": "basic-step1",
   "language": "python",
   "name": "python3"
  },
  "language_info": {
   "codemirror_mode": {
    "name": "ipython",
    "version": 3
   },
   "file_extension": ".py",
   "mimetype": "text/x-python",
   "name": "python",
   "nbconvert_exporter": "python",
   "pygments_lexer": "ipython3",
   "version": "3.11.9"
  }
 },
 "nbformat": 4,
 "nbformat_minor": 2
}
