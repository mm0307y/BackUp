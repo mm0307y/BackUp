{
 "cells": [
  {
   "cell_type": "markdown",
   "metadata": {},
   "source": [
    "### 2023s년 아파트 거래 자료 - 실습"
   ]
  },
  {
   "cell_type": "code",
   "execution_count": 1,
   "metadata": {},
   "outputs": [],
   "source": [
    "import pandas as pd"
   ]
  },
  {
   "cell_type": "code",
   "execution_count": 2,
   "metadata": {},
   "outputs": [
    {
     "data": {
      "text/html": [
       "<div>\n",
       "<style scoped>\n",
       "    .dataframe tbody tr th:only-of-type {\n",
       "        vertical-align: middle;\n",
       "    }\n",
       "\n",
       "    .dataframe tbody tr th {\n",
       "        vertical-align: top;\n",
       "    }\n",
       "\n",
       "    .dataframe thead th {\n",
       "        text-align: right;\n",
       "    }\n",
       "</style>\n",
       "<table border=\"1\" class=\"dataframe\">\n",
       "  <thead>\n",
       "    <tr style=\"text-align: right;\">\n",
       "      <th></th>\n",
       "      <th>기준년월</th>\n",
       "      <th>지역명</th>\n",
       "      <th>지역코드</th>\n",
       "      <th>법정동</th>\n",
       "      <th>아파트</th>\n",
       "      <th>거래금액</th>\n",
       "      <th>년</th>\n",
       "      <th>월</th>\n",
       "      <th>일</th>\n",
       "      <th>건축년도</th>\n",
       "      <th>전용면적</th>\n",
       "      <th>지번</th>\n",
       "      <th>층</th>\n",
       "    </tr>\n",
       "  </thead>\n",
       "  <tbody>\n",
       "    <tr>\n",
       "      <th>0</th>\n",
       "      <td>202306</td>\n",
       "      <td>종로구</td>\n",
       "      <td>11110</td>\n",
       "      <td>사직동</td>\n",
       "      <td>광화문스페이스본(101동~105동)</td>\n",
       "      <td>138,000</td>\n",
       "      <td>2023</td>\n",
       "      <td>6</td>\n",
       "      <td>9</td>\n",
       "      <td>2008</td>\n",
       "      <td>95.880</td>\n",
       "      <td>9</td>\n",
       "      <td>9</td>\n",
       "    </tr>\n",
       "    <tr>\n",
       "      <th>1</th>\n",
       "      <td>202306</td>\n",
       "      <td>종로구</td>\n",
       "      <td>11110</td>\n",
       "      <td>사직동</td>\n",
       "      <td>광화문스페이스본(101동~105동)</td>\n",
       "      <td>170,000</td>\n",
       "      <td>2023</td>\n",
       "      <td>6</td>\n",
       "      <td>10</td>\n",
       "      <td>2008</td>\n",
       "      <td>146.920</td>\n",
       "      <td>9</td>\n",
       "      <td>8</td>\n",
       "    </tr>\n",
       "    <tr>\n",
       "      <th>2</th>\n",
       "      <td>202306</td>\n",
       "      <td>종로구</td>\n",
       "      <td>11110</td>\n",
       "      <td>사직동</td>\n",
       "      <td>사직아파트</td>\n",
       "      <td>84,000</td>\n",
       "      <td>2023</td>\n",
       "      <td>6</td>\n",
       "      <td>12</td>\n",
       "      <td>1970</td>\n",
       "      <td>116.230</td>\n",
       "      <td>1-8</td>\n",
       "      <td>6</td>\n",
       "    </tr>\n",
       "    <tr>\n",
       "      <th>3</th>\n",
       "      <td>202306</td>\n",
       "      <td>종로구</td>\n",
       "      <td>11110</td>\n",
       "      <td>당주동</td>\n",
       "      <td>롯데미도파광화문빌딩</td>\n",
       "      <td>93,000</td>\n",
       "      <td>2023</td>\n",
       "      <td>6</td>\n",
       "      <td>20</td>\n",
       "      <td>1981</td>\n",
       "      <td>149.950</td>\n",
       "      <td>145</td>\n",
       "      <td>9</td>\n",
       "    </tr>\n",
       "    <tr>\n",
       "      <th>4</th>\n",
       "      <td>202306</td>\n",
       "      <td>종로구</td>\n",
       "      <td>11110</td>\n",
       "      <td>신문로2가</td>\n",
       "      <td>디팰리스</td>\n",
       "      <td>408,000</td>\n",
       "      <td>2023</td>\n",
       "      <td>6</td>\n",
       "      <td>24</td>\n",
       "      <td>2020</td>\n",
       "      <td>148.111</td>\n",
       "      <td>171</td>\n",
       "      <td>10</td>\n",
       "    </tr>\n",
       "  </tbody>\n",
       "</table>\n",
       "</div>"
      ],
      "text/plain": [
       "     기준년월  지역명   지역코드     법정동                  아파트          거래금액     년  월   일  \\\n",
       "0  202306  종로구  11110     사직동  광화문스페이스본(101동~105동)       138,000  2023  6   9   \n",
       "1  202306  종로구  11110     사직동  광화문스페이스본(101동~105동)       170,000  2023  6  10   \n",
       "2  202306  종로구  11110     사직동                사직아파트        84,000  2023  6  12   \n",
       "3  202306  종로구  11110     당주동           롯데미도파광화문빌딩        93,000  2023  6  20   \n",
       "4  202306  종로구  11110   신문로2가                 디팰리스       408,000  2023  6  24   \n",
       "\n",
       "   건축년도     전용면적   지번   층  \n",
       "0  2008   95.880    9   9  \n",
       "1  2008  146.920    9   8  \n",
       "2  1970  116.230  1-8   6  \n",
       "3  1981  149.950  145   9  \n",
       "4  2020  148.111  171  10  "
      ]
     },
     "execution_count": 2,
     "metadata": {},
     "output_type": "execute_result"
    }
   ],
   "source": [
    "df = pd.read_csv('../data0225/trade_apt_api_2023_address0225.txt', sep='\\t')\n",
    "df.head() # 파라미터를 생략해도 기본이 5행으로 적용"
   ]
  },
  {
   "cell_type": "code",
   "execution_count": 3,
   "metadata": {},
   "outputs": [
    {
     "name": "stdout",
     "output_type": "stream",
     "text": [
      "<class 'pandas.core.frame.DataFrame'>\n",
      "RangeIndex: 2302 entries, 0 to 2301\n",
      "Data columns (total 13 columns):\n",
      " #   Column  Non-Null Count  Dtype  \n",
      "---  ------  --------------  -----  \n",
      " 0   기준년월    2302 non-null   int64  \n",
      " 1   지역명     2302 non-null   object \n",
      " 2   지역코드    2302 non-null   int64  \n",
      " 3   법정동     2302 non-null   object \n",
      " 4   아파트     2302 non-null   object \n",
      " 5   거래금액    2302 non-null   object \n",
      " 6   년       2302 non-null   int64  \n",
      " 7   월       2302 non-null   int64  \n",
      " 8   일       2302 non-null   int64  \n",
      " 9   건축년도    2302 non-null   int64  \n",
      " 10  전용면적    2302 non-null   float64\n",
      " 11  지번      2302 non-null   object \n",
      " 12  층       2302 non-null   int64  \n",
      "dtypes: float64(1), int64(7), object(5)\n",
      "memory usage: 233.9+ KB\n"
     ]
    }
   ],
   "source": [
    "df.info()"
   ]
  },
  {
   "cell_type": "code",
   "execution_count": 4,
   "metadata": {},
   "outputs": [
    {
     "data": {
      "text/html": [
       "<div>\n",
       "<style scoped>\n",
       "    .dataframe tbody tr th:only-of-type {\n",
       "        vertical-align: middle;\n",
       "    }\n",
       "\n",
       "    .dataframe tbody tr th {\n",
       "        vertical-align: top;\n",
       "    }\n",
       "\n",
       "    .dataframe thead th {\n",
       "        text-align: right;\n",
       "    }\n",
       "</style>\n",
       "<table border=\"1\" class=\"dataframe\">\n",
       "  <thead>\n",
       "    <tr style=\"text-align: right;\">\n",
       "      <th></th>\n",
       "      <th>기준년월</th>\n",
       "      <th>지역코드</th>\n",
       "      <th>년</th>\n",
       "      <th>월</th>\n",
       "      <th>일</th>\n",
       "      <th>건축년도</th>\n",
       "      <th>전용면적</th>\n",
       "      <th>층</th>\n",
       "    </tr>\n",
       "  </thead>\n",
       "  <tbody>\n",
       "    <tr>\n",
       "      <th>count</th>\n",
       "      <td>2302.000000</td>\n",
       "      <td>2302.000000</td>\n",
       "      <td>2302.000000</td>\n",
       "      <td>2302.000000</td>\n",
       "      <td>2302.000000</td>\n",
       "      <td>2302.000000</td>\n",
       "      <td>2302.000000</td>\n",
       "      <td>2302.000000</td>\n",
       "    </tr>\n",
       "    <tr>\n",
       "      <th>mean</th>\n",
       "      <td>202261.738923</td>\n",
       "      <td>11607.697654</td>\n",
       "      <td>2022.571242</td>\n",
       "      <td>4.614683</td>\n",
       "      <td>16.168115</td>\n",
       "      <td>2001.136838</td>\n",
       "      <td>81.173045</td>\n",
       "      <td>9.668983</td>\n",
       "    </tr>\n",
       "    <tr>\n",
       "      <th>std</th>\n",
       "      <td>48.717547</td>\n",
       "      <td>189.737573</td>\n",
       "      <td>0.495006</td>\n",
       "      <td>2.474663</td>\n",
       "      <td>8.576874</td>\n",
       "      <td>12.163308</td>\n",
       "      <td>46.020959</td>\n",
       "      <td>7.153552</td>\n",
       "    </tr>\n",
       "    <tr>\n",
       "      <th>min</th>\n",
       "      <td>202201.000000</td>\n",
       "      <td>11110.000000</td>\n",
       "      <td>2022.000000</td>\n",
       "      <td>1.000000</td>\n",
       "      <td>1.000000</td>\n",
       "      <td>1966.000000</td>\n",
       "      <td>12.010000</td>\n",
       "      <td>-1.000000</td>\n",
       "    </tr>\n",
       "    <tr>\n",
       "      <th>25%</th>\n",
       "      <td>202206.000000</td>\n",
       "      <td>11680.000000</td>\n",
       "      <td>2022.000000</td>\n",
       "      <td>3.000000</td>\n",
       "      <td>9.000000</td>\n",
       "      <td>1992.000000</td>\n",
       "      <td>49.460475</td>\n",
       "      <td>5.000000</td>\n",
       "    </tr>\n",
       "    <tr>\n",
       "      <th>50%</th>\n",
       "      <td>202302.000000</td>\n",
       "      <td>11680.000000</td>\n",
       "      <td>2023.000000</td>\n",
       "      <td>4.000000</td>\n",
       "      <td>16.000000</td>\n",
       "      <td>2003.000000</td>\n",
       "      <td>80.130000</td>\n",
       "      <td>8.000000</td>\n",
       "    </tr>\n",
       "    <tr>\n",
       "      <th>75%</th>\n",
       "      <td>202304.000000</td>\n",
       "      <td>11680.000000</td>\n",
       "      <td>2023.000000</td>\n",
       "      <td>6.000000</td>\n",
       "      <td>23.000000</td>\n",
       "      <td>2011.000000</td>\n",
       "      <td>101.988550</td>\n",
       "      <td>13.000000</td>\n",
       "    </tr>\n",
       "    <tr>\n",
       "      <th>max</th>\n",
       "      <td>202306.000000</td>\n",
       "      <td>11680.000000</td>\n",
       "      <td>2023.000000</td>\n",
       "      <td>12.000000</td>\n",
       "      <td>31.000000</td>\n",
       "      <td>2023.000000</td>\n",
       "      <td>301.470000</td>\n",
       "      <td>64.000000</td>\n",
       "    </tr>\n",
       "  </tbody>\n",
       "</table>\n",
       "</div>"
      ],
      "text/plain": [
       "                기준년월          지역코드            년            월            일  \\\n",
       "count    2302.000000   2302.000000  2302.000000  2302.000000  2302.000000   \n",
       "mean   202261.738923  11607.697654  2022.571242     4.614683    16.168115   \n",
       "std        48.717547    189.737573     0.495006     2.474663     8.576874   \n",
       "min    202201.000000  11110.000000  2022.000000     1.000000     1.000000   \n",
       "25%    202206.000000  11680.000000  2022.000000     3.000000     9.000000   \n",
       "50%    202302.000000  11680.000000  2023.000000     4.000000    16.000000   \n",
       "75%    202304.000000  11680.000000  2023.000000     6.000000    23.000000   \n",
       "max    202306.000000  11680.000000  2023.000000    12.000000    31.000000   \n",
       "\n",
       "              건축년도         전용면적            층  \n",
       "count  2302.000000  2302.000000  2302.000000  \n",
       "mean   2001.136838    81.173045     9.668983  \n",
       "std      12.163308    46.020959     7.153552  \n",
       "min    1966.000000    12.010000    -1.000000  \n",
       "25%    1992.000000    49.460475     5.000000  \n",
       "50%    2003.000000    80.130000     8.000000  \n",
       "75%    2011.000000   101.988550    13.000000  \n",
       "max    2023.000000   301.470000    64.000000  "
      ]
     },
     "execution_count": 4,
     "metadata": {},
     "output_type": "execute_result"
    }
   ],
   "source": [
    "df.describe()\n"
   ]
  },
  {
   "cell_type": "code",
   "execution_count": 5,
   "metadata": {},
   "outputs": [
    {
     "data": {
      "text/plain": [
       "0            138,000\n",
       "1            170,000\n",
       "2             84,000\n",
       "3             93,000\n",
       "4            408,000\n",
       "            ...     \n",
       "2297          50,000\n",
       "2298         220,000\n",
       "2299          37,400\n",
       "2300         281,000\n",
       "2301         420,000\n",
       "Name: 거래금액, Length: 2302, dtype: object"
      ]
     },
     "execution_count": 5,
     "metadata": {},
     "output_type": "execute_result"
    }
   ],
   "source": [
    "df[\"거래금액\"]"
   ]
  },
  {
   "cell_type": "markdown",
   "metadata": {},
   "source": [
    "거래금액에 콤마가 들어 있으면 계산시 문제 발생"
   ]
  },
  {
   "cell_type": "code",
   "execution_count": 6,
   "metadata": {},
   "outputs": [
    {
     "data": {
      "text/plain": [
       "'135000'"
      ]
     },
     "execution_count": 6,
     "metadata": {},
     "output_type": "execute_result"
    }
   ],
   "source": [
    "price = \"135,000\".replace(\",\",\"\")\n",
    "price"
   ]
  },
  {
   "cell_type": "code",
   "execution_count": 7,
   "metadata": {},
   "outputs": [
    {
     "name": "stdout",
     "output_type": "stream",
     "text": [
      "<class 'str'>\n"
     ]
    }
   ],
   "source": [
    "print(type(price))"
   ]
  },
  {
   "cell_type": "code",
   "execution_count": 8,
   "metadata": {},
   "outputs": [
    {
     "name": "stdout",
     "output_type": "stream",
     "text": [
      "<class 'int'>\n"
     ]
    }
   ],
   "source": [
    "iprice = int(price)\n",
    "print(type(iprice))"
   ]
  },
  {
   "cell_type": "code",
   "execution_count": 9,
   "metadata": {},
   "outputs": [],
   "source": [
    "df[\"거래금액\"] = df[\"거래금액\"].str.replace(\",\", \"\").astype(int)"
   ]
  },
  {
   "cell_type": "code",
   "execution_count": 10,
   "metadata": {},
   "outputs": [
    {
     "name": "stdout",
     "output_type": "stream",
     "text": [
      "<class 'pandas.core.series.Series'>\n"
     ]
    }
   ],
   "source": [
    "print(type(df[\"거래금액\"]))"
   ]
  },
  {
   "cell_type": "markdown",
   "metadata": {},
   "source": [
    "9번 블로겡서 콤마 제거하고 astype으로 형전환을 한 결과 다시 담는다.    \n",
    "현재 생성된 데이터 프레임에 수정된 결과를 반영한다."
   ]
  },
  {
   "cell_type": "code",
   "execution_count": 11,
   "metadata": {},
   "outputs": [
    {
     "data": {
      "text/html": [
       "<div>\n",
       "<style scoped>\n",
       "    .dataframe tbody tr th:only-of-type {\n",
       "        vertical-align: middle;\n",
       "    }\n",
       "\n",
       "    .dataframe tbody tr th {\n",
       "        vertical-align: top;\n",
       "    }\n",
       "\n",
       "    .dataframe thead th {\n",
       "        text-align: right;\n",
       "    }\n",
       "</style>\n",
       "<table border=\"1\" class=\"dataframe\">\n",
       "  <thead>\n",
       "    <tr style=\"text-align: right;\">\n",
       "      <th></th>\n",
       "      <th>기준년월</th>\n",
       "      <th>지역명</th>\n",
       "      <th>지역코드</th>\n",
       "      <th>법정동</th>\n",
       "      <th>아파트</th>\n",
       "      <th>거래금액</th>\n",
       "      <th>년</th>\n",
       "      <th>월</th>\n",
       "      <th>일</th>\n",
       "      <th>건축년도</th>\n",
       "      <th>전용면적</th>\n",
       "      <th>지번</th>\n",
       "      <th>층</th>\n",
       "    </tr>\n",
       "  </thead>\n",
       "  <tbody>\n",
       "    <tr>\n",
       "      <th>0</th>\n",
       "      <td>202306</td>\n",
       "      <td>종로구</td>\n",
       "      <td>11110</td>\n",
       "      <td>사직동</td>\n",
       "      <td>광화문스페이스본(101동~105동)</td>\n",
       "      <td>138000</td>\n",
       "      <td>2023</td>\n",
       "      <td>6</td>\n",
       "      <td>9</td>\n",
       "      <td>2008</td>\n",
       "      <td>95.880</td>\n",
       "      <td>9</td>\n",
       "      <td>9</td>\n",
       "    </tr>\n",
       "    <tr>\n",
       "      <th>1</th>\n",
       "      <td>202306</td>\n",
       "      <td>종로구</td>\n",
       "      <td>11110</td>\n",
       "      <td>사직동</td>\n",
       "      <td>광화문스페이스본(101동~105동)</td>\n",
       "      <td>170000</td>\n",
       "      <td>2023</td>\n",
       "      <td>6</td>\n",
       "      <td>10</td>\n",
       "      <td>2008</td>\n",
       "      <td>146.920</td>\n",
       "      <td>9</td>\n",
       "      <td>8</td>\n",
       "    </tr>\n",
       "    <tr>\n",
       "      <th>2</th>\n",
       "      <td>202306</td>\n",
       "      <td>종로구</td>\n",
       "      <td>11110</td>\n",
       "      <td>사직동</td>\n",
       "      <td>사직아파트</td>\n",
       "      <td>84000</td>\n",
       "      <td>2023</td>\n",
       "      <td>6</td>\n",
       "      <td>12</td>\n",
       "      <td>1970</td>\n",
       "      <td>116.230</td>\n",
       "      <td>1-8</td>\n",
       "      <td>6</td>\n",
       "    </tr>\n",
       "    <tr>\n",
       "      <th>3</th>\n",
       "      <td>202306</td>\n",
       "      <td>종로구</td>\n",
       "      <td>11110</td>\n",
       "      <td>당주동</td>\n",
       "      <td>롯데미도파광화문빌딩</td>\n",
       "      <td>93000</td>\n",
       "      <td>2023</td>\n",
       "      <td>6</td>\n",
       "      <td>20</td>\n",
       "      <td>1981</td>\n",
       "      <td>149.950</td>\n",
       "      <td>145</td>\n",
       "      <td>9</td>\n",
       "    </tr>\n",
       "    <tr>\n",
       "      <th>4</th>\n",
       "      <td>202306</td>\n",
       "      <td>종로구</td>\n",
       "      <td>11110</td>\n",
       "      <td>신문로2가</td>\n",
       "      <td>디팰리스</td>\n",
       "      <td>408000</td>\n",
       "      <td>2023</td>\n",
       "      <td>6</td>\n",
       "      <td>24</td>\n",
       "      <td>2020</td>\n",
       "      <td>148.111</td>\n",
       "      <td>171</td>\n",
       "      <td>10</td>\n",
       "    </tr>\n",
       "    <tr>\n",
       "      <th>...</th>\n",
       "      <td>...</td>\n",
       "      <td>...</td>\n",
       "      <td>...</td>\n",
       "      <td>...</td>\n",
       "      <td>...</td>\n",
       "      <td>...</td>\n",
       "      <td>...</td>\n",
       "      <td>...</td>\n",
       "      <td>...</td>\n",
       "      <td>...</td>\n",
       "      <td>...</td>\n",
       "      <td>...</td>\n",
       "      <td>...</td>\n",
       "    </tr>\n",
       "    <tr>\n",
       "      <th>2297</th>\n",
       "      <td>202201</td>\n",
       "      <td>강남구</td>\n",
       "      <td>11680</td>\n",
       "      <td>도곡동</td>\n",
       "      <td>현대비젼21</td>\n",
       "      <td>50000</td>\n",
       "      <td>2022</td>\n",
       "      <td>1</td>\n",
       "      <td>14</td>\n",
       "      <td>1999</td>\n",
       "      <td>35.480</td>\n",
       "      <td>467-19</td>\n",
       "      <td>20</td>\n",
       "    </tr>\n",
       "    <tr>\n",
       "      <th>2298</th>\n",
       "      <td>202201</td>\n",
       "      <td>강남구</td>\n",
       "      <td>11680</td>\n",
       "      <td>도곡동</td>\n",
       "      <td>삼성</td>\n",
       "      <td>220000</td>\n",
       "      <td>2022</td>\n",
       "      <td>1</td>\n",
       "      <td>15</td>\n",
       "      <td>1994</td>\n",
       "      <td>84.910</td>\n",
       "      <td>161</td>\n",
       "      <td>5</td>\n",
       "    </tr>\n",
       "    <tr>\n",
       "      <th>2299</th>\n",
       "      <td>202201</td>\n",
       "      <td>강남구</td>\n",
       "      <td>11680</td>\n",
       "      <td>도곡동</td>\n",
       "      <td>SK허브프리모</td>\n",
       "      <td>37400</td>\n",
       "      <td>2022</td>\n",
       "      <td>1</td>\n",
       "      <td>18</td>\n",
       "      <td>2006</td>\n",
       "      <td>33.800</td>\n",
       "      <td>953-1</td>\n",
       "      <td>8</td>\n",
       "    </tr>\n",
       "    <tr>\n",
       "      <th>2300</th>\n",
       "      <td>202201</td>\n",
       "      <td>강남구</td>\n",
       "      <td>11680</td>\n",
       "      <td>도곡동</td>\n",
       "      <td>한신(개포)</td>\n",
       "      <td>281000</td>\n",
       "      <td>2022</td>\n",
       "      <td>1</td>\n",
       "      <td>23</td>\n",
       "      <td>1985</td>\n",
       "      <td>83.860</td>\n",
       "      <td>464</td>\n",
       "      <td>5</td>\n",
       "    </tr>\n",
       "    <tr>\n",
       "      <th>2301</th>\n",
       "      <td>202201</td>\n",
       "      <td>강남구</td>\n",
       "      <td>11680</td>\n",
       "      <td>도곡동</td>\n",
       "      <td>타워팰리스3</td>\n",
       "      <td>420000</td>\n",
       "      <td>2022</td>\n",
       "      <td>1</td>\n",
       "      <td>27</td>\n",
       "      <td>2004</td>\n",
       "      <td>163.567</td>\n",
       "      <td>467-29</td>\n",
       "      <td>42</td>\n",
       "    </tr>\n",
       "  </tbody>\n",
       "</table>\n",
       "<p>2302 rows × 13 columns</p>\n",
       "</div>"
      ],
      "text/plain": [
       "        기준년월  지역명   지역코드     법정동                  아파트    거래금액     년  월   일  \\\n",
       "0     202306  종로구  11110     사직동  광화문스페이스본(101동~105동)  138000  2023  6   9   \n",
       "1     202306  종로구  11110     사직동  광화문스페이스본(101동~105동)  170000  2023  6  10   \n",
       "2     202306  종로구  11110     사직동                사직아파트   84000  2023  6  12   \n",
       "3     202306  종로구  11110     당주동           롯데미도파광화문빌딩   93000  2023  6  20   \n",
       "4     202306  종로구  11110   신문로2가                 디팰리스  408000  2023  6  24   \n",
       "...      ...  ...    ...     ...                  ...     ...   ... ..  ..   \n",
       "2297  202201  강남구  11680     도곡동               현대비젼21   50000  2022  1  14   \n",
       "2298  202201  강남구  11680     도곡동                   삼성  220000  2022  1  15   \n",
       "2299  202201  강남구  11680     도곡동              SK허브프리모   37400  2022  1  18   \n",
       "2300  202201  강남구  11680     도곡동               한신(개포)  281000  2022  1  23   \n",
       "2301  202201  강남구  11680     도곡동               타워팰리스3  420000  2022  1  27   \n",
       "\n",
       "      건축년도     전용면적      지번   층  \n",
       "0     2008   95.880       9   9  \n",
       "1     2008  146.920       9   8  \n",
       "2     1970  116.230     1-8   6  \n",
       "3     1981  149.950     145   9  \n",
       "4     2020  148.111     171  10  \n",
       "...    ...      ...     ...  ..  \n",
       "2297  1999   35.480  467-19  20  \n",
       "2298  1994   84.910     161   5  \n",
       "2299  2006   33.800   953-1   8  \n",
       "2300  1985   83.860     464   5  \n",
       "2301  2004  163.567  467-29  42  \n",
       "\n",
       "[2302 rows x 13 columns]"
      ]
     },
     "execution_count": 11,
     "metadata": {},
     "output_type": "execute_result"
    }
   ],
   "source": [
    "df"
   ]
  },
  {
   "cell_type": "code",
   "execution_count": 12,
   "metadata": {},
   "outputs": [
    {
     "data": {
      "text/plain": [
       "(2302, 13)"
      ]
     },
     "execution_count": 12,
     "metadata": {},
     "output_type": "execute_result"
    }
   ],
   "source": [
    "df.shape"
   ]
  },
  {
   "cell_type": "code",
   "execution_count": 13,
   "metadata": {},
   "outputs": [
    {
     "data": {
      "text/plain": [
       "기준년월\n",
       "202201     76\n",
       "202202     85\n",
       "202203    114\n",
       "202204    139\n",
       "202205    136\n",
       "202206     84\n",
       "202207     70\n",
       "202208    113\n",
       "202209     48\n",
       "202210     35\n",
       "202211     38\n",
       "202212     49\n",
       "202301    113\n",
       "202302    214\n",
       "202303    211\n",
       "202304    216\n",
       "202305    291\n",
       "202306    270\n",
       "Name: 거래금액, dtype: int64"
      ]
     },
     "execution_count": 13,
     "metadata": {},
     "output_type": "execute_result"
    }
   ],
   "source": [
    "df_cnt = df.groupby(\"기준년월\").count()[\"거래금액\"]\n",
    "df_cnt"
   ]
  },
  {
   "cell_type": "code",
   "execution_count": 16,
   "metadata": {},
   "outputs": [
    {
     "name": "stdout",
     "output_type": "stream",
     "text": [
      "<class 'pandas.core.series.Series'>\n"
     ]
    }
   ],
   "source": [
    "print(type(df_cnt))"
   ]
  },
  {
   "cell_type": "code",
   "execution_count": null,
   "metadata": {},
   "outputs": [
    {
     "data": {
      "text/plain": [
       "array([ 76,  85, 114, 139, 136,  84,  70, 113,  48,  35,  38,  49, 113,\n",
       "       214, 211, 216, 291, 270])"
      ]
     },
     "execution_count": 17,
     "metadata": {},
     "output_type": "execute_result"
    }
   ],
   "source": [
    "x1 = df_cnt.values\n",
    "x1"
   ]
  },
  {
   "cell_type": "markdown",
   "metadata": {},
   "source": [
    "기본 차트 그려보기\n",
    "np.arange(len(df_cnt.index)): 0에서 len(df_cnt.index)-1 사이의 값 배열 생성합니다.    \n",
    "이 값으로 x축의 눈금 위치를 생성합니다.   "
   ]
  },
  {
   "cell_type": "markdown",
   "metadata": {},
   "source": [
    "1. x축 눈금 및 레이블 설정\n",
    "2. x축 눈금 레이블 회전\n",
    "3. 데이터 플롯팅\n",
    "4. 출력하기"
   ]
  },
  {
   "cell_type": "code",
   "execution_count": 26,
   "metadata": {},
   "outputs": [
    {
     "data": {
      "image/png": "[encoded data removed]",
      "text/plain": [
       "<Figure size 640x480 with 1 Axes>"
      ]
     },
     "metadata": {},
     "output_type": "display_data"
    }
   ],
   "source": [
    "import matplotlib.pyplot as plt\n",
    "import numpy as np\n",
    "plt.xticks(np.arange(len(df_cnt)), labels=df_cnt.index)\n",
    "plt.tick_params(axis='x', labelrotation=60)\n",
    "plt.plot(x1) # x1에 저장된 데이터를 선 그래프로 그린다.\n",
    "plt.show() # 그래프를 화면에 출력하는 역할"
   ]
  },
  {
   "cell_type": "markdown",
   "metadata": {},
   "source": [
    "거래금액에 대한 기준년월별 평균 거래 금액을 출력하시오."
   ]
  },
  {
   "cell_type": "code",
   "execution_count": null,
   "metadata": {},
   "outputs": [],
   "source": [
    "df"
   ]
  },
  {
   "cell_type": "code",
   "execution_count": null,
   "metadata": {},
   "outputs": [],
   "source": []
  }
 ],
 "metadata": {
  "kernelspec": {
   "display_name": "basic-step1",
   "language": "python",
   "name": "basic-step1"
  },
  "language_info": {
   "codemirror_mode": {
    "name": "ipython",
    "version": 3
   },
   "file_extension": ".py",
   "mimetype": "text/x-python",
   "name": "python",
   "nbconvert_exporter": "python",
   "pygments_lexer": "ipython3",
   "version": "3.11.9"
  }
 },
 "nbformat": 4,
 "nbformat_minor": 2
}
