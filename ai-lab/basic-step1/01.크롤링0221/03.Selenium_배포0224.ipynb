{
 "cells": [
  {
   "cell_type": "markdown",
   "metadata": {},
   "source": [
    "## Selenium \n",
    "1. selenium으로 웹페이지의 요소를 가져오기\n",
    "    - selenium으로 웹페이지의 요소를 가져오기\n",
    "        - selenium은 html의 다양한 요소에 접근할 수 있는 method를 제공함\n",
    "        - 해당 페이지의 id, class, 태그, css선택자 등 거의 모든 요소에 접근 가능 \n",
    "2. 요소에 접근할 때 사용하는 주요 method\n",
    "    - find_element\n",
    "        - 해당 요소(id, class, tag 등) 하나를 가져옴\n",
    "        - 똑같은 요소가 여러개라면 첫번째 요소만 가져옴\n",
    "    - find_elements 사용\n",
    "        - 똑같은 요소가 여러개 일 때 해당 요소를 모두 가져옴\n",
    "        - python list타입으로 가져올 수 있음\n",
    "3. find_element 사용 방법\n",
    "    - from selenium.webdriver.common.by import By 를 작성해야 함\n",
    "    - 태그 요소 가져오기\n",
    "        - find_element(By.TAG_NAME, '태그이름')\n",
    "        - ex) find_element(By.TAG_NAME, 'div')\n",
    "    - id 요소 가져오기\n",
    "        - find_element(By.ID, 'id_name')\n",
    "        - ex) find_element(By.ID, 'username')\n",
    "    - class 요소 가져오기\n",
    "        - find_element(By.CLASS_NAME, 'class name')\n",
    "        - class 는 여러 개의 태그에 적용되는 경우가 대부분이기 때문에 특정 class요소를\n",
    "        가져오는 경우에는 find_elements 쓰는 것을 권장\n",
    "        - ex) class가 btn인 요소 가져오기 : find_element(By.CLASS_NAME, 'btn')\n",
    "    - css selector로 요소 가져오기\n",
    "        - find_element(By.CSS_SELECTOR, '선택자 문법')\n",
    "        - ex) input 태그의 name이 username인 요소 가져오기\n",
    "        : find_element(By.CSS_SELECTOR, 'input[name=\"username\"]')\n",
    "\n",
    "4. find_elements 사용 방법\n",
    "    - 사용법은 find_element와 동일함\n",
    "    - find_elements() method를 사용하면 list로 요소를 반환하므로 반복문으로 접근\n"
   ]
  },
  {
   "cell_type": "markdown",
   "metadata": {},
   "source": [
    "5. 실습"
   ]
  },
  {
   "cell_type": "code",
   "execution_count": 1,
   "metadata": {},
   "outputs": [
    {
     "name": "stdout",
     "output_type": "stream",
     "text": [
      "Collecting selenium\n",
      "  Downloading selenium-4.29.0-py3-none-any.whl.metadata (7.1 kB)\n",
      "Requirement already satisfied: urllib3<3,>=1.26 in c:\\users\\mtwd9\\desktop\\수업백업\\ai-lab\\basic-step1\\lib\\site-packages (from urllib3[socks]<3,>=1.26->selenium) (2.3.0)\n",
      "Collecting trio~=0.17 (from selenium)\n",
      "  Downloading trio-0.29.0-py3-none-any.whl.metadata (8.5 kB)\n",
      "Collecting trio-websocket~=0.9 (from selenium)\n",
      "  Downloading trio_websocket-0.12.1-py3-none-any.whl.metadata (5.1 kB)\n",
      "Requirement already satisfied: certifi>=2021.10.8 in c:\\users\\mtwd9\\desktop\\수업백업\\ai-lab\\basic-step1\\lib\\site-packages (from selenium) (2025.1.31)\n",
      "Requirement already satisfied: typing_extensions~=4.9 in c:\\users\\mtwd9\\desktop\\수업백업\\ai-lab\\basic-step1\\lib\\site-packages (from selenium) (4.12.2)\n",
      "Collecting websocket-client~=1.8 (from selenium)\n",
      "  Using cached websocket_client-1.8.0-py3-none-any.whl.metadata (8.0 kB)\n",
      "Collecting attrs>=23.2.0 (from trio~=0.17->selenium)\n",
      "  Using cached attrs-25.1.0-py3-none-any.whl.metadata (10 kB)\n",
      "Collecting sortedcontainers (from trio~=0.17->selenium)\n",
      "  Downloading sortedcontainers-2.4.0-py2.py3-none-any.whl.metadata (10 kB)\n",
      "Requirement already satisfied: idna in c:\\users\\mtwd9\\desktop\\수업백업\\ai-lab\\basic-step1\\lib\\site-packages (from trio~=0.17->selenium) (3.10)\n",
      "Collecting outcome (from trio~=0.17->selenium)\n",
      "  Downloading outcome-1.3.0.post0-py2.py3-none-any.whl.metadata (2.6 kB)\n",
      "Collecting sniffio>=1.3.0 (from trio~=0.17->selenium)\n",
      "  Using cached sniffio-1.3.1-py3-none-any.whl.metadata (3.9 kB)\n",
      "Collecting cffi>=1.14 (from trio~=0.17->selenium)\n",
      "  Using cached cffi-1.17.1-cp311-cp311-win_amd64.whl.metadata (1.6 kB)\n",
      "Collecting wsproto>=0.14 (from trio-websocket~=0.9->selenium)\n",
      "  Downloading wsproto-1.2.0-py3-none-any.whl.metadata (5.6 kB)\n",
      "Collecting pysocks!=1.5.7,<2.0,>=1.5.6 (from urllib3[socks]<3,>=1.26->selenium)\n",
      "  Downloading PySocks-1.7.1-py3-none-any.whl.metadata (13 kB)\n",
      "Collecting pycparser (from cffi>=1.14->trio~=0.17->selenium)\n",
      "  Using cached pycparser-2.22-py3-none-any.whl.metadata (943 bytes)\n",
      "Collecting h11<1,>=0.9.0 (from wsproto>=0.14->trio-websocket~=0.9->selenium)\n",
      "  Using cached h11-0.14.0-py3-none-any.whl.metadata (8.2 kB)\n",
      "Downloading selenium-4.29.0-py3-none-any.whl (9.5 MB)\n",
      "   ---------------------------------------- 0.0/9.5 MB ? eta -:--:--\n",
      "   ------------- -------------------------- 3.1/9.5 MB 14.1 MB/s eta 0:00:01\n",
      "   ---------------------------------------- 9.5/9.5 MB 32.9 MB/s eta 0:00:00\n",
      "Downloading trio-0.29.0-py3-none-any.whl (492 kB)\n",
      "Downloading trio_websocket-0.12.1-py3-none-any.whl (21 kB)\n",
      "Using cached websocket_client-1.8.0-py3-none-any.whl (58 kB)\n",
      "Using cached attrs-25.1.0-py3-none-any.whl (63 kB)\n",
      "Using cached cffi-1.17.1-cp311-cp311-win_amd64.whl (181 kB)\n",
      "Downloading outcome-1.3.0.post0-py2.py3-none-any.whl (10 kB)\n",
      "Downloading PySocks-1.7.1-py3-none-any.whl (16 kB)\n",
      "Using cached sniffio-1.3.1-py3-none-any.whl (10 kB)\n",
      "Downloading wsproto-1.2.0-py3-none-any.whl (24 kB)\n",
      "Downloading sortedcontainers-2.4.0-py2.py3-none-any.whl (29 kB)\n",
      "Using cached h11-0.14.0-py3-none-any.whl (58 kB)\n",
      "Using cached pycparser-2.22-py3-none-any.whl (117 kB)\n",
      "Installing collected packages: sortedcontainers, websocket-client, sniffio, pysocks, pycparser, h11, attrs, wsproto, outcome, cffi, trio, trio-websocket, selenium\n",
      "Successfully installed attrs-25.1.0 cffi-1.17.1 h11-0.14.0 outcome-1.3.0.post0 pycparser-2.22 pysocks-1.7.1 selenium-4.29.0 sniffio-1.3.1 sortedcontainers-2.4.0 trio-0.29.0 trio-websocket-0.12.1 websocket-client-1.8.0 wsproto-1.2.0\n",
      "Note: you may need to restart the kernel to use updated packages.\n"
     ]
    }
   ],
   "source": [
    "pip install selenium"
   ]
  },
  {
   "cell_type": "code",
   "execution_count": 2,
   "metadata": {},
   "outputs": [],
   "source": [
    "from selenium import webdriver\n",
    "from selenium.webdriver.common.by import By\n",
    "import time"
   ]
  },
  {
   "cell_type": "markdown",
   "metadata": {},
   "source": [
    "a. 태그 요소 가져오기"
   ]
  },
  {
   "cell_type": "code",
   "execution_count": 3,
   "metadata": {},
   "outputs": [
    {
     "name": "stdout",
     "output_type": "stream",
     "text": [
      "<selenium.webdriver.remote.webelement.WebElement (session=\"995bbf51467174f64e759efc34712571\", element=\"f.CE2523A1BF3BFBF08DB9C02BA685DCFA.d.FD6B5E17F234EAC850643FB5420AEC14.e.2\")>\n",
      "This domain is for use in illustrative examples in documents. You may use this domain in literature without prior coordination or asking for permission.\n"
     ]
    }
   ],
   "source": [
    "driver = webdriver.Chrome()\n",
    "driver.get(\"https://www.example.com\")\n",
    "\n",
    "# p 태그 요소 가져오기\n",
    "p_element = driver.find_element(By.TAG_NAME, 'p')\n",
    "time.sleep(5)\n",
    "print(p_element) # 사람이 알아 볼 수 없는 내용이 출력된다.\n",
    "\n",
    "# 텍스트만 출력 - 사람이 알아 볼 수 있는 내용이 출력된다.\n",
    "print(p_element.text)\n",
    "driver.close()"
   ]
  },
  {
   "cell_type": "markdown",
   "metadata": {},
   "source": [
    "b. p태그 요소 모두 가져와서 출력하기"
   ]
  },
  {
   "cell_type": "code",
   "execution_count": null,
   "metadata": {},
   "outputs": [
    {
     "name": "stdout",
     "output_type": "stream",
     "text": [
      "[<selenium.webdriver.remote.webelement.WebElement (session=\"4c163e346536aae176cc3dc9e8732377\", element=\"f.506A72C0792A421164C9D222692A3AB2.d.03CA9572779479BF3675B31566D924D7.e.2\")>, <selenium.webdriver.remote.webelement.WebElement (session=\"4c163e346536aae176cc3dc9e8732377\", element=\"f.506A72C0792A421164C9D222692A3AB2.d.03CA9572779479BF3675B31566D924D7.e.3\")>]\n",
      "<class 'list'>\n",
      "<selenium.webdriver.remote.webelement.WebElement (session=\"4c163e346536aae176cc3dc9e8732377\", element=\"f.506A72C0792A421164C9D222692A3AB2.d.03CA9572779479BF3675B31566D924D7.e.2\")>\n",
      "This domain is for use in illustrative examples in documents. You may use this domain in literature without prior coordination or asking for permission.\n",
      "<selenium.webdriver.remote.webelement.WebElement (session=\"4c163e346536aae176cc3dc9e8732377\", element=\"f.506A72C0792A421164C9D222692A3AB2.d.03CA9572779479BF3675B31566D924D7.e.3\")>\n",
      "More information...\n"
     ]
    }
   ],
   "source": [
    "driver = webdriver.Chrome()\n",
    "driver.get(\"https://www.example.com\")\n",
    "\n",
    "# p 태그 요소 모두 가져오기 \n",
    "p_elements = driver.find_elements(By.TAG_NAME, 'p')\n",
    "time.sleep(5)\n",
    "print(p_elements)\n",
    "\n",
    "# p_elements의 타입 확인\n",
    "print(type(p_elements))\n",
    "for p in p_elements:\n",
    "    print(p) # 의미있는 값은 아니다 - 디버깅시에 필요할 것이다. \n",
    "    print(p.text)"
   ]
  },
  {
   "cell_type": "markdown",
   "metadata": {},
   "source": [
    "c. id요소 접근하기"
   ]
  },
  {
   "cell_type": "code",
   "execution_count": 4,
   "metadata": {},
   "outputs": [
    {
     "name": "stdout",
     "output_type": "stream",
     "text": [
      "<selenium.webdriver.remote.webelement.WebElement (session=\"a6ee4e2b8a732d55a32cff1852d0f400\", element=\"f.C04A6FD86C207232E5AB752C3F0C6B31.d.ADF63084B1057070A5A598730966FCCF.e.1074\")>\n",
      "About\n",
      "Applications\n",
      "Quotes\n",
      "Getting Started\n",
      "Help\n",
      "Python Brochure\n",
      "Downloads\n",
      "All releases\n",
      "Source code\n",
      "Windows\n",
      "macOS\n",
      "Other Platforms\n",
      "License\n",
      "Alternative Implementations\n",
      "Documentation\n",
      "Docs\n",
      "Audio/Visual Talks\n",
      "Beginner's Guide\n",
      "Developer's Guide\n",
      "FAQ\n",
      "Non-English Docs\n",
      "PEP Index\n",
      "Python Books\n",
      "Python Essays\n",
      "Community\n",
      "Diversity\n",
      "Mailing Lists\n",
      "IRC\n",
      "Forums\n",
      "PSF Annual Impact Report\n",
      "Python Conferences\n",
      "Special Interest Groups\n",
      "Python Logo\n",
      "Python Wiki\n",
      "Code of Conduct\n",
      "Community Awards\n",
      "Get Involved\n",
      "Shared Stories\n",
      "Success Stories\n",
      "Arts\n",
      "Business\n",
      "Education\n",
      "Engineering\n",
      "Government\n",
      "Scientific\n",
      "Software Development\n",
      "News\n",
      "Python News\n",
      "PSF Newsletter\n",
      "PSF News\n",
      "PyCon US News\n",
      "News from the Community\n",
      "Events\n",
      "Python Events\n",
      "User Group Events\n",
      "Python Events Archive\n",
      "User Group Events Archive\n",
      "Submit an Event\n",
      "Contributing\n",
      "Developer's Guide\n",
      "Issue Tracker\n",
      "python-dev list\n",
      "Core Mentorship\n",
      "Report a Security Issue\n",
      "Help & General Contact\n",
      "Diversity Initiatives\n",
      "Submit Website Bug\n",
      "Status\n",
      "Copyright ©2001-2024.  Python Software Foundation  Legal Statements  Privacy Policy\n"
     ]
    }
   ],
   "source": [
    "driver = webdriver.Chrome()\n",
    "driver.get(\"https://www.python.org/\")\n",
    "id_element = driver.find_element(By.ID, 'site-map')\n",
    "time.sleep(5)\n",
    "\n",
    "print(id_element)\n",
    "print(id_element.text)"
   ]
  },
  {
   "cell_type": "markdown",
   "metadata": {},
   "source": [
    "d. class요소 접근하기"
   ]
  },
  {
   "cell_type": "code",
   "execution_count": 5,
   "metadata": {},
   "outputs": [
    {
     "name": "stdout",
     "output_type": "stream",
     "text": [
      "Get Started\n",
      "Whether you're new to programming or an experienced developer, it's easy to learn and use Python.\n",
      "Start with our Beginner’s Guide\n",
      "Download\n",
      "Python source code and installers are available for download for all versions!\n",
      "Latest: Python 3.12.4\n",
      "Docs\n",
      "Documentation for Python's standard library, along with tutorials and guides, are available online.\n",
      "docs.python.org\n",
      "Jobs\n",
      "Looking for work or have a Python related position that you're trying to hire for? Our relaunched community-run job board is the place to go.\n",
      "jobs.python.org\n",
      "Latest News\n",
      "More\n",
      "2024-08-01\n",
      "Python 3.13.0 release candidate 1 released\n",
      "2024-07-26\n",
      "Notice of Python Software Foundation Bylaws change, effective 10 August 2024\n",
      "2024-07-26\n",
      "Python’s Supportive and Welcoming Environment is Tightly Coupled to Its Progress\n",
      "2024-07-18\n",
      "PSF Board update on improvements to the PSF Grants program\n",
      "2024-07-18\n",
      "Python 3.13.0 beta 4 released\n",
      "Upcoming Events\n",
      "More\n",
      "2024-08-09\n",
      "Python Nordeste 2024\n",
      "2024-08-10\n",
      "Python Communities - South West Region\n",
      "2024-08-12\n",
      "Python Community Building and Training event\n",
      "2024-08-16\n",
      "SheDevelopers: Python Mastery Workshop 1st Edition\n",
      "2024-08-21\n",
      "PyCon Somalia 2024\n",
      "Success Stories\n",
      "More\n",
      "Thanks to the flexibility of Python and the powerful ecosystem of packages, the Azure CLI supports features such as autocompletion (in shells that support it), persistent credentials, JMESPath result parsing, lazy initialization, network-less unit tests, and more.\n",
      "Building an open-source and cross-platform Azure CLI with Python by Dan Taylor\n",
      "Use Python for…\n",
      "More\n",
      "Web Development: Django, Pyramid, Bottle, Tornado, Flask, web2py\n",
      "GUI Development: tkInter, PyGObject, PyQt, PySide, Kivy, wxPython, DearPyGui\n",
      "Scientific and Numeric: SciPy, Pandas, IPython\n",
      "Software Development: Buildbot, Trac, Roundup\n",
      "System Administration: Ansible, Salt, OpenStack, xonsh\n",
      ">>> Python Enhancement Proposals: The future of Python\n",
      "RSS\n",
      ">>> Python Software Foundation\n",
      "The mission of the Python Software Foundation is to promote, protect, and advance the Python programming language, and to support and facilitate the growth of a diverse and international community of Python programmers. Learn more\n",
      "Become a Member Donate to the PSF\n"
     ]
    }
   ],
   "source": [
    "driver = webdriver.Chrome()\n",
    "driver.get(\"https://www.python.org/\")\n",
    "class_element = driver.find_elements(By.CLASS_NAME, 'main-content')\n",
    "time.sleep(5)\n",
    "\n",
    "for c in class_element:\n",
    "    print(c.text)"
   ]
  },
  {
   "cell_type": "markdown",
   "metadata": {},
   "source": [
    "6. xpath\n",
    "- W3C 표준으로 문서의 구조를 통해 경로 위에 지정한 구문을 사용하여 항목을 배치하고 처리하는 방법을 기술하는 언어\n",
    "    - W3C(World Wide Web Consortium) : 웹 표준, 웹 가이드 라인 등을 개발하는 국제 컨소시엄\n",
    "- xml문장 속의 요소, 속성 등을 지정하기 위한 언어\n",
    "- html도 xml 의 일종이기 때문에 xpath로 해당 요소에 접근하는 것이 가능함\n",
    "- 브라우저 개발자 도구에서도 xpath 복사하는 기능 제공\n",
    "\n",
    "7. example.com에서 xpath 확인해보기\n",
    "- 브라우저에서 example.com 접속\n",
    "- F12 개발자 도구 열기\n",
    "- h1 태그 요소에 접근하여 xpath 복사하기\n",
    "    - 해당요소에서 우클릭 후 Copy > Copy Xpath 클릭하면 해당 요소의 xpath를 복사할 수 있음\n",
    "\n",
    "8. selenium 동작 제어 method\n",
    "- find_element 로 가져온 요소 클릭하기\n",
    "    - driver.find_element(By.XPATH, 'xpath값').click()\n",
    "- find_element 로 가져온 요소에 값 작성하기\n",
    "    - input 요소에 접근을 한 뒤 send_keys()로 입력할 값 전달\n",
    "    - driver.find_element(By.XPATH, 'xpath값').send_keys('입력값')\n"
   ]
  },
  {
   "cell_type": "code",
   "execution_count": null,
   "metadata": {},
   "outputs": [
    {
     "name": "stdout",
     "output_type": "stream",
     "text": [
      "NAVER\n"
     ]
    }
   ],
   "source": [
    "# 브라우저 실행\n",
    "driver = webdriver.Chrome()\n",
    "\n",
    "# 접속\n",
    "driver.get(\"https://www.naver.com\")\n",
    "\n",
    "# 브라우저 정보 가져오기 \n",
    "title = driver.title\n",
    "print(title)\n",
    "\n",
    "# 로그인 버튼 클릭해보기\n",
    "# 개발자 도구에서 로그인 버튼에 대한 xpath 복사 - xpath란 현재태그에 대한 트리구조 전부 보여주는 것이다.\n",
    "# 아래는 네이버 개발자 센터에서 로그인버튼을 선택(a태그로되어있음)한 후 선택 후 오른쪽 버튼 ->복사\n",
    "# xpath 복사 아이템을 선택한 후 복사 붙여넣기 한 것이 아래 이다. \n",
    "# //*[@id=\"account\"]/div/a\n",
    "login_button = driver.find_element(By.XPATH, '//*[@id=\"account\"]/div/a')\n",
    "login_button.click() # 셀레니옴으로 로그인버튼을 클릭하는 것을 처리하는 코드이다.\n",
    "\n",
    "# 바로 닫히지 않게 대기(확인을 위해) \n",
    "time.sleep(5)"
   ]
  },
  {
   "cell_type": "markdown",
   "metadata": {},
   "source": [
    "검색창에 한동훈 입력하고 검색 버튼 클릭해 보기"
   ]
  },
  {
   "cell_type": "code",
   "execution_count": null,
   "metadata": {},
   "outputs": [],
   "source": [
    "# 브라우저 실행\n",
    "driver = webdriver.Chrome()\n",
    "\n",
    "# 접속\n",
    "driver.get(\"https://www.naver.com\")\n",
    "\n",
    "# 검색창에 파이썬이라고 입력하고 검색버튼 클릭해보기 \n",
    "# // 네이버 검색창 선택한 후 오른쪽 버튼 -> 복사 -> xpath복사 선택한 값이 이것이다. -> *[@id=\"query\"]\n",
    "search = driver.find_element(By.XPATH, '//*[@id=\"query\"]') # 검색창에 대한 부분을 가져오는 코드이다.\n",
    "\n",
    "# 네이버 검색창에 한동훈을 입력하고 검색 버튼을 누르는 효과를 코딩한 것이다.\n",
    "search.send_keys(\"파이썬\") # send_keys는 셀레니옴이 제공하는 함수이다.\n",
    "\n",
    "# 입력하는 것 까지 확인하고 검색 버튼 클릭 - // 돋보기버튼을 가져오는 xpath값 복사한 것이다. -*[@id=\"search-btn\"]\n",
    "search_button = driver.find_element(By.XPATH, '//*[@id=\"search-btn\"]')\n",
    "search_button.click() # 검색 버튼을 클릭하는 코드이다.\n",
    "time.sleep(5)"
   ]
  }
 ],
 "metadata": {
  "kernelspec": {
   "display_name": "basic-step1",
   "language": "python",
   "name": "python3"
  },
  "language_info": {
   "codemirror_mode": {
    "name": "ipython",
    "version": 3
   },
   "file_extension": ".py",
   "mimetype": "text/x-python",
   "name": "python",
   "nbconvert_exporter": "python",
   "pygments_lexer": "ipython3",
   "version": "3.11.9"
  }
 },
 "nbformat": 4,
 "nbformat_minor": 2
}
