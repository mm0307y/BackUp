{
 "cells": [
  {
   "cell_type": "code",
   "execution_count": 1,
   "metadata": {},
   "outputs": [
    {
     "data": {
      "text/plain": [
       "'354'"
      ]
     },
     "execution_count": 1,
     "metadata": {},
     "output_type": "execute_result"
    }
   ],
   "source": [
    "from selenium import webdriver\n",
    "from bs4 import BeautifulSoup\n",
    "from selenium.webdriver.support.ui import WebDriverWait\n",
    "from selenium.webdriver.support import expected_conditions as EC\n",
    "from selenium.webdriver.common.by import By\n",
    "\n",
    "driver = webdriver.Chrome()\n",
    "# https://n.news.naver.com/article/015/0005098066?sid=101\n",
    "# url = \"https://n.news.naver.com/article/015/0005098141?sid=105\"\n",
    "url = \"https://n.news.naver.com/article/015/0005098066?sid=105\"\n",
    "driver.get(url)\n",
    "\n",
    "# 요청을 한  다음 10초간 기다리는데 element를 찾을 때 까지 기다린다.\n",
    "# 이 부분에 대한 처리가 없다면 get_text()에서  NoneType  에러 발생한다.\n",
    "WebDriverWait(driver, 10).until(EC.presence_of_element_located((By.CSS_SELECTOR, 'span.u_cbox_count')))\n",
    "src = driver.page_source\n",
    "soup = BeautifulSoup(src)\n",
    "comment = soup.select_one(\"span.u_cbox_count\")\n",
    "\n",
    "# 에러가 발생한 이유는 위 페이지가 아직 로딩이 되지 않아서 NoneType이 발생한다.\n",
    "comment.get_text()"
   ]
  }
 ],
 "metadata": {
  "kernelspec": {
   "display_name": "basic-step1",
   "language": "python",
   "name": "python3"
  },
  "language_info": {
   "codemirror_mode": {
    "name": "ipython",
    "version": 3
   },
   "file_extension": ".py",
   "mimetype": "text/x-python",
   "name": "python",
   "nbconvert_exporter": "python",
   "pygments_lexer": "ipython3",
   "version": "3.11.9"
  }
 },
 "nbformat": 4,
 "nbformat_minor": 2
}
