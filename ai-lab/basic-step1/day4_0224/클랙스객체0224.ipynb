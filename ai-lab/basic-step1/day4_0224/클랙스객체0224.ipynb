{
 "cells": [
  {
   "cell_type": "markdown",
   "metadata": {},
   "source": [
    "#### 클래스와 객체 개념"
   ]
  },
  {
   "cell_type": "markdown",
   "metadata": {},
   "source": [
    "1. 개요\n",
    "(인스턴스, 전역변수, 지역변수, 객체 생성)    \n",
    "- 클래스 : 객체를 만들기 위한 설계도    \n",
    "(객체가 가져야 할 속성(데이터)과 동작(메소드)를 정의함)    \n",
    "\n",
    "- 객체 : 설계도로 부터 만들어낸 제품     \n",
    "(클래스에서 정의한 속성과 메소드를 실제 값과 함께 사용함.)    \n",
    "    - 같은 타입의 객체를 여러개 생성할 수 있다.    \n",
    "    - 복제본을 여러개 만들 수 있다.(타입은 같지만 서로 다른 객체이다.)     \n",
    "    - 재사용성을 높일 수  있다.(같은 이름의 메소드를 여러 번 만들지 않아도 된다.)     \n",
    "\n",
    "2. 클래스의 구성 요소    \n",
    "    1) 속성     \n",
    "        - 인스턴스 변수 : 생성되는 객체 마다 개별적으로 존재하는 데이터     \n",
    "        자바에서는 Sonata myCar = new Sonata() - myCar인스턴스 변수      \n",
    "        (self.carname, self.speed, self.wheelnum)     \n",
    "        self는 뭐지? - > this -> 현재 활성화되어 있는 자기 자신 객체     \n",
    "        - 클래스 변수 : 클래스에 속하며 모든 인스턴스가 공유하는 데이터     \n",
    "        ex) class Sonata: speed = 0    \n",
    "    2) 메소드   \n",
    "        - 인스턴스 메소드 :  객체를 통해 호출되며, 첫번째 매개변수로 항상 self를 받음.     \n",
    "        -  클래스 메소드 : 클래스를 통해 호출이 가능함.      \n",
    "        - 정적 메소드 : 클래스나 인스턴스와는 무관하게 작동함.  "
   ]
  },
  {
   "cell_type": "code",
   "execution_count": 13,
   "metadata": {},
   "outputs": [],
   "source": [
    "# Person 클래스 정의\n",
    "class Person:\n",
    "    # 생성자 : 객체 생성시 자동으로 호출\n",
    "    # 변수 name, age 초기화\n",
    "    def __init__(self, name, age):\n",
    "        self.name = name #인스턴스 변수\n",
    "        self.age = age\n",
    "        \n",
    "    def introduce(self):\n",
    "        print(f\"안녕하세요. 제 이름은 {self.name}이고, {self.age}살 입니다.\")"
   ]
  },
  {
   "cell_type": "code",
   "execution_count": 14,
   "metadata": {},
   "outputs": [
    {
     "name": "stdout",
     "output_type": "stream",
     "text": [
      "안녕하세요. 제 이름은 나신입이고, 31살 입니다.\n",
      "안녕하세요. 제 이름은 나초보이고, 33살 입니다.\n"
     ]
    }
   ],
   "source": [
    "# 객체 생성하였다.(인스턴스 - 메모리 상주)\n",
    "person1  = Person(\"나신입\", 31) #__init__자동으로 호출\n",
    "person2  = Person(\"나초보\", 33)\n",
    "\n",
    "# 메소드 호출\n",
    "person1.introduce()\n",
    "person2.introduce()"
   ]
  },
  {
   "cell_type": "code",
   "execution_count": 15,
   "metadata": {},
   "outputs": [
    {
     "name": "stdout",
     "output_type": "stream",
     "text": [
      "안녕하세요. 제 이름은 이순신이고, 50살 입니다.\n",
      "학생 이순신 (S12345), 나이 : 50\n"
     ]
    }
   ],
   "source": [
    "# Persond을 상속받은 Student 클래스 정의\n",
    "class Student(Person):\n",
    "  def __init__(self, name, age, student_id):\n",
    "    # 부모 클래스의 생성자를 호출하여 name 과 age 초기화 \n",
    "    super().__init__(name, age)\n",
    "    self.sudent_id = student_id\n",
    "  \n",
    "\t# 학생 정보 출력 메서드\n",
    "  def display_info(self):\n",
    "    print(f\"학생 {self.name} ({self.sudent_id}), 나이 : {self.age}\")\n",
    "    \n",
    "# Student 객체 생성 및 메서드 호출\n",
    "student = Student(\"이순신\", 50 ,\"S12345\")\n",
    "student.introduce() # Person클래스 메서드 호출\n",
    "student.display_info() # Student 클래스에서 추가된 메서드 호출"
   ]
  },
  {
   "cell_type": "code",
   "execution_count": 16,
   "metadata": {},
   "outputs": [],
   "source": [
    "class Sonata:\n",
    "  speed = 10 # 클래스 변수\n",
    "  def __init__(self, wheel_num, car_color):\n",
    "    self.whell_num = wheel_num # 인스턴스 변수\n",
    "    self.car_color = car_color"
   ]
  },
  {
   "cell_type": "code",
   "execution_count": 17,
   "metadata": {},
   "outputs": [
    {
     "name": "stdout",
     "output_type": "stream",
     "text": [
      "바퀴수 : 4, 색상 : 검정색, 현재 속도 : 10\n"
     ]
    }
   ],
   "source": [
    "class SonataMain:\n",
    "  def __init__(self):\n",
    "    self.mycar = Sonata(4, \"검정색\")\n",
    "    print(f\"바퀴수 : {self.mycar.whell_num}, 색상 : {self.mycar.car_color}, 현재 속도 : {self.mycar.speed}\")\n",
    "\n",
    "# 프로그램 실행 조건 추가\n",
    "# if문을 추가하여 해당 파일이 직접 실행될 때 SonataMain 객체를 생성하고 실행 시킨다.\n",
    "if __name__ == \"__main__\":\n",
    "  app = SonataMain()"
   ]
  },
  {
   "cell_type": "markdown",
   "metadata": {},
   "source": [
    "파이썬에서는 자료형도 클래스다."
   ]
  },
  {
   "cell_type": "code",
   "execution_count": 18,
   "metadata": {},
   "outputs": [
    {
     "name": "stdout",
     "output_type": "stream",
     "text": [
      "<class 'int'>\n",
      "<class 'str'>\n",
      "<class 'bool'>\n"
     ]
    }
   ],
   "source": [
    "a = 10\n",
    "b = \"문자열 객체\"\n",
    "c = True\n",
    "print(type(a))\n",
    "print(type(b))\n",
    "print(type(c))\n"
   ]
  },
  {
   "cell_type": "code",
   "execution_count": 19,
   "metadata": {},
   "outputs": [
    {
     "name": "stdout",
     "output_type": "stream",
     "text": [
      "['__new__', '__repr__', '__hash__', '__str__', '__getattribute__', '__lt__', '__le__', '__eq__', '__ne__', '__gt__', '__ge__', '__iter__', '__mod__', '__rmod__', '__len__', '__getitem__', '__add__', '__mul__', '__rmul__', '__contains__', 'encode', 'replace', 'split', 'rsplit', 'join', 'capitalize', 'casefold', 'title', 'center', 'count', 'expandtabs', 'find', 'partition', 'index', 'ljust', 'lower', 'lstrip', 'rfind', 'rindex', 'rjust', 'rstrip', 'rpartition', 'splitlines', 'strip', 'swapcase', 'translate', 'upper', 'startswith', 'endswith', 'removeprefix', 'removesuffix', 'isascii', 'islower', 'isupper', 'istitle', 'isspace', 'isdecimal', 'isdigit', 'isnumeric', 'isalpha', 'isalnum', 'isidentifier', 'isprintable', 'zfill', 'format', 'format_map', '__format__', 'maketrans', '__sizeof__', '__getnewargs__', '__doc__', '__setattr__', '__delattr__', '__init__', '__reduce_ex__', '__reduce__', '__getstate__', '__subclasshook__', '__init_subclass__', '__dir__', '__class__']\n"
     ]
    }
   ],
   "source": [
    "msg = \"메시지\"\n",
    "print(msg.__dir__())"
   ]
  }
 ],
 "metadata": {
  "kernelspec": {
   "display_name": "basic-step1",
   "language": "python",
   "name": "python3"
  },
  "language_info": {
   "codemirror_mode": {
    "name": "ipython",
    "version": 3
   },
   "file_extension": ".py",
   "mimetype": "text/x-python",
   "name": "python",
   "nbconvert_exporter": "python",
   "pygments_lexer": "ipython3",
   "version": "3.11.9"
  }
 },
 "nbformat": 4,
 "nbformat_minor": 2
}
