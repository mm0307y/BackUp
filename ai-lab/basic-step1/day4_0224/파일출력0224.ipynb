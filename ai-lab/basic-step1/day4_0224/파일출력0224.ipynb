{
 "cells": [
  {
   "cell_type": "markdown",
   "metadata": {},
   "source": [
    "#### 파일 입출력 개요\n",
    "파일 입출력(File I/O)은 프로그램이 외부 파일로부터 데이터를 읽어오거나, 외부 파일에 데이터를 저장하는 기능디이다.\n",
    "네트워크와 관련된 API\n",
    "데이터를 영구 저정자헉나 다른(이종간) 프로개름과 데이터를 공유할 수 있다.\n",
    "\n",
    "- 파일 열기모드\n",
    "\t- 파일로부터 데이터를 읽어와서 프로그램을 사용하기위해\n",
    "\t- 프로그램에서 만든 데이터를 파일 형태로 저장하기 위해\n",
    "\n",
    "- 파일 쓰기, 추가하기, 읽기 - 리눅스 명령\n",
    "\t- w : 쓰기 모드(write)\n",
    "\t- a : 추가 모드(append)\n",
    "\t- r : 읽기 모드(read)\n",
    "\n",
    "- 파일 처리 순서\n",
    "\t- 파일 열기 -> 파일 작업 -> 파일 닫기\n",
    "\n",
    "- pickle 모듈\n",
    "- with 구문"
   ]
  },
  {
   "cell_type": "code",
   "execution_count": null,
   "metadata": {},
   "outputs": [],
   "source": [
    "# 1. 파일 쓰기\n",
    "file = open('./data0224/data0224.txt', \"w\", encoding='utf-8')\n",
    "file.write('파이썬')\n",
    "file.close()"
   ]
  },
  {
   "cell_type": "code",
   "execution_count": null,
   "metadata": {},
   "outputs": [],
   "source": [
    "# 1. 파일 추가\n",
    "file = open('./data0224/data0224.txt', \"a\", encoding='utf-8')\n",
    "file.write('\\n나도  파이썬')\n",
    "file.close()"
   ]
  },
  {
   "cell_type": "code",
   "execution_count": 4,
   "metadata": {},
   "outputs": [
    {
     "name": "stdout",
     "output_type": "stream",
     "text": [
      "파이썬나도  파이썬\n",
      "나도  파이썬\n"
     ]
    }
   ],
   "source": [
    "# 3. 전체 읽기\n",
    "file = open('./data0224/data0224.txt', \"r\", encoding='utf-8')\n",
    "data = file.read()\n",
    "print(data)\n",
    "file.close()\n"
   ]
  },
  {
   "cell_type": "code",
   "execution_count": 5,
   "metadata": {},
   "outputs": [
    {
     "name": "stdout",
     "output_type": "stream",
     "text": [
      "파이썬나도  파이썬\n",
      "나도  파이썬"
     ]
    }
   ],
   "source": [
    "# 4. 한 줄씩 읽기\n",
    "file = open('./data0224/data0224.txt', \"r\", encoding='utf-8')\n",
    "while True :\n",
    "  data = file.readline()\n",
    "  print(data, end=\"\")\n",
    "  if data == \"\":\n",
    "    break\n",
    "file.close()"
   ]
  }
 ],
 "metadata": {
  "kernelspec": {
   "display_name": "basic-step1",
   "language": "python",
   "name": "python3"
  },
  "language_info": {
   "codemirror_mode": {
    "name": "ipython",
    "version": 3
   },
   "file_extension": ".py",
   "mimetype": "text/x-python",
   "name": "python",
   "nbconvert_exporter": "python",
   "pygments_lexer": "ipython3",
   "version": "3.11.9"
  }
 },
 "nbformat": 4,
 "nbformat_minor": 2
}
