{
 "cells": [
  {
   "cell_type": "markdown",
   "metadata": {},
   "source": [
    "#### 예외 처리\n",
    "- try-excep문\n",
    "try:\n",
    "\t#에러가 발생하는 가능성이 있는 코드    \n",
    "except[발생오류[as 오류 변수]]:"
   ]
  },
  {
   "cell_type": "code",
   "execution_count": 1,
   "metadata": {},
   "outputs": [
    {
     "name": "stdout",
     "output_type": "stream",
     "text": [
      "division by zero\n"
     ]
    }
   ],
   "source": [
    "try:\n",
    "\t4/0\n",
    "except ZeroDivisionError as e :\n",
    "\tprint(e)"
   ]
  },
  {
   "cell_type": "code",
   "execution_count": 2,
   "metadata": {},
   "outputs": [
    {
     "name": "stdout",
     "output_type": "stream",
     "text": [
      "해당 인덱스로 접근이 불가합니다.\n",
      "여기\n"
     ]
    }
   ],
   "source": [
    "try:\n",
    "\ta = [1, 2]\n",
    "\tprint(a[3])\n",
    "except ZeroDivisionError as e :\n",
    "\tprint(\"0으로 나눌 수 없습니다.\")\n",
    "\n",
    "except IndexError :\n",
    "\tprint(\"해당 인덱스로 접근이 불가합니다.\")\n",
    "\n",
    "print(\"여기\")"
   ]
  },
  {
   "cell_type": "code",
   "execution_count": 3,
   "metadata": {},
   "outputs": [
    {
     "name": "stdout",
     "output_type": "stream",
     "text": [
      "미성년자는 출입금지 입니다.\n",
      "여기\n"
     ]
    }
   ],
   "source": [
    "try:\n",
    "\tage = int(input(\"나이를 입력하세요.\"))\n",
    "except:\n",
    "\tprint(\"입력값이 유효하지 않습니다. 즉 숫자가 아니다.\")\n",
    "else:\n",
    "\tif age <= 18:\n",
    "\t\tprint(\"미성년자는 출입금지 입니다.\")\n",
    "\telse:\n",
    "\t\tprint(\"환영합니다.\")\n",
    "\n",
    "print(\"여기\")"
   ]
  },
  {
   "cell_type": "markdown",
   "metadata": {},
   "source": [
    "#### 오류 회피하기"
   ]
  },
  {
   "cell_type": "code",
   "execution_count": 4,
   "metadata": {},
   "outputs": [
    {
     "name": "stdout",
     "output_type": "stream",
     "text": [
      "여기\n"
     ]
    }
   ],
   "source": [
    "try:\n",
    "    f = open(\"없는 파일\", \"r\")\n",
    "except FileNotFoundError:\n",
    "    pass\n",
    "print(\"여기\")"
   ]
  }
 ],
 "metadata": {
  "kernelspec": {
   "display_name": "basic-step1",
   "language": "python",
   "name": "python3"
  },
  "language_info": {
   "codemirror_mode": {
    "name": "ipython",
    "version": 3
   },
   "file_extension": ".py",
   "mimetype": "text/x-python",
   "name": "python",
   "nbconvert_exporter": "python",
   "pygments_lexer": "ipython3",
   "version": "3.11.9"
  }
 },
 "nbformat": 4,
 "nbformat_minor": 2
}
