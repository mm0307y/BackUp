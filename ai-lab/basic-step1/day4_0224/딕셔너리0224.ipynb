{
 "cells": [
  {
   "cell_type": "code",
   "execution_count": 7,
   "metadata": {},
   "outputs": [
    {
     "name": "stdout",
     "output_type": "stream",
     "text": [
      "H\n",
      "e\n",
      "l\n",
      "l\n",
      "o\n"
     ]
    }
   ],
   "source": [
    "for x in \"Hello\":\n",
    "\tprint(x)"
   ]
  },
  {
   "cell_type": "code",
   "execution_count": 8,
   "metadata": {},
   "outputs": [],
   "source": [
    "dic = {\"mem_id\" : \"tomato\", \"mem_pw\" : 123, \"mem_name\" : \"토마토\"}"
   ]
  },
  {
   "cell_type": "code",
   "execution_count": 9,
   "metadata": {},
   "outputs": [
    {
     "data": {
      "text/plain": [
       "3"
      ]
     },
     "execution_count": 9,
     "metadata": {},
     "output_type": "execute_result"
    }
   ],
   "source": [
    "# 딕셔너리의 컬럼 수\n",
    "len(dic)"
   ]
  },
  {
   "cell_type": "code",
   "execution_count": 10,
   "metadata": {},
   "outputs": [
    {
     "name": "stdout",
     "output_type": "stream",
     "text": [
      "mem_id tomato\n",
      "mem_pw 123\n",
      "mem_name 토마토\n"
     ]
    }
   ],
   "source": [
    "i = 0\n",
    "\n",
    "# 딕셔너리의 키 리스트 얻는다.\n",
    "keys = list(dic.keys())\n",
    "while i <len(dic):\n",
    "    key = keys[i]\n",
    "    print(key, dic[key])\n",
    "    \n",
    "    #while문 사용시 무한루프 방지 코드\n",
    "    i += 1"
   ]
  },
  {
   "cell_type": "code",
   "execution_count": 11,
   "metadata": {},
   "outputs": [],
   "source": [
    "list_of_dicts = [\n",
    "    {\"name\":\"Alice\", \"age\":26},\n",
    "    {\"name\":\"Bob\", \"age\":36},\n",
    "    {\"name\":\"King\", \"age\":31}\n",
    "]\n",
    "# 시작 인덱스 초기화\n",
    "index = 0"
   ]
  },
  {
   "cell_type": "code",
   "execution_count": 12,
   "metadata": {},
   "outputs": [
    {
     "name": "stdout",
     "output_type": "stream",
     "text": [
      "Name : Alice, Age: 26\n",
      "Name : Bob, Age: 36\n",
      "Name : King, Age: 31\n"
     ]
    }
   ],
   "source": [
    "# 무한 루프 방어코드, 고려\n",
    "# 리스트의 길이보다 인덱스가 작은 동안 반복 - 증감연산자\n",
    "while index < len(list_of_dicts):\n",
    "    #현재 인덱스에 해당하는 딕셔너리 접근\n",
    "    current_dict = list_of_dicts[index]\n",
    "    #딕셔너리 내용 출력\n",
    "    print(f\"Name : {current_dict['name']}, Age: {current_dict['age']}\")\n",
    "    #무한루프에 빠지지 않으려면 index를 증가 시킴\n",
    "    index += 1"
   ]
  }
 ],
 "metadata": {
  "kernelspec": {
   "display_name": "basic-step1",
   "language": "python",
   "name": "python3"
  },
  "language_info": {
   "codemirror_mode": {
    "name": "ipython",
    "version": 3
   },
   "file_extension": ".py",
   "mimetype": "text/x-python",
   "name": "python",
   "nbconvert_exporter": "python",
   "pygments_lexer": "ipython3",
   "version": "3.11.9"
  }
 },
 "nbformat": 4,
 "nbformat_minor": 2
}
