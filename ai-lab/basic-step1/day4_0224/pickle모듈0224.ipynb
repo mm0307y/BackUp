{
 "cells": [
  {
   "cell_type": "markdown",
   "metadata": {},
   "source": [
    "#### pickle 모듈    \n",
    "- 파이선의 pickle모듈은 파이썬 객체를 바이트 스트림이로 변환(직렬화) 하거나     \n",
    "반대로 바이트 스트림에서 객체를 복원하는 기능을 제공한다.    "
   ]
  },
  {
   "cell_type": "code",
   "execution_count": 1,
   "metadata": {},
   "outputs": [],
   "source": [
    "#1. 파이썬 객체를 pickle로 저장하기\n",
    "import pickle\n",
    "\n",
    "# data변수는 두 개의 키-값 쌍을 가진 딕셔너리\n",
    "data = {\n",
    "    \"목표1\":\"1일 1커밋\",\n",
    "    \"목표2\":\"1일 1시간 코딩 실습\",\n",
    "}\n",
    "\n",
    "# wb 모드는 파일에 바이트 단위로 데이터를 기록할 때 사용한다.\n",
    "# 만일 해당 파일이 존재하지 않으면 새로 생성되며, 이미 존재하면 덮어쓴다.\n",
    "file = open(\"./data0224/data0224.pickle\", \"wb\")\n",
    "\n",
    "# 객체 직렬화 및 파일에 저장\n",
    "pickle.dump(data, file)\n",
    "file.close()"
   ]
  }
 ],
 "metadata": {
  "kernelspec": {
   "display_name": "basic-step1",
   "language": "python",
   "name": "python3"
  },
  "language_info": {
   "codemirror_mode": {
    "name": "ipython",
    "version": 3
   },
   "file_extension": ".py",
   "mimetype": "text/x-python",
   "name": "python",
   "nbconvert_exporter": "python",
   "pygments_lexer": "ipython3",
   "version": "3.11.9"
  }
 },
 "nbformat": 4,
 "nbformat_minor": 2
}
