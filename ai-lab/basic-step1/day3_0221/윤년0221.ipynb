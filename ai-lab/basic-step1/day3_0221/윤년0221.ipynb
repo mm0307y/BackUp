{
 "cells": [
  {
   "cell_type": "markdown",
   "metadata": {},
   "source": [
    "### 윤년\n",
    "- 대화형 코딩 연습\n",
    "- 윤년은 3가지 법칙에 의해서 적용된다.\n",
    "\t- 연도가 4로 나누어 떨어지는 해는 윤년이다.\n",
    "\t- 그 중 100으로 나누너 떨어지는 해는 윤년이 아니다.\n",
    "\t- 400으로 나누너 떨어지는 해는 윤년이다."
   ]
  },
  {
   "cell_type": "code",
   "execution_count": null,
   "metadata": {},
   "outputs": [
    {
     "data": {
      "text/plain": [
       "500.0"
      ]
     },
     "execution_count": 1,
     "metadata": {},
     "output_type": "execute_result"
    }
   ],
   "source": [
    "2000/4 # 여기까지는 윤년에 대상이 된다."
   ]
  },
  {
   "cell_type": "code",
   "execution_count": null,
   "metadata": {},
   "outputs": [
    {
     "data": {
      "text/plain": [
       "20.0"
      ]
     },
     "execution_count": 2,
     "metadata": {},
     "output_type": "execute_result"
    }
   ],
   "source": [
    "# 2000년은 윤년이 아니다.\n",
    "2000/100 # Not Leap"
   ]
  },
  {
   "cell_type": "code",
   "execution_count": null,
   "metadata": {},
   "outputs": [
    {
     "data": {
      "text/plain": [
       "5.0"
      ]
     },
     "execution_count": 3,
     "metadata": {},
     "output_type": "execute_result"
    }
   ],
   "source": [
    "2000/400 # 윤년 대상이다. - 제외적으로 100으로 나누어 떨어졌기 때문에 윤년이 아니다."
   ]
  },
  {
   "cell_type": "code",
   "execution_count": 3,
   "metadata": {},
   "outputs": [
    {
     "data": {
      "text/plain": [
       "525.0"
      ]
     },
     "execution_count": 4,
     "metadata": {},
     "output_type": "execute_result"
    }
   ],
   "source": [
    "2100/4"
   ]
  },
  {
   "cell_type": "code",
   "execution_count": 4,
   "metadata": {},
   "outputs": [
    {
     "data": {
      "text/plain": [
       "21.0"
      ]
     },
     "execution_count": 5,
     "metadata": {},
     "output_type": "execute_result"
    }
   ],
   "source": [
    "2100/100"
   ]
  },
  {
   "cell_type": "code",
   "execution_count": null,
   "metadata": {},
   "outputs": [
    {
     "data": {
      "text/plain": [
       "5.25"
      ]
     },
     "execution_count": 6,
     "metadata": {},
     "output_type": "execute_result"
    }
   ],
   "source": [
    "2100/400 # 윤년이 될 수 없다."
   ]
  },
  {
   "cell_type": "code",
   "execution_count": 7,
   "metadata": {},
   "outputs": [
    {
     "data": {
      "text/plain": [
       "2025"
      ]
     },
     "execution_count": 7,
     "metadata": {},
     "output_type": "execute_result"
    }
   ],
   "source": [
    "year = int(input(\"윤년인지 확인하고 싶은 숫자를 입력하세요.\"))\n",
    "year"
   ]
  },
  {
   "cell_type": "code",
   "execution_count": null,
   "metadata": {},
   "outputs": [
    {
     "name": "stdout",
     "output_type": "stream",
     "text": [
      "2025 is not a leap yrear\n"
     ]
    }
   ],
   "source": [
    "# 중첩되는 if문 사용\n",
    "if year % 4 == 0:\n",
    "  if year %100 == 0:\n",
    "    if year % 400 == 0:\n",
    "      print(f\"{year} is a leap year\")\n",
    "    else:\n",
    "      print(f\"{year} is not a leap year\")\n",
    "  else:\n",
    "    print(f\"{year} is a leap year.\")\n",
    "else:\n",
    "\tprint(f\"{year} is not a leap year\")"
   ]
  },
  {
   "cell_type": "markdown",
   "metadata": {},
   "source": [
    "### 논리 연산자를 활용하여 처리해 본다.\n",
    "- 4년으로 나누어 떨어지고, 100으로 나누어서 떨어지지 않는 경우 또는 400으로 나누어 떨어지는 경우는 윤년이다."
   ]
  },
  {
   "cell_type": "code",
   "execution_count": 9,
   "metadata": {},
   "outputs": [
    {
     "name": "stdout",
     "output_type": "stream",
     "text": [
      "2025 is not a leap year.\n"
     ]
    }
   ],
   "source": [
    "if(year % 4 == 0 and year % 100 != 0) or year % 400 == 0:\n",
    "  print(f\"{year} is a leap year.\")\n",
    "else:\n",
    "  print(f\"{year} is not a leap year.\")"
   ]
  }
 ],
 "metadata": {
  "kernelspec": {
   "display_name": "basic-step1",
   "language": "python",
   "name": "python3"
  },
  "language_info": {
   "codemirror_mode": {
    "name": "ipython",
    "version": 3
   },
   "file_extension": ".py",
   "mimetype": "text/x-python",
   "name": "python",
   "nbconvert_exporter": "python",
   "pygments_lexer": "ipython3",
   "version": "3.11.9"
  }
 },
 "nbformat": 4,
 "nbformat_minor": 2
}
