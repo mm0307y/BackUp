{
 "cells": [
  {
   "cell_type": "markdown",
   "metadata": {},
   "source": [
    "#### 자료구조 노트\n",
    "1. 리스트 (List)    \n",
    "- 특징:      \n",
    "순서(느리다 - 읽기와 쓰기 - 코테)가 있으며, 인덱스(0부터인가)를 통해 접근 가능    \n",
    "가변(mutable) 자료구조로, 요소의 추가, 삭제, 변경이 가능 (시간 복잡도(O), 공간 복잡도(우리나라X), 강사님 뇌피셜 - 구현복잡도)   \n",
    "다양한(정수, 실수, 문자열) 데이터 타입의 요소들을 함께 저장할 수 있음    \n",
    "- 주요 메서드 및 연산:      \n",
    "append(value): 리스트의 마지막에 새로운 요소 추가 - 파라미터(고객의 말 듣기)와 리턴타입(응답)    \n",
    "insert(index, value): 지정한 인덱스에 요소 삽입 - 끼워 넣다. 뒤에는 밀린다.    \n",
    "remove(value): 첫 번째로 일치하는 요소 삭제 - 내 뒤로는 다 당겨주세요.     \n",
    "pop(index): 지정한 인덱스의 요소를 삭제하며 반환 (인덱스를 생략하면 마지막 요소 삭제) - 리턴타입, 리턴값   \n",
    "슬라이싱 및 반복문을 통한 데이터 접근    \n",
    "- 활용\n",
    "순서가 중요한 데이터의 저장, 동적 배열 등에 사용용"
   ]
  },
  {
   "cell_type": "code",
   "execution_count": 3,
   "metadata": {},
   "outputs": [
    {
     "data": {
      "text/plain": [
       "['apple', 'banana', 'cherry', 'kiwi', 'mango', 'orange']"
      ]
     },
     "execution_count": 3,
     "metadata": {},
     "output_type": "execute_result"
    }
   ],
   "source": [
    "fruits = ['apple', 'banana', 'cherry']\n",
    "fruits.append('orange')\n",
    "fruits"
   ]
  },
  {
   "cell_type": "code",
   "execution_count": 8,
   "metadata": {},
   "outputs": [
    {
     "name": "stdout",
     "output_type": "stream",
     "text": [
      "None\n"
     ]
    },
    {
     "data": {
      "text/plain": [
       "['apple', 'kiwi', 'cherry', 'orange']"
      ]
     },
     "execution_count": 8,
     "metadata": {},
     "output_type": "execute_result"
    }
   ],
   "source": [
    "# 리스트 생성 및 기본 연산\n",
    "fruits = ['apple', 'banana', 'cherry']\n",
    "fruits.append('orange')\n",
    "temp = fruits.insert(1, \"kiwi\") # 인텍스 1위치(0부터 시작)에 요소를 삽입해준다.\n",
    "print(temp)\n",
    "fruits.remove(\"banana\")\n",
    "removed_fruit = fruits.pop() # 마지막 요소 제거 및 반환\n",
    "print(f\"제거된 과일 : {removed_fruit}\")\n",
    "fruits\n"
   ]
  },
  {
   "cell_type": "code",
   "execution_count": null,
   "metadata": {},
   "outputs": [],
   "source": [
    "print(1+\"안녕\")"
   ]
  },
  {
   "cell_type": "markdown",
   "metadata": {},
   "source": [
    "2. 튜플 (Tuple)     \n",
    "- 특징: 괄호를 사용한다.    \n",
    "리스트와 유사하지만, 불변(immutable)     \n",
    "생성 후 수정, 추가, 삭제가 불가능     \n",
    "데이터의 고정값을 표현하거나 여러 값을 한꺼번에 반환할 때 유용    \n",
    "- 활용     \n",
    "변경되지 않아야 하는 데이터, 함수의 여러 반환값을 하나로 묶을 때 사용      "
   ]
  },
  {
   "cell_type": "code",
   "execution_count": null,
   "metadata": {},
   "outputs": [
    {
     "name": "stdout",
     "output_type": "stream",
     "text": [
      "x좌표 :  10\n",
      "y좌표 :  20\n"
     ]
    }
   ],
   "source": [
    "# 튜플 생성 및 사용 예제\n",
    "coordinates = (10, 20)\n",
    "print (\"x좌표 : \", coordinates[0])\n",
    "print (\"y좌표 : \", coordinates[1])\n",
    "# coordinates[0] = 15  #-> 오류 발생 (튜플은 수정 불가)\n",
    "coordinates[0] = 15\n"
   ]
  },
  {
   "cell_type": "markdown",
   "metadata": {},
   "source": [
    "3. 세트 (Set)      \n",
    "- 특징:     \n",
    "순서가 없으며, 중복된 요소를 허용하지 않음     \n",
    "집합 연산(합집합, 교집합, 차집합 등)을 지원     \n",
    "가변(mutable) 자료구조     \n",
    "- 주요 메서드:      \n",
    "add(value): 요소 추가    \n",
    "remove(value): 지정한 요소 제거 (요소가 없으면 KeyError 발생)    \n",
    "discard(value): 요소 제거 (요소가 없으면 오류 없음)     \n",
    "union(), intersection(), difference() 등 집합 연산    \n",
    "- 활용    \n",
    "중복 제거, 집합 연산, 데이터 검증 등    "
   ]
  },
  {
   "cell_type": "code",
   "execution_count": 12,
   "metadata": {},
   "outputs": [
    {
     "data": {
      "text/plain": [
       "{1, 2, 3, 5}"
      ]
     },
     "execution_count": 12,
     "metadata": {},
     "output_type": "execute_result"
    }
   ],
   "source": [
    "numbers = {1, 2, 3}\n",
    "numbers.add(5)\n",
    "numbers"
   ]
  },
  {
   "cell_type": "code",
   "execution_count": 13,
   "metadata": {},
   "outputs": [
    {
     "name": "stdout",
     "output_type": "stream",
     "text": [
      "합집합 {1, 2, 3, 4, 5}\n",
      "합집합 {3}\n",
      "합집합 {1, 2}\n"
     ]
    }
   ],
   "source": [
    "# 세트 생성 및 연산\n",
    "a = {1, 2, 3}\n",
    "b = {3, 4, 5}\n",
    "print(\"합집합\", a|b) # {1, 2, 3, 4, 5}\n",
    "print(\"교집합\", a&b) # {3}\n",
    "print(\"차집합\", a-b) #{1, 2}\n"
   ]
  },
  {
   "cell_type": "markdown",
   "metadata": {},
   "source": [
    "4. 딕셔너리 (Dictionary)     \n",
    "- 특징:     \n",
    "키(key)와 값(value) 쌍으로 이루어진 매핑(mapping) 자료구조     \n",
    "키는 유일해야 하며, 보통 문자열, 숫자 등을 사용     \n",
    "데이터의 빠른 검색과 수정이 가능     \n",
    "- 주요 메서드:    \n",
    "get(key): 키에 해당하는 값을 반환 (키가 없으면 기본값 반환 가능)    \n",
    "keys(): 모든 키를 반환    \n",
    "values(): 모든 값을 반환    \n",
    "items(): (키, 값) 쌍을 반환     "
   ]
  },
  {
   "cell_type": "code",
   "execution_count": null,
   "metadata": {},
   "outputs": [
    {
     "name": "stdout",
     "output_type": "stream",
     "text": [
      "age\n"
     ]
    }
   ],
   "source": [
    "\n",
    "person = {\"name\":\"Alice\", \"age\":25, \"city\":\"Seoul\"}\n",
    "person[\"name\"]"
   ]
  },
  {
   "cell_type": "code",
   "execution_count": null,
   "metadata": {},
   "outputs": [
    {
     "name": "stdout",
     "output_type": "stream",
     "text": [
      "name : Alice\n",
      "age : 27\n",
      "city : Seoul\n",
      "grade : A\n"
     ]
    }
   ],
   "source": [
    "# 딕셔너리 생성 및 사용 예제\n",
    "person = {\"name\": \"Alice\", \"age\": 25, \"city\": \"Seoul\"}\n",
    "person[\"age\"] = 27 # 기존 값 수정\n",
    "person[\"grade\"] = \"A\" # 새로운 키- 값 추가\n",
    "\n",
    "# 모든 키와 값 출력\n",
    "for key, value in person.items():\n",
    "  print(f\"{key} : {value}\")\n"
   ]
  },
  {
   "cell_type": "markdown",
   "metadata": {},
   "source": [
    "5. 추가 자료구조 및 개념      \n",
    "문자열 (String)      \n",
    "- 특징:     \n",
    "불변(immutable) 자료형이며, 인덱싱과 슬라이싱이 가능     \n",
    "다양한 문자열 메서드를 통해 조작 가능     "
   ]
  },
  {
   "cell_type": "code",
   "execution_count": 20,
   "metadata": {},
   "outputs": [
    {
     "name": "stdout",
     "output_type": "stream",
     "text": [
      "Hello\n"
     ]
    }
   ],
   "source": [
    "greeting = \"Hello, World!\"\n",
    "print(greeting[0:5])  # Hello"
   ]
  },
  {
   "cell_type": "code",
   "execution_count": 21,
   "metadata": {},
   "outputs": [
    {
     "name": "stdout",
     "output_type": "stream",
     "text": [
      "Hello\n",
      "hello, world!\n"
     ]
    }
   ],
   "source": [
    "greeting = \"Hello, World!\"\n",
    "print(greeting[0:5])  # Hello\n",
    "print(greeting.lower())  # 소문자로 변환\n"
   ]
  },
  {
   "cell_type": "markdown",
   "metadata": {},
   "source": [
    "배열 (Array) 및 Numpy 배열     \n",
    "파이썬의 표준 라이브러리에는 제한적인 배열 모듈이 있으나,     \n",
    "수치 연산에는 Numpy 라이브러리의 배열이 주로 사용됨.    "
   ]
  },
  {
   "cell_type": "code",
   "execution_count": 24,
   "metadata": {},
   "outputs": [
    {
     "name": "stdout",
     "output_type": "stream",
     "text": [
      "[1 2 3 4 5]\n"
     ]
    }
   ],
   "source": [
    "import numpy as np\n",
    "arr = np.array([1, 2, 3, 4, 5])\n",
    "print(arr)"
   ]
  },
  {
   "cell_type": "markdown",
   "metadata": {},
   "source": [
    "리스트 내포 (List Comprehension)     \n",
    "- 개념: 기존 리스트를 바탕으로 새로운 리스트를 간결한 구문으로 생성할 수 있음      "
   ]
  },
  {
   "cell_type": "code",
   "execution_count": 27,
   "metadata": {},
   "outputs": [
    {
     "name": "stdout",
     "output_type": "stream",
     "text": [
      "[0, 1, 4, 9, 16, 25, 36, 49, 64, 81]\n"
     ]
    }
   ],
   "source": [
    "squares = [x**2 for x in range(10)]\n",
    "print(squares)  # [0, 1, 4, 9, 16, 25, 36, 49, 64, 81]"
   ]
  },
  {
   "cell_type": "markdown",
   "metadata": {},
   "source": [
    "6. 자료구조 선택 시 고려사항      \n",
    "리스트 vs 튜플:     \n",
    "데이터가 변경될 필요가 있으면 리스트, 그렇지 않으면 튜플 사용      \n",
    "세트:     \n",
    "중복 제거 및 집합 연산이 필요할 때 활용     \n",
    "딕셔너리:     \n",
    "키를 통한 빠른 조회가 필요하거나 구조화된 데이터를 다룰 때 효과적     "
   ]
  },
  {
   "cell_type": "markdown",
   "metadata": {},
   "source": [
    "7. 실습 예제: 학생 성적 관리 프로그램      \n",
    "목표: 학생의 이름을 키(key)로, 성적을 값(value)으로 저장하고 관리하는 딕셔너리를 활용하여 기본적인 성적 관리 프로그램을 구현      \n",
    "\n",
    "이 예제에서는 딕셔너리를 사용하여 학생 성적 데이터를 관리합니다. 학생 성적을 추가하고,      \n",
    "특정 학생의 성적을 조회하며, 모든 학생의 데이터를 반복문으로 출력하는 방법을 보여줍니다.      "
   ]
  },
  {
   "cell_type": "code",
   "execution_count": 28,
   "metadata": {},
   "outputs": [
    {
     "name": "stdout",
     "output_type": "stream",
     "text": [
      "Kim: 85\n",
      "Lee: 90\n",
      "Park: 60\n",
      "Choi: 92\n"
     ]
    }
   ],
   "source": [
    "# 학생 성적 저장: 이름을 키, 성적을 값으로 갖는 딕셔너리\n",
    "grades = {\n",
    "  \"Kim\":85,\n",
    "  \"Lee\":90,\n",
    "  \"Park\":60\n",
    "}\n",
    "\n",
    "# 성적 추가\n",
    "grades[\"Choi\"] = 92\n",
    "grades\n",
    "\n",
    "# 특정 학생의 성적 조회\n",
    "grades.get(\"Lee\")\n",
    "\n",
    "# 모든 학생의 성적 출력\n",
    "for person, grade in grades.items():\n",
    "  print(f\"{person}: {grade}\")\n",
    "\n"
   ]
  },
  {
   "cell_type": "markdown",
   "metadata": {},
   "source": [
    "패킹 : 여러개의 데이터를 하나의 변수에 할당하는 것\n",
    "언패킹 : 컬렉션의 각 데이터를 각각의 변수에 할당하는 것"
   ]
  },
  {
   "cell_type": "code",
   "execution_count": 29,
   "metadata": {},
   "outputs": [],
   "source": [
    "# 패킹 : numbers = 1, 2, 3\n",
    "# 언패킹 : a, b, c = numbers\n",
    "numbers = 1, 2, 3\n",
    "a, b, c = numbers"
   ]
  },
  {
   "cell_type": "code",
   "execution_count": 30,
   "metadata": {},
   "outputs": [
    {
     "name": "stdout",
     "output_type": "stream",
     "text": [
      "1 2 3\n"
     ]
    }
   ],
   "source": [
    "print(a, b, c)"
   ]
  },
  {
   "cell_type": "code",
   "execution_count": 31,
   "metadata": {},
   "outputs": [],
   "source": [
    "nums = [10, 20, 30]\n",
    "a, b, c = nums"
   ]
  },
  {
   "cell_type": "code",
   "execution_count": 32,
   "metadata": {},
   "outputs": [
    {
     "name": "stdout",
     "output_type": "stream",
     "text": [
      "10 20 30\n"
     ]
    }
   ],
   "source": [
    "print(a, b, c)"
   ]
  },
  {
   "cell_type": "code",
   "execution_count": null,
   "metadata": {},
   "outputs": [],
   "source": []
  }
 ],
 "metadata": {
  "kernelspec": {
   "display_name": "basic-step1",
   "language": "python",
   "name": "python3"
  },
  "language_info": {
   "codemirror_mode": {
    "name": "ipython",
    "version": 3
   },
   "file_extension": ".py",
   "mimetype": "text/x-python",
   "name": "python",
   "nbconvert_exporter": "python",
   "pygments_lexer": "ipython3",
   "version": "3.11.9"
  }
 },
 "nbformat": 4,
 "nbformat_minor": 2
}
