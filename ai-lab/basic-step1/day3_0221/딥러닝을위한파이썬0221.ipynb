{
 "cells": [
  {
   "cell_type": "markdown",
   "metadata": {},
   "source": [
    "### 파이썬 개발 환경\n",
    "1. 온라인 개발 환경\n",
    "- 구글 코랩(Colab), Repl.it(https://replit.com)\n",
    "2. 로컬 개발 환경\n",
    "- VS-Code, 파이참\n",
    "\n",
    "### 파이썬의 입, 출력\n",
    "- 코테, 딥러닝 프로그램\n",
    "- 표준 입, 출력(print, input), 파일 입, 출력\n",
    "\n",
    "###  수 자료형\n",
    "- 변수와 상수\n",
    "- 정수 데이터 : 양의 정수, (), 음의 정수, 소수점 이하 값이 없다.\n",
    "\t- 파이썬은 컴퓨터의 메모리가 허용하는 한 크기 제한이 없다.\n",
    "- 실수 데이터 : 소수점 이하 값을 포함하는 데이터이다.\n",
    "\t- 실수데이터와 정수 데이터 사이에 연살을 수행하는 경우 -> 형 변환이 일어난다."
   ]
  },
  {
   "cell_type": "code",
   "execution_count": 45,
   "metadata": {},
   "outputs": [
    {
     "name": "stdout",
     "output_type": "stream",
     "text": [
      "6.5\n",
      "10.0\n"
     ]
    }
   ],
   "source": [
    "a = 2.5\n",
    "b = 4\n",
    "print(a + b) # 정수 + 실수 = 실수\n",
    "print(a * b) # 10이 아니고 10.0 출력"
   ]
  },
  {
   "cell_type": "markdown",
   "metadata": {},
   "source": [
    "파이썬 자료형\n",
    "- 매우 많은 양의 변수를 다루어야 한다."
   ]
  },
  {
   "cell_type": "code",
   "execution_count": 46,
   "metadata": {},
   "outputs": [
    {
     "data": {
      "text/plain": [
       "[1, 3, 5, 7]"
      ]
     },
     "execution_count": 46,
     "metadata": {},
     "output_type": "execute_result"
    }
   ],
   "source": [
    "# 파이썬 자료형\n",
    "# 대괄호 안에 원소들을 쉼표로 구분해서 넣는다.\n",
    "# 콤마 연산자는 열거형 연산이다.\n",
    "odds = [1, 3, 5, 7]\n",
    "odds"
   ]
  },
  {
   "cell_type": "code",
   "execution_count": 47,
   "metadata": {},
   "outputs": [
    {
     "name": "stdout",
     "output_type": "stream",
     "text": [
      "참\n"
     ]
    }
   ],
   "source": [
    "# 서로 다른 타입이라도 담을 수 가 있다.\n",
    "data = [\"Hello\", 7, 0.5, True]\n",
    "data\n",
    "if 7: print(\"참\")"
   ]
  },
  {
   "cell_type": "code",
   "execution_count": 48,
   "metadata": {},
   "outputs": [
    {
     "name": "stdout",
     "output_type": "stream",
     "text": [
      "8\n",
      "[2, 4, 6, 8, 10]\n",
      "[4, 6]\n"
     ]
    }
   ],
   "source": [
    "# 리스트에 대해서 인덱싱과 슬라이싱을 사용할 수 있다.\n",
    "evens = [2, 4, 6, 8, 10, 12, 14, 16, 18, 20]\n",
    "print(evens[3]) # 8\n",
    "print(evens[0:5]) # 2 4 6 8 10\n",
    "print(evens[1:3]) # 4, 6"
   ]
  },
  {
   "cell_type": "code",
   "execution_count": 49,
   "metadata": {},
   "outputs": [
    {
     "name": "stdout",
     "output_type": "stream",
     "text": [
      "[[1, 2, 3, 4, 5], [6, 7, 8, 9, 10], [11, 12, 13, 14, 15]]\n",
      "2\n",
      "[6, 7, 8, 9, 10]\n",
      "7\n"
     ]
    }
   ],
   "source": [
    "# 리스트 중첩 : 리스트 다중(2중, 3중 등)\n",
    "arr = [\n",
    "\t[1, 2, 3, 4, 5],\n",
    "  [6, 7, 8, 9, 10],\n",
    "\t[11, 12, 13, 14, 15]\n",
    "]\n",
    "\n",
    "arr2 = {\n",
    "  \"num\" : [1, 2, 3, 4, 5],\n",
    "\t\"second\":[6, 7, 8, 9, 10],\n",
    "  \"third\" : [11, 12, 13, 14, 15]\n",
    "  \n",
    "}\n",
    "print(arr)\n",
    "print(arr[0][1])\n",
    "print(arr2[\"second\"])\n",
    "print(arr2[\"second\"][1])\n",
    "# print(arr2[0]) 에러"
   ]
  },
  {
   "cell_type": "code",
   "execution_count": 50,
   "metadata": {},
   "outputs": [
    {
     "name": "stdout",
     "output_type": "stream",
     "text": [
      "(1, 2, 3, 4, 5)\n",
      "(1, 2, 3)\n",
      "(2, 3)\n",
      "(1, 2, 3, 4, 5, 1, 2, 3, 4, 5)\n",
      "(1, 2, 3, 4, 5, 5, 6, 7, 8, 9, 10)\n"
     ]
    }
   ],
   "source": [
    "# 튜플은 리스트와 비슷하다.\n",
    "a = (1, 2, 3, 4, 5)\n",
    "print(a)\n",
    "print(a[:3])\n",
    "print(a[1:3])\n",
    "print(a*2)\n",
    "\n",
    "b = (5, 6, 7, 8, 9, 10)\n",
    "print(a+b)"
   ]
  },
  {
   "cell_type": "code",
   "execution_count": 51,
   "metadata": {},
   "outputs": [
    {
     "name": "stdout",
     "output_type": "stream",
     "text": [
      "{'컴퓨터': 'computer', '키보드': 'keyborad', '모니터': 'monitor'}\n"
     ]
    }
   ],
   "source": [
    "arr1 = [\"컴퓨터\", \"키보드\", \"모니터\"]\n",
    "arr2 = [\"computer\", \"keyborad\", \"monitor\"]\n",
    "data = {}\n",
    "for i in range(3):\n",
    "  data[arr1[i]] = arr2[i]\n",
    "print(data)"
   ]
  },
  {
   "cell_type": "code",
   "execution_count": 52,
   "metadata": {},
   "outputs": [
    {
     "name": "stdout",
     "output_type": "stream",
     "text": [
      "0은 거짓이다.\n"
     ]
    }
   ],
   "source": [
    "# 파이썬에서 참인것과 거짓인것\n",
    "# 거짓 : 0, 비어있는 리스트, 튜플, 딕셔너리, None\n",
    "# 참 : 의미 있는 값들 \n",
    "if 0 : \n",
    "  print(\"참이다.\")\n",
    "else:\n",
    "  print(\"0은 거짓이다.\")"
   ]
  },
  {
   "cell_type": "code",
   "execution_count": 53,
   "metadata": {},
   "outputs": [
    {
     "name": "stdout",
     "output_type": "stream",
     "text": [
      "[]은 거짓이다.\n"
     ]
    }
   ],
   "source": [
    "if[]:\n",
    "\tprint(\"참이다.\")\n",
    "else:\n",
    "\tprint(\"[]은 거짓이다.\")"
   ]
  },
  {
   "cell_type": "code",
   "execution_count": 54,
   "metadata": {},
   "outputs": [
    {
     "name": "stdout",
     "output_type": "stream",
     "text": [
      "참이다.\n"
     ]
    }
   ],
   "source": [
    "if[1, 2, 3]:\n",
    "\tprint(\"참이다.\")\n",
    "else:\n",
    "\tprint(\"[]은 거짓이다.\")"
   ]
  },
  {
   "cell_type": "code",
   "execution_count": 55,
   "metadata": {},
   "outputs": [
    {
     "name": "stdout",
     "output_type": "stream",
     "text": [
      "거짓이다.\n"
     ]
    }
   ],
   "source": [
    "if {} :\n",
    "\tprint(\"참이다.\")\n",
    "else:\n",
    "\tprint(\"거짓이다.\")"
   ]
  },
  {
   "cell_type": "code",
   "execution_count": 56,
   "metadata": {},
   "outputs": [
    {
     "name": "stdout",
     "output_type": "stream",
     "text": [
      "참이다.\n"
     ]
    }
   ],
   "source": [
    "if \"Hello\":\n",
    "\tprint(\"참이다.\")\n",
    "else: \n",
    "\tprint(\"{}은 거짓이다.\")"
   ]
  },
  {
   "cell_type": "code",
   "execution_count": 57,
   "metadata": {},
   "outputs": [
    {
     "name": "stdout",
     "output_type": "stream",
     "text": [
      "2\n",
      "3\n",
      "4\n",
      "5\n",
      "6\n",
      "7\n",
      "8\n",
      "9\n"
     ]
    }
   ],
   "source": [
    "i = 2\n",
    "while i <10:\n",
    "  print(i)\n",
    "  # 무한루프\n",
    "  i = i + 1"
   ]
  },
  {
   "cell_type": "code",
   "execution_count": 58,
   "metadata": {},
   "outputs": [
    {
     "name": "stdout",
     "output_type": "stream",
     "text": [
      "2 * 1 = 2\n",
      "2 * 2 = 4\n",
      "2 * 3 = 6\n",
      "2 * 4 = 8\n",
      "2 * 5 = 10\n",
      "2 * 6 = 12\n",
      "2 * 7 = 14\n",
      "2 * 8 = 16\n",
      "2 * 9 = 18\n",
      "3 * 1 = 3\n",
      "3 * 2 = 6\n",
      "3 * 3 = 9\n",
      "3 * 4 = 12\n",
      "3 * 5 = 15\n",
      "3 * 6 = 18\n",
      "3 * 7 = 21\n",
      "3 * 8 = 24\n",
      "3 * 9 = 27\n",
      "4 * 1 = 4\n",
      "4 * 2 = 8\n",
      "4 * 3 = 12\n",
      "4 * 4 = 16\n",
      "4 * 5 = 20\n",
      "4 * 6 = 24\n",
      "4 * 7 = 28\n",
      "4 * 8 = 32\n",
      "4 * 9 = 36\n",
      "5 * 1 = 5\n",
      "5 * 2 = 10\n",
      "5 * 3 = 15\n",
      "5 * 4 = 20\n",
      "5 * 5 = 25\n",
      "5 * 6 = 30\n",
      "5 * 7 = 35\n",
      "5 * 8 = 40\n",
      "5 * 9 = 45\n",
      "6 * 1 = 6\n",
      "6 * 2 = 12\n",
      "6 * 3 = 18\n",
      "6 * 4 = 24\n",
      "6 * 5 = 30\n",
      "6 * 6 = 36\n",
      "6 * 7 = 42\n",
      "6 * 8 = 48\n",
      "6 * 9 = 54\n",
      "7 * 1 = 7\n",
      "7 * 2 = 14\n",
      "7 * 3 = 21\n",
      "7 * 4 = 28\n",
      "7 * 5 = 35\n",
      "7 * 6 = 42\n",
      "7 * 7 = 49\n",
      "7 * 8 = 56\n",
      "7 * 9 = 63\n",
      "8 * 1 = 8\n",
      "8 * 2 = 16\n",
      "8 * 3 = 24\n",
      "8 * 4 = 32\n",
      "8 * 5 = 40\n",
      "8 * 6 = 48\n",
      "8 * 7 = 56\n",
      "8 * 8 = 64\n",
      "8 * 9 = 72\n",
      "9 * 1 = 9\n",
      "9 * 2 = 18\n",
      "9 * 3 = 27\n",
      "9 * 4 = 36\n",
      "9 * 5 = 45\n",
      "9 * 6 = 54\n",
      "9 * 7 = 63\n",
      "9 * 8 = 72\n",
      "9 * 9 = 81\n"
     ]
    }
   ],
   "source": [
    "i = 2\n",
    "while i < 10:\n",
    "  j = 1\n",
    "  while j < 10:\n",
    "    print(f\"{i} * {j} = {i*j}\")\n",
    "    j = j + 1\n",
    "  i = i + 1"
   ]
  },
  {
   "cell_type": "markdown",
   "metadata": {},
   "source": [
    "파이썬에서는 여러가지 파일 모드를 제공한다.\n",
    "- r : 읽기 모드\n",
    "- w : 쓰기 모드\n",
    "- a : 추가 모드 (파일 맨 마지막에 새로운 내용추가)"
   ]
  },
  {
   "cell_type": "code",
   "execution_count": 59,
   "metadata": {},
   "outputs": [],
   "source": [
    "# 파일 출력\n",
    "f = open(\"result.txt\", \"w\", encoding=\"utf-8\")\n",
    "for line in range(1, 6):\n",
    "  data = f\"{line}번째 줄 \\n\"\n",
    "  f.write(data)\n",
    "f.close()"
   ]
  },
  {
   "cell_type": "markdown",
   "metadata": {},
   "source": [
    "파일 읽기\n",
    "- readLine()함수를 이용하면 파일 데이터를 한 줄 씩 읽을 수 있다.\n",
    "- 각 줄 마지막에 줄바꿈 기호(\\n)더 함께 포함"
   ]
  },
  {
   "cell_type": "code",
   "execution_count": 60,
   "metadata": {},
   "outputs": [
    {
     "name": "stdout",
     "output_type": "stream",
     "text": [
      "1번째 줄\n",
      "2번째 줄\n",
      "3번째 줄\n",
      "4번째 줄\n",
      "5번째 줄\n"
     ]
    }
   ],
   "source": [
    "f = open(\"result.txt\", \"r\", encoding=\"utf-8\")\n",
    "while True:\n",
    "    line = f.readline()\n",
    "    if not line: # 더 읽을 문장이 없다면\n",
    "        break\n",
    "    else:\n",
    "        print(line.strip())\n",
    "f.close()"
   ]
  },
  {
   "cell_type": "code",
   "execution_count": 61,
   "metadata": {},
   "outputs": [
    {
     "name": "stdout",
     "output_type": "stream",
     "text": [
      "1번째 줄\n",
      "2번째 줄\n",
      "3번째 줄\n",
      "4번째 줄\n",
      "5번째 줄\n"
     ]
    }
   ],
   "source": [
    "with open(\"result.txt\", \"r\", encoding=\"utf-8\") as f:\n",
    "\tfor line in f:\n",
    "\t\tprint(line.strip())"
   ]
  }
 ],
 "metadata": {
  "kernelspec": {
   "display_name": "basic-step1",
   "language": "python",
   "name": "python3"
  },
  "language_info": {
   "codemirror_mode": {
    "name": "ipython",
    "version": 3
   },
   "file_extension": ".py",
   "mimetype": "text/x-python",
   "name": "python",
   "nbconvert_exporter": "python",
   "pygments_lexer": "ipython3",
   "version": "3.11.9"
  }
 },
 "nbformat": 4,
 "nbformat_minor": 2
}
