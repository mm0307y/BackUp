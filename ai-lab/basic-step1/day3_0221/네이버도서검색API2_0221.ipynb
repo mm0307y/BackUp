{
 "cells": [
  {
   "cell_type": "markdown",
   "metadata": {},
   "source": [
    "- 판다스 라이브러리 사용\n",
    "- !pip install pands\n",
    "- !pip install requests : url을  활용하여 서버에 요청을 하고 응답을 받아와야 하므로 requests 라이브러리가 필요하다."
   ]
  },
  {
   "cell_type": "code",
   "execution_count": 1,
   "metadata": {},
   "outputs": [
    {
     "data": {
      "text/plain": [
       "'파이썬'"
      ]
     },
     "execution_count": 1,
     "metadata": {},
     "output_type": "execute_result"
    }
   ],
   "source": [
    "import requests\n",
    "bookName = input(\"검색할 도서 이름을 작성하시오.\")\n",
    "pagesize = 5 # 한 페이지에 몇개를 출력할까\n",
    "bookName # 파이썬"
   ]
  },
  {
   "cell_type": "code",
   "execution_count": 2,
   "metadata": {},
   "outputs": [],
   "source": [
    "# url\n",
    "# 내용을 담을 변수\n",
    "# 인증을 위한 개인 정보"
   ]
  },
  {
   "cell_type": "code",
   "execution_count": 3,
   "metadata": {},
   "outputs": [],
   "source": [
    "# 네이버 개발자 센터 제공하는 서버에 요청하는데 필요한 선언이다.\n",
    "# https프로토콜(s:시큐리티-인증서 등록), ? 쿼리 스트링(쿼리 스트링을 통해서 필요한 정보를 서버측에 전달이 가능하다.)\n",
    "# 요청할 때도 쿼리 스트링을 사용하지만 응답을 받아올 때도 사용 가능 - 카카오 로그인을 통해 봤다.\n",
    "# URLSearchParams, queryString, @RequstParam\n",
    "url = f\"https://openapi.naver.com/v1/search/book.json?query={bookName}&start=1&display={pagesize}\"\n",
    "\n",
    "payload = {} # 요청은 개발자 응답은 네이버 서버에서 한다.\n",
    "headers = { # 네이버 서버에 요청할 때 인증이 필요하다.\n",
    "  'X-Naver-Client-Id': 'xsEQ9EfmRwjEwaFdNOxj',\n",
    "  'X-Naver-Client-Secret': 'xwfk5kymj0'\n",
    "}"
   ]
  },
  {
   "cell_type": "markdown",
   "metadata": {},
   "source": [
    "응답처리하기"
   ]
  },
  {
   "cell_type": "code",
   "execution_count": 4,
   "metadata": {},
   "outputs": [],
   "source": [
    "# 외부에 이러한 요청을 할 때는 지연이 발생할 수 있다. - 비동기 처리해야 한다. - axios\n",
    "res = requests.request(\"GET\", url, headers=headers, data = payload)\n",
    "data = res.json()"
   ]
  },
  {
   "cell_type": "code",
   "execution_count": 5,
   "metadata": {},
   "outputs": [
    {
     "data": {
      "text/plain": [
       "{'lastBuildDate': 'Fri, 21 Feb 2025 17:17:22 +0900',\n",
       " 'total': 1076,\n",
       " 'start': 1,\n",
       " 'display': 5,\n",
       " 'items': [{'title': '혼자 만들면서 공부하는 파이썬 (37개 라이브러리와 API로 보고서, 차트, 게임, 맵, AI 챗봇 만들기|저자 직강 유튜브 강의, 오픈 채팅 제공)',\n",
       "   'link': 'https://search.shopping.naver.com/book/catalog/52859338841',\n",
       "   'image': 'https://shopping-phinf.pstatic.net/main_5285933/52859338841.20250209071357.jpg',\n",
       "   'author': '문현일',\n",
       "   'discount': '19800',\n",
       "   'publisher': '한빛미디어',\n",
       "   'pubdate': '20250214',\n",
       "   'isbn': '9791169213271',\n",
       "   'description': '“파이썬을 배워서 어디에 활용할 수 있을지 궁금했나요?”\\n나의 신용카드 내역 분석, 우리 아파트 실거래가 시각화해보기, 맛집 지도 웹 앱 만들기 등 \\n생활 속  15가지 파이썬 프로젝트를 직접 완성해 보며 재미있게 실전 경험 쌓기!\\n\\nQR 코드, 이미지 콜라주 등 일상과 가까운 생활형 프로젝트부터 부동산, 경제지표, 시가총액 같은 실용적인 데이터를 다루는 프로젝트, LLM, 멀티모달 AI와 TTS 등 최신 기술까지! 폭넓은 주제를 통해 흥미롭게 따라 해 보세요.\\n\\n●\\t 주식 & 경제 데이터 분석 - 시가총액, 기준금리, 주요 경제지표 데이터 분석 및 시각화하기\\n●\\t 부동산 실거래가 분석 - 지역별 단위면적당 아파트 매매 실거래가 평균 지도로 만들기\\n●\\t 멀티모달 AI & 챗봇 개발 - 생성형 AI와 챗봇을 활용한 실시간 영자 신문 스크레이핑\\n●\\t 웹 자동화 & 크롤링 - 연관 키워드 분석을 통한 연령별, 성별 쇼핑 트렌드 분석\\n●\\t 게임 & GUI 개발 - 슬라이딩 퍼즐, 영어 받아쓰기 앱으로 직접 만들어 보는 인터랙티브 프로젝트'},\n",
       "  {'title': '밑바닥부터 시작하는 딥러닝 1(리마스터판) (파이썬으로 익히는 딥러닝 이론과 구현)',\n",
       "   'link': 'https://search.shopping.naver.com/book/catalog/52615553184',\n",
       "   'image': 'https://shopping-phinf.pstatic.net/main_5261555/52615553184.20250123071242.jpg',\n",
       "   'author': '사이토 고키',\n",
       "   'discount': '23400',\n",
       "   'publisher': '한빛미디어',\n",
       "   'pubdate': '20250124',\n",
       "   'isbn': '9791169213387',\n",
       "   'description': '딥러닝 분야 부동의 베스트셀러!\\n머리로 이해하고 손으로 익히는 가장 쉬운 딥러닝 입문서\\n\\n이 책은 딥러닝의 핵심 개념을 ‘밑바닥부터’ 구현해보며 기초를 한 걸음씩 탄탄하게 다질 수 있도록 도와주는 친절한 안내서입니다. 라이브러리나 프레임워크에 의존하지 않고 딥러닝의 기본 개념부터 이미지 인식에 활용되는 합성곱 신경망(CNN)까지 딥러닝의 원리를 체계적으로 설명합니다. 또한 복잡한 개념은 계산 그래프를 활용해 시각적으로 전달하여 누구나 쉽게 이해할 수 있습니다. 이 책은 딥러닝에 첫발을 내딛는 입문자는 물론이고 기초를 다시금 다지고 싶은 개발자와 연구자에게도 훌륭한 길잡이가 되어줄 것입니다.'},\n",
       "  {'title': '혼자 공부하는 파이썬 (1:1 과외하듯 배우는 프로그래밍 자습서)',\n",
       "   'link': 'https://search.shopping.naver.com/book/catalog/32507605957',\n",
       "   'image': 'https://shopping-phinf.pstatic.net/main_3250760/32507605957.20230509170119.jpg',\n",
       "   'author': '윤인성',\n",
       "   'discount': '19800',\n",
       "   'publisher': '한빛미디어',\n",
       "   'pubdate': '20220601',\n",
       "   'isbn': '9791162245651',\n",
       "   'description': '혼자 해도 충분하다! 1:1 과외하듯 배우는 파이썬 프로그래밍 자습서\\n\\n『혼자 공부하는 파이썬』이 더욱 흥미있고 알찬 내용으로 개정되었습니다. 프로그래밍이 정말 처음인 입문자도 따라갈 수 있는 친절한 설명과 단계별 학습은 그대로! 혼자 공부하더라도 체계적으로 계획을 세워 학습할 수 있도록 ‘혼공 계획표’를 새롭게 추가했습니다. 또한 입문자가 자주 물어보는 질문과 오류 해결 방법을 적재적소에 배치하여 예상치 못한 문제에 부딪혀도 좌절하지 않고 끝까지 완독할 수 있도록 도와줍니다. 단순한 문법 암기와 코딩 따라하기에 지쳤다면, 새로운 혼공파와 함께 ‘누적 예제’와 ‘도전 문제’로 프로그래밍의 신세계를 경험해 보세요! 배운 내용을 씹고 뜯고 맛보고 즐기다 보면 응용력은 물론 알고리즘 사고력까지 키워 코딩 실력이 쑥쑥 성장할 것입니다.\\n\\n이 책은 독학으로 파이썬을 배우는 입문자가 ‘꼭 필요한 내용을 제대로 학습’할 수 있도록 구성했습니다. 뭘 모르는지조차 모르는 입문자의 막연한 마음에 십분 공감하여 과외 선생님이 알려주듯 친절하게, 핵심적인 내용만 콕콕 집어줍니다. 책의 첫 페이지를 펼쳐서 마지막 페이지를 덮을 때까지, 혼자서도 충분히 파이썬을 배울 수 있다는 자신감과 확신이 계속될 것입니다!\\n\\n베타리더와 함께 입문자에게 맞는 난이도, 분량, 학습 요소 등을 적극 반영했습니다. 어려운 용어와 개념은 한 번 더 풀어쓰고, 복잡한 설명은 눈에 잘 들어오는 그림으로 풀어냈습니다. ‘혼자 공부해 본’ 여러 입문자의 초심과 눈높이가 책 곳곳에 반영된 것이 이 책의 가장 큰 장점입니다.'},\n",
       "  {'title': 'Do it! 점프 투 파이썬 (중학생도 첫날부터 실습하는 초고속 입문서)',\n",
       "   'link': 'https://search.shopping.naver.com/book/catalog/40354085633',\n",
       "   'image': 'https://shopping-phinf.pstatic.net/main_4035408/40354085633.20230927071024.jpg',\n",
       "   'author': '박응용',\n",
       "   'discount': '19800',\n",
       "   'publisher': '이지스퍼블리싱',\n",
       "   'pubdate': '20230615',\n",
       "   'isbn': '9791163034735',\n",
       "   'description': '프로그래밍 분야 8년 연속 베스트셀러!\\n《Do it! 점프 투 파이썬》 전면 개정 2판 출시!\\n\\n중고등학생도, 비전공자도, 직장인도 프로그래밍에 눈뜨게 만든 바로 그 책이 전면 개정 2판으로 새롭게 태어났다! 챗GPT를 시작으로 펼쳐진 생성 AI 시대에 맞춰 설명과 예제를 다듬고, 최신 경향과 심화 내용을 보충했다. 또한 이번 개정 2판도 50만 코딩 유튜버인 조코딩과 협업을 통해 유튜브 동영상을 제공해 파이썬을 더 쉽게 공부할 수 있다.\\n\\n8년 연속 베스트셀러! 위키독스 누적 방문 300만! 독자의 입에서 입으로 전해진 추천과 수많은 대학 및 학원의 교재 채택을 통해 검증은 이미 끝났다. 코딩을 처음 배우는 중고등학생부터 코딩 소양을 기르려는 비전공자, 자기계발에 진심인 직장인까지! 이 책과 함께 파이썬 프로그래밍의 세계로 ‘점프’해 보자!'},\n",
       "  {'title': '파이썬',\n",
       "   'link': 'https://search.shopping.naver.com/book/catalog/32460987987',\n",
       "   'image': 'https://shopping-phinf.pstatic.net/main_3246098/32460987987.20230207163755.jpg',\n",
       "   'author': '홍의경',\n",
       "   'discount': '29440',\n",
       "   'publisher': '생능출판',\n",
       "   'pubdate': '20220309',\n",
       "   'isbn': '9788970506784',\n",
       "   'description': '코딩 실력을 키우는 지름길은 실습이다.\\n\\n2008년 즈음에 검인정 중학교 교과서 정보1, 정보2, 정보3을 공저로 저술하였습니다. 그 당시에 8종류의 교과서가 검인정에 합격하였는데, 파이썬을 기반으로 하는 교과서가 2종류, C언어를 기반으로 하는 교과서가 2종류, 베이직을 기반으로 하는 교과서가 2종류, 스크래치를 기반으로 하는 교과서가 2종류였습니다.\\n\\n교육용 언어로 시작한 파이썬이 중학교 학생들이 비교적 쉽게 학습할 수 있는 프로그래밍 언어라고 생각했는데 10여년의 세월이 흐른 지금 파이썬이 활용되는 분야가 가히 폭발적으로 증가하였습니다. \\n\\n파이썬에 관한 쉽고 좋은 교재를 저술하기 위해서 인터넷에서 30,000페이지 이상의 자료를 찾아서 검토하였습니다. 어쩌면 파이썬이 첫 프로그래밍 언어일 본 교재의 독자들이 두려움 없이 파이썬을 기초부터 쉽게 공부하다가, 교재를 다 읽고 나면 “어느새 중급 수준에 도달했구나”라는 생각이 들도록  완성도 높은 교재를 목표로 하였습니다. \\n\\n입문자를 대상으로 하는 교재일수록 집필하는데 훨씬 더 많은 정성과 노력이 필요하다는 것을 잘 알고 있습니다. 개인적으로는 데이터베이스 전공교재를 저술할 때보다 몇 배 더 힘들었고, 공을 많이 들였습니다. \\n\\n원고를 버전 9까지 작성하는 동안 셀 수 없이 원고를 읽어보면서 꼭 필요하지 않은 문장은 삭제하고, 필요한 문장은 반드시 넣었습니다. 고등학교 검인정 교과서 1권, 중학교 검인정 교과서 3권, 데이터베이스 전공 교재 2권, 엑셀 교재 1권, 번역서 2권을 집필하면서 나름대로 한글을 정확하고 간결하게 표현하는데 자신이 있습니다.'}]}"
      ]
     },
     "execution_count": 5,
     "metadata": {},
     "output_type": "execute_result"
    }
   ],
   "source": [
    "data"
   ]
  },
  {
   "cell_type": "code",
   "execution_count": 6,
   "metadata": {},
   "outputs": [
    {
     "data": {
      "text/plain": [
       "requests.models.Response"
      ]
     },
     "execution_count": 6,
     "metadata": {},
     "output_type": "execute_result"
    }
   ],
   "source": [
    "type(res)"
   ]
  },
  {
   "cell_type": "code",
   "execution_count": 7,
   "metadata": {},
   "outputs": [
    {
     "name": "stdout",
     "output_type": "stream",
     "text": [
      "{\n",
      "\t\"lastBuildDate\":\"Fri, 21 Feb 2025 17:17:22 +0900\",\n",
      "\t\"total\":1076,\n",
      "\t\"start\":1,\n",
      "\t\"display\":5,\n",
      "\t\"items\":[\n",
      "\t\t{\n",
      "\t\t\t\"title\":\"혼자 만들면서 공부하는 파이썬 (37개 라이브러리와 API로 보고서, 차트, 게임, 맵, AI 챗봇 만들기|저자 직강 유튜브 강의, 오픈 채팅 제공)\",\n",
      "\t\t\t\"link\":\"https:\\/\\/search.shopping.naver.com\\/book\\/catalog\\/52859338841\",\n",
      "\t\t\t\"image\":\"https:\\/\\/shopping-phinf.pstatic.net\\/main_5285933\\/52859338841.20250209071357.jpg\",\n",
      "\t\t\t\"author\":\"문현일\",\n",
      "\t\t\t\"discount\":\"19800\",\n",
      "\t\t\t\"publisher\":\"한빛미디어\",\n",
      "\t\t\t\"pubdate\":\"20250214\",\n",
      "\t\t\t\"isbn\":\"9791169213271\",\n",
      "\t\t\t\"description\":\"“파이썬을 배워서 어디에 활용할 수 있을지 궁금했나요?”\\n나의 신용카드 내역 분석, 우리 아파트 실거래가 시각화해보기, 맛집 지도 웹 앱 만들기 등 \\n생활 속  15가지 파이썬 프로젝트를 직접 완성해 보며 재미있게 실전 경험 쌓기!\\n\\nQR 코드, 이미지 콜라주 등 일상과 가까운 생활형 프로젝트부터 부동산, 경제지표, 시가총액 같은 실용적인 데이터를 다루는 프로젝트, LLM, 멀티모달 AI와 TTS 등 최신 기술까지! 폭넓은 주제를 통해 흥미롭게 따라 해 보세요.\\n\\n●\\t 주식 & 경제 데이터 분석 - 시가총액, 기준금리, 주요 경제지표 데이터 분석 및 시각화하기\\n●\\t 부동산 실거래가 분석 - 지역별 단위면적당 아파트 매매 실거래가 평균 지도로 만들기\\n●\\t 멀티모달 AI & 챗봇 개발 - 생성형 AI와 챗봇을 활용한 실시간 영자 신문 스크레이핑\\n●\\t 웹 자동화 & 크롤링 - 연관 키워드 분석을 통한 연령별, 성별 쇼핑 트렌드 분석\\n●\\t 게임 & GUI 개발 - 슬라이딩 퍼즐, 영어 받아쓰기 앱으로 직접 만들어 보는 인터랙티브 프로젝트\"\n",
      "\t\t},\n",
      "\t\t{\n",
      "\t\t\t\"title\":\"밑바닥부터 시작하는 딥러닝 1(리마스터판) (파이썬으로 익히는 딥러닝 이론과 구현)\",\n",
      "\t\t\t\"link\":\"https:\\/\\/search.shopping.naver.com\\/book\\/catalog\\/52615553184\",\n",
      "\t\t\t\"image\":\"https:\\/\\/shopping-phinf.pstatic.net\\/main_5261555\\/52615553184.20250123071242.jpg\",\n",
      "\t\t\t\"author\":\"사이토 고키\",\n",
      "\t\t\t\"discount\":\"23400\",\n",
      "\t\t\t\"publisher\":\"한빛미디어\",\n",
      "\t\t\t\"pubdate\":\"20250124\",\n",
      "\t\t\t\"isbn\":\"9791169213387\",\n",
      "\t\t\t\"description\":\"딥러닝 분야 부동의 베스트셀러!\\n머리로 이해하고 손으로 익히는 가장 쉬운 딥러닝 입문서\\n\\n이 책은 딥러닝의 핵심 개념을 ‘밑바닥부터’ 구현해보며 기초를 한 걸음씩 탄탄하게 다질 수 있도록 도와주는 친절한 안내서입니다. 라이브러리나 프레임워크에 의존하지 않고 딥러닝의 기본 개념부터 이미지 인식에 활용되는 합성곱 신경망(CNN)까지 딥러닝의 원리를 체계적으로 설명합니다. 또한 복잡한 개념은 계산 그래프를 활용해 시각적으로 전달하여 누구나 쉽게 이해할 수 있습니다. 이 책은 딥러닝에 첫발을 내딛는 입문자는 물론이고 기초를 다시금 다지고 싶은 개발자와 연구자에게도 훌륭한 길잡이가 되어줄 것입니다.\"\n",
      "\t\t},\n",
      "\t\t{\n",
      "\t\t\t\"title\":\"혼자 공부하는 파이썬 (1:1 과외하듯 배우는 프로그래밍 자습서)\",\n",
      "\t\t\t\"link\":\"https:\\/\\/search.shopping.naver.com\\/book\\/catalog\\/32507605957\",\n",
      "\t\t\t\"image\":\"https:\\/\\/shopping-phinf.pstatic.net\\/main_3250760\\/32507605957.20230509170119.jpg\",\n",
      "\t\t\t\"author\":\"윤인성\",\n",
      "\t\t\t\"discount\":\"19800\",\n",
      "\t\t\t\"publisher\":\"한빛미디어\",\n",
      "\t\t\t\"pubdate\":\"20220601\",\n",
      "\t\t\t\"isbn\":\"9791162245651\",\n",
      "\t\t\t\"description\":\"혼자 해도 충분하다! 1:1 과외하듯 배우는 파이썬 프로그래밍 자습서\\n\\n『혼자 공부하는 파이썬』이 더욱 흥미있고 알찬 내용으로 개정되었습니다. 프로그래밍이 정말 처음인 입문자도 따라갈 수 있는 친절한 설명과 단계별 학습은 그대로! 혼자 공부하더라도 체계적으로 계획을 세워 학습할 수 있도록 ‘혼공 계획표’를 새롭게 추가했습니다. 또한 입문자가 자주 물어보는 질문과 오류 해결 방법을 적재적소에 배치하여 예상치 못한 문제에 부딪혀도 좌절하지 않고 끝까지 완독할 수 있도록 도와줍니다. 단순한 문법 암기와 코딩 따라하기에 지쳤다면, 새로운 혼공파와 함께 ‘누적 예제’와 ‘도전 문제’로 프로그래밍의 신세계를 경험해 보세요! 배운 내용을 씹고 뜯고 맛보고 즐기다 보면 응용력은 물론 알고리즘 사고력까지 키워 코딩 실력이 쑥쑥 성장할 것입니다.\\n\\n이 책은 독학으로 파이썬을 배우는 입문자가 ‘꼭 필요한 내용을 제대로 학습’할 수 있도록 구성했습니다. 뭘 모르는지조차 모르는 입문자의 막연한 마음에 십분 공감하여 과외 선생님이 알려주듯 친절하게, 핵심적인 내용만 콕콕 집어줍니다. 책의 첫 페이지를 펼쳐서 마지막 페이지를 덮을 때까지, 혼자서도 충분히 파이썬을 배울 수 있다는 자신감과 확신이 계속될 것입니다!\\n\\n베타리더와 함께 입문자에게 맞는 난이도, 분량, 학습 요소 등을 적극 반영했습니다. 어려운 용어와 개념은 한 번 더 풀어쓰고, 복잡한 설명은 눈에 잘 들어오는 그림으로 풀어냈습니다. ‘혼자 공부해 본’ 여러 입문자의 초심과 눈높이가 책 곳곳에 반영된 것이 이 책의 가장 큰 장점입니다.\"\n",
      "\t\t},\n",
      "\t\t{\n",
      "\t\t\t\"title\":\"Do it! 점프 투 파이썬 (중학생도 첫날부터 실습하는 초고속 입문서)\",\n",
      "\t\t\t\"link\":\"https:\\/\\/search.shopping.naver.com\\/book\\/catalog\\/40354085633\",\n",
      "\t\t\t\"image\":\"https:\\/\\/shopping-phinf.pstatic.net\\/main_4035408\\/40354085633.20230927071024.jpg\",\n",
      "\t\t\t\"author\":\"박응용\",\n",
      "\t\t\t\"discount\":\"19800\",\n",
      "\t\t\t\"publisher\":\"이지스퍼블리싱\",\n",
      "\t\t\t\"pubdate\":\"20230615\",\n",
      "\t\t\t\"isbn\":\"9791163034735\",\n",
      "\t\t\t\"description\":\"프로그래밍 분야 8년 연속 베스트셀러!\\n《Do it! 점프 투 파이썬》 전면 개정 2판 출시!\\n\\n중고등학생도, 비전공자도, 직장인도 프로그래밍에 눈뜨게 만든 바로 그 책이 전면 개정 2판으로 새롭게 태어났다! 챗GPT를 시작으로 펼쳐진 생성 AI 시대에 맞춰 설명과 예제를 다듬고, 최신 경향과 심화 내용을 보충했다. 또한 이번 개정 2판도 50만 코딩 유튜버인 조코딩과 협업을 통해 유튜브 동영상을 제공해 파이썬을 더 쉽게 공부할 수 있다.\\n\\n8년 연속 베스트셀러! 위키독스 누적 방문 300만! 독자의 입에서 입으로 전해진 추천과 수많은 대학 및 학원의 교재 채택을 통해 검증은 이미 끝났다. 코딩을 처음 배우는 중고등학생부터 코딩 소양을 기르려는 비전공자, 자기계발에 진심인 직장인까지! 이 책과 함께 파이썬 프로그래밍의 세계로 ‘점프’해 보자!\"\n",
      "\t\t},\n",
      "\t\t{\n",
      "\t\t\t\"title\":\"파이썬\",\n",
      "\t\t\t\"link\":\"https:\\/\\/search.shopping.naver.com\\/book\\/catalog\\/32460987987\",\n",
      "\t\t\t\"image\":\"https:\\/\\/shopping-phinf.pstatic.net\\/main_3246098\\/32460987987.20230207163755.jpg\",\n",
      "\t\t\t\"author\":\"홍의경\",\n",
      "\t\t\t\"discount\":\"29440\",\n",
      "\t\t\t\"publisher\":\"생능출판\",\n",
      "\t\t\t\"pubdate\":\"20220309\",\n",
      "\t\t\t\"isbn\":\"9788970506784\",\n",
      "\t\t\t\"description\":\"코딩 실력을 키우는 지름길은 실습이다.\\n\\n2008년 즈음에 검인정 중학교 교과서 정보1, 정보2, 정보3을 공저로 저술하였습니다. 그 당시에 8종류의 교과서가 검인정에 합격하였는데, 파이썬을 기반으로 하는 교과서가 2종류, C언어를 기반으로 하는 교과서가 2종류, 베이직을 기반으로 하는 교과서가 2종류, 스크래치를 기반으로 하는 교과서가 2종류였습니다.\\n\\n교육용 언어로 시작한 파이썬이 중학교 학생들이 비교적 쉽게 학습할 수 있는 프로그래밍 언어라고 생각했는데 10여년의 세월이 흐른 지금 파이썬이 활용되는 분야가 가히 폭발적으로 증가하였습니다. \\n\\n파이썬에 관한 쉽고 좋은 교재를 저술하기 위해서 인터넷에서 30,000페이지 이상의 자료를 찾아서 검토하였습니다. 어쩌면 파이썬이 첫 프로그래밍 언어일 본 교재의 독자들이 두려움 없이 파이썬을 기초부터 쉽게 공부하다가, 교재를 다 읽고 나면 “어느새 중급 수준에 도달했구나”라는 생각이 들도록  완성도 높은 교재를 목표로 하였습니다. \\n\\n입문자를 대상으로 하는 교재일수록 집필하는데 훨씬 더 많은 정성과 노력이 필요하다는 것을 잘 알고 있습니다. 개인적으로는 데이터베이스 전공교재를 저술할 때보다 몇 배 더 힘들었고, 공을 많이 들였습니다. \\n\\n원고를 버전 9까지 작성하는 동안 셀 수 없이 원고를 읽어보면서 꼭 필요하지 않은 문장은 삭제하고, 필요한 문장은 반드시 넣었습니다. 고등학교 검인정 교과서 1권, 중학교 검인정 교과서 3권, 데이터베이스 전공 교재 2권, 엑셀 교재 1권, 번역서 2권을 집필하면서 나름대로 한글을 정확하고 간결하게 표현하는데 자신이 있습니다.\"\n",
      "\t\t}\n",
      "\t]\n",
      "}\n"
     ]
    }
   ],
   "source": [
    "print(res.text)"
   ]
  },
  {
   "cell_type": "code",
   "execution_count": 8,
   "metadata": {},
   "outputs": [
    {
     "name": "stdout",
     "output_type": "stream",
     "text": [
      "{'lastBuildDate': 'Fri, 21 Feb 2025 17:17:22 +0900', 'total': 1076, 'start': 1, 'display': 5, 'items': [{'title': '혼자 만들면서 공부하는 파이썬 (37개 라이브러리와 API로 보고서, 차트, 게임, 맵, AI 챗봇 만들기|저자 직강 유튜브 강의, 오픈 채팅 제공)', 'link': 'https://search.shopping.naver.com/book/catalog/52859338841', 'image': 'https://shopping-phinf.pstatic.net/main_5285933/52859338841.20250209071357.jpg', 'author': '문현일', 'discount': '19800', 'publisher': '한빛미디어', 'pubdate': '20250214', 'isbn': '9791169213271', 'description': '“파이썬을 배워서 어디에 활용할 수 있을지 궁금했나요?”\\n나의 신용카드 내역 분석, 우리 아파트 실거래가 시각화해보기, 맛집 지도 웹 앱 만들기 등 \\n생활 속  15가지 파이썬 프로젝트를 직접 완성해 보며 재미있게 실전 경험 쌓기!\\n\\nQR 코드, 이미지 콜라주 등 일상과 가까운 생활형 프로젝트부터 부동산, 경제지표, 시가총액 같은 실용적인 데이터를 다루는 프로젝트, LLM, 멀티모달 AI와 TTS 등 최신 기술까지! 폭넓은 주제를 통해 흥미롭게 따라 해 보세요.\\n\\n●\\t 주식 & 경제 데이터 분석 - 시가총액, 기준금리, 주요 경제지표 데이터 분석 및 시각화하기\\n●\\t 부동산 실거래가 분석 - 지역별 단위면적당 아파트 매매 실거래가 평균 지도로 만들기\\n●\\t 멀티모달 AI & 챗봇 개발 - 생성형 AI와 챗봇을 활용한 실시간 영자 신문 스크레이핑\\n●\\t 웹 자동화 & 크롤링 - 연관 키워드 분석을 통한 연령별, 성별 쇼핑 트렌드 분석\\n●\\t 게임 & GUI 개발 - 슬라이딩 퍼즐, 영어 받아쓰기 앱으로 직접 만들어 보는 인터랙티브 프로젝트'}, {'title': '밑바닥부터 시작하는 딥러닝 1(리마스터판) (파이썬으로 익히는 딥러닝 이론과 구현)', 'link': 'https://search.shopping.naver.com/book/catalog/52615553184', 'image': 'https://shopping-phinf.pstatic.net/main_5261555/52615553184.20250123071242.jpg', 'author': '사이토 고키', 'discount': '23400', 'publisher': '한빛미디어', 'pubdate': '20250124', 'isbn': '9791169213387', 'description': '딥러닝 분야 부동의 베스트셀러!\\n머리로 이해하고 손으로 익히는 가장 쉬운 딥러닝 입문서\\n\\n이 책은 딥러닝의 핵심 개념을 ‘밑바닥부터’ 구현해보며 기초를 한 걸음씩 탄탄하게 다질 수 있도록 도와주는 친절한 안내서입니다. 라이브러리나 프레임워크에 의존하지 않고 딥러닝의 기본 개념부터 이미지 인식에 활용되는 합성곱 신경망(CNN)까지 딥러닝의 원리를 체계적으로 설명합니다. 또한 복잡한 개념은 계산 그래프를 활용해 시각적으로 전달하여 누구나 쉽게 이해할 수 있습니다. 이 책은 딥러닝에 첫발을 내딛는 입문자는 물론이고 기초를 다시금 다지고 싶은 개발자와 연구자에게도 훌륭한 길잡이가 되어줄 것입니다.'}, {'title': '혼자 공부하는 파이썬 (1:1 과외하듯 배우는 프로그래밍 자습서)', 'link': 'https://search.shopping.naver.com/book/catalog/32507605957', 'image': 'https://shopping-phinf.pstatic.net/main_3250760/32507605957.20230509170119.jpg', 'author': '윤인성', 'discount': '19800', 'publisher': '한빛미디어', 'pubdate': '20220601', 'isbn': '9791162245651', 'description': '혼자 해도 충분하다! 1:1 과외하듯 배우는 파이썬 프로그래밍 자습서\\n\\n『혼자 공부하는 파이썬』이 더욱 흥미있고 알찬 내용으로 개정되었습니다. 프로그래밍이 정말 처음인 입문자도 따라갈 수 있는 친절한 설명과 단계별 학습은 그대로! 혼자 공부하더라도 체계적으로 계획을 세워 학습할 수 있도록 ‘혼공 계획표’를 새롭게 추가했습니다. 또한 입문자가 자주 물어보는 질문과 오류 해결 방법을 적재적소에 배치하여 예상치 못한 문제에 부딪혀도 좌절하지 않고 끝까지 완독할 수 있도록 도와줍니다. 단순한 문법 암기와 코딩 따라하기에 지쳤다면, 새로운 혼공파와 함께 ‘누적 예제’와 ‘도전 문제’로 프로그래밍의 신세계를 경험해 보세요! 배운 내용을 씹고 뜯고 맛보고 즐기다 보면 응용력은 물론 알고리즘 사고력까지 키워 코딩 실력이 쑥쑥 성장할 것입니다.\\n\\n이 책은 독학으로 파이썬을 배우는 입문자가 ‘꼭 필요한 내용을 제대로 학습’할 수 있도록 구성했습니다. 뭘 모르는지조차 모르는 입문자의 막연한 마음에 십분 공감하여 과외 선생님이 알려주듯 친절하게, 핵심적인 내용만 콕콕 집어줍니다. 책의 첫 페이지를 펼쳐서 마지막 페이지를 덮을 때까지, 혼자서도 충분히 파이썬을 배울 수 있다는 자신감과 확신이 계속될 것입니다!\\n\\n베타리더와 함께 입문자에게 맞는 난이도, 분량, 학습 요소 등을 적극 반영했습니다. 어려운 용어와 개념은 한 번 더 풀어쓰고, 복잡한 설명은 눈에 잘 들어오는 그림으로 풀어냈습니다. ‘혼자 공부해 본’ 여러 입문자의 초심과 눈높이가 책 곳곳에 반영된 것이 이 책의 가장 큰 장점입니다.'}, {'title': 'Do it! 점프 투 파이썬 (중학생도 첫날부터 실습하는 초고속 입문서)', 'link': 'https://search.shopping.naver.com/book/catalog/40354085633', 'image': 'https://shopping-phinf.pstatic.net/main_4035408/40354085633.20230927071024.jpg', 'author': '박응용', 'discount': '19800', 'publisher': '이지스퍼블리싱', 'pubdate': '20230615', 'isbn': '9791163034735', 'description': '프로그래밍 분야 8년 연속 베스트셀러!\\n《Do it! 점프 투 파이썬》 전면 개정 2판 출시!\\n\\n중고등학생도, 비전공자도, 직장인도 프로그래밍에 눈뜨게 만든 바로 그 책이 전면 개정 2판으로 새롭게 태어났다! 챗GPT를 시작으로 펼쳐진 생성 AI 시대에 맞춰 설명과 예제를 다듬고, 최신 경향과 심화 내용을 보충했다. 또한 이번 개정 2판도 50만 코딩 유튜버인 조코딩과 협업을 통해 유튜브 동영상을 제공해 파이썬을 더 쉽게 공부할 수 있다.\\n\\n8년 연속 베스트셀러! 위키독스 누적 방문 300만! 독자의 입에서 입으로 전해진 추천과 수많은 대학 및 학원의 교재 채택을 통해 검증은 이미 끝났다. 코딩을 처음 배우는 중고등학생부터 코딩 소양을 기르려는 비전공자, 자기계발에 진심인 직장인까지! 이 책과 함께 파이썬 프로그래밍의 세계로 ‘점프’해 보자!'}, {'title': '파이썬', 'link': 'https://search.shopping.naver.com/book/catalog/32460987987', 'image': 'https://shopping-phinf.pstatic.net/main_3246098/32460987987.20230207163755.jpg', 'author': '홍의경', 'discount': '29440', 'publisher': '생능출판', 'pubdate': '20220309', 'isbn': '9788970506784', 'description': '코딩 실력을 키우는 지름길은 실습이다.\\n\\n2008년 즈음에 검인정 중학교 교과서 정보1, 정보2, 정보3을 공저로 저술하였습니다. 그 당시에 8종류의 교과서가 검인정에 합격하였는데, 파이썬을 기반으로 하는 교과서가 2종류, C언어를 기반으로 하는 교과서가 2종류, 베이직을 기반으로 하는 교과서가 2종류, 스크래치를 기반으로 하는 교과서가 2종류였습니다.\\n\\n교육용 언어로 시작한 파이썬이 중학교 학생들이 비교적 쉽게 학습할 수 있는 프로그래밍 언어라고 생각했는데 10여년의 세월이 흐른 지금 파이썬이 활용되는 분야가 가히 폭발적으로 증가하였습니다. \\n\\n파이썬에 관한 쉽고 좋은 교재를 저술하기 위해서 인터넷에서 30,000페이지 이상의 자료를 찾아서 검토하였습니다. 어쩌면 파이썬이 첫 프로그래밍 언어일 본 교재의 독자들이 두려움 없이 파이썬을 기초부터 쉽게 공부하다가, 교재를 다 읽고 나면 “어느새 중급 수준에 도달했구나”라는 생각이 들도록  완성도 높은 교재를 목표로 하였습니다. \\n\\n입문자를 대상으로 하는 교재일수록 집필하는데 훨씬 더 많은 정성과 노력이 필요하다는 것을 잘 알고 있습니다. 개인적으로는 데이터베이스 전공교재를 저술할 때보다 몇 배 더 힘들었고, 공을 많이 들였습니다. \\n\\n원고를 버전 9까지 작성하는 동안 셀 수 없이 원고를 읽어보면서 꼭 필요하지 않은 문장은 삭제하고, 필요한 문장은 반드시 넣었습니다. 고등학교 검인정 교과서 1권, 중학교 검인정 교과서 3권, 데이터베이스 전공 교재 2권, 엑셀 교재 1권, 번역서 2권을 집필하면서 나름대로 한글을 정확하고 간결하게 표현하는데 자신이 있습니다.'}]}\n"
     ]
    }
   ],
   "source": [
    "print(res.json())"
   ]
  },
  {
   "cell_type": "code",
   "execution_count": 9,
   "metadata": {},
   "outputs": [
    {
     "name": "stdout",
     "output_type": "stream",
     "text": [
      "[{'title': '혼자 만들면서 공부하는 파이썬 (37개 라이브러리와 API로 보고서, 차트, 게임, 맵, AI 챗봇 만들기|저자 직강 유튜브 강의, 오픈 채팅 제공)', 'link': 'https://search.shopping.naver.com/book/catalog/52859338841', 'image': 'https://shopping-phinf.pstatic.net/main_5285933/52859338841.20250209071357.jpg', 'author': '문현일', 'discount': '19800', 'publisher': '한빛미디어', 'pubdate': '20250214', 'isbn': '9791169213271', 'description': '“파이썬을 배워서 어디에 활용할 수 있을지 궁금했나요?”\\n나의 신용카드 내역 분석, 우리 아파트 실거래가 시각화해보기, 맛집 지도 웹 앱 만들기 등 \\n생활 속  15가지 파이썬 프로젝트를 직접 완성해 보며 재미있게 실전 경험 쌓기!\\n\\nQR 코드, 이미지 콜라주 등 일상과 가까운 생활형 프로젝트부터 부동산, 경제지표, 시가총액 같은 실용적인 데이터를 다루는 프로젝트, LLM, 멀티모달 AI와 TTS 등 최신 기술까지! 폭넓은 주제를 통해 흥미롭게 따라 해 보세요.\\n\\n●\\t 주식 & 경제 데이터 분석 - 시가총액, 기준금리, 주요 경제지표 데이터 분석 및 시각화하기\\n●\\t 부동산 실거래가 분석 - 지역별 단위면적당 아파트 매매 실거래가 평균 지도로 만들기\\n●\\t 멀티모달 AI & 챗봇 개발 - 생성형 AI와 챗봇을 활용한 실시간 영자 신문 스크레이핑\\n●\\t 웹 자동화 & 크롤링 - 연관 키워드 분석을 통한 연령별, 성별 쇼핑 트렌드 분석\\n●\\t 게임 & GUI 개발 - 슬라이딩 퍼즐, 영어 받아쓰기 앱으로 직접 만들어 보는 인터랙티브 프로젝트'}, {'title': '밑바닥부터 시작하는 딥러닝 1(리마스터판) (파이썬으로 익히는 딥러닝 이론과 구현)', 'link': 'https://search.shopping.naver.com/book/catalog/52615553184', 'image': 'https://shopping-phinf.pstatic.net/main_5261555/52615553184.20250123071242.jpg', 'author': '사이토 고키', 'discount': '23400', 'publisher': '한빛미디어', 'pubdate': '20250124', 'isbn': '9791169213387', 'description': '딥러닝 분야 부동의 베스트셀러!\\n머리로 이해하고 손으로 익히는 가장 쉬운 딥러닝 입문서\\n\\n이 책은 딥러닝의 핵심 개념을 ‘밑바닥부터’ 구현해보며 기초를 한 걸음씩 탄탄하게 다질 수 있도록 도와주는 친절한 안내서입니다. 라이브러리나 프레임워크에 의존하지 않고 딥러닝의 기본 개념부터 이미지 인식에 활용되는 합성곱 신경망(CNN)까지 딥러닝의 원리를 체계적으로 설명합니다. 또한 복잡한 개념은 계산 그래프를 활용해 시각적으로 전달하여 누구나 쉽게 이해할 수 있습니다. 이 책은 딥러닝에 첫발을 내딛는 입문자는 물론이고 기초를 다시금 다지고 싶은 개발자와 연구자에게도 훌륭한 길잡이가 되어줄 것입니다.'}, {'title': '혼자 공부하는 파이썬 (1:1 과외하듯 배우는 프로그래밍 자습서)', 'link': 'https://search.shopping.naver.com/book/catalog/32507605957', 'image': 'https://shopping-phinf.pstatic.net/main_3250760/32507605957.20230509170119.jpg', 'author': '윤인성', 'discount': '19800', 'publisher': '한빛미디어', 'pubdate': '20220601', 'isbn': '9791162245651', 'description': '혼자 해도 충분하다! 1:1 과외하듯 배우는 파이썬 프로그래밍 자습서\\n\\n『혼자 공부하는 파이썬』이 더욱 흥미있고 알찬 내용으로 개정되었습니다. 프로그래밍이 정말 처음인 입문자도 따라갈 수 있는 친절한 설명과 단계별 학습은 그대로! 혼자 공부하더라도 체계적으로 계획을 세워 학습할 수 있도록 ‘혼공 계획표’를 새롭게 추가했습니다. 또한 입문자가 자주 물어보는 질문과 오류 해결 방법을 적재적소에 배치하여 예상치 못한 문제에 부딪혀도 좌절하지 않고 끝까지 완독할 수 있도록 도와줍니다. 단순한 문법 암기와 코딩 따라하기에 지쳤다면, 새로운 혼공파와 함께 ‘누적 예제’와 ‘도전 문제’로 프로그래밍의 신세계를 경험해 보세요! 배운 내용을 씹고 뜯고 맛보고 즐기다 보면 응용력은 물론 알고리즘 사고력까지 키워 코딩 실력이 쑥쑥 성장할 것입니다.\\n\\n이 책은 독학으로 파이썬을 배우는 입문자가 ‘꼭 필요한 내용을 제대로 학습’할 수 있도록 구성했습니다. 뭘 모르는지조차 모르는 입문자의 막연한 마음에 십분 공감하여 과외 선생님이 알려주듯 친절하게, 핵심적인 내용만 콕콕 집어줍니다. 책의 첫 페이지를 펼쳐서 마지막 페이지를 덮을 때까지, 혼자서도 충분히 파이썬을 배울 수 있다는 자신감과 확신이 계속될 것입니다!\\n\\n베타리더와 함께 입문자에게 맞는 난이도, 분량, 학습 요소 등을 적극 반영했습니다. 어려운 용어와 개념은 한 번 더 풀어쓰고, 복잡한 설명은 눈에 잘 들어오는 그림으로 풀어냈습니다. ‘혼자 공부해 본’ 여러 입문자의 초심과 눈높이가 책 곳곳에 반영된 것이 이 책의 가장 큰 장점입니다.'}, {'title': 'Do it! 점프 투 파이썬 (중학생도 첫날부터 실습하는 초고속 입문서)', 'link': 'https://search.shopping.naver.com/book/catalog/40354085633', 'image': 'https://shopping-phinf.pstatic.net/main_4035408/40354085633.20230927071024.jpg', 'author': '박응용', 'discount': '19800', 'publisher': '이지스퍼블리싱', 'pubdate': '20230615', 'isbn': '9791163034735', 'description': '프로그래밍 분야 8년 연속 베스트셀러!\\n《Do it! 점프 투 파이썬》 전면 개정 2판 출시!\\n\\n중고등학생도, 비전공자도, 직장인도 프로그래밍에 눈뜨게 만든 바로 그 책이 전면 개정 2판으로 새롭게 태어났다! 챗GPT를 시작으로 펼쳐진 생성 AI 시대에 맞춰 설명과 예제를 다듬고, 최신 경향과 심화 내용을 보충했다. 또한 이번 개정 2판도 50만 코딩 유튜버인 조코딩과 협업을 통해 유튜브 동영상을 제공해 파이썬을 더 쉽게 공부할 수 있다.\\n\\n8년 연속 베스트셀러! 위키독스 누적 방문 300만! 독자의 입에서 입으로 전해진 추천과 수많은 대학 및 학원의 교재 채택을 통해 검증은 이미 끝났다. 코딩을 처음 배우는 중고등학생부터 코딩 소양을 기르려는 비전공자, 자기계발에 진심인 직장인까지! 이 책과 함께 파이썬 프로그래밍의 세계로 ‘점프’해 보자!'}, {'title': '파이썬', 'link': 'https://search.shopping.naver.com/book/catalog/32460987987', 'image': 'https://shopping-phinf.pstatic.net/main_3246098/32460987987.20230207163755.jpg', 'author': '홍의경', 'discount': '29440', 'publisher': '생능출판', 'pubdate': '20220309', 'isbn': '9788970506784', 'description': '코딩 실력을 키우는 지름길은 실습이다.\\n\\n2008년 즈음에 검인정 중학교 교과서 정보1, 정보2, 정보3을 공저로 저술하였습니다. 그 당시에 8종류의 교과서가 검인정에 합격하였는데, 파이썬을 기반으로 하는 교과서가 2종류, C언어를 기반으로 하는 교과서가 2종류, 베이직을 기반으로 하는 교과서가 2종류, 스크래치를 기반으로 하는 교과서가 2종류였습니다.\\n\\n교육용 언어로 시작한 파이썬이 중학교 학생들이 비교적 쉽게 학습할 수 있는 프로그래밍 언어라고 생각했는데 10여년의 세월이 흐른 지금 파이썬이 활용되는 분야가 가히 폭발적으로 증가하였습니다. \\n\\n파이썬에 관한 쉽고 좋은 교재를 저술하기 위해서 인터넷에서 30,000페이지 이상의 자료를 찾아서 검토하였습니다. 어쩌면 파이썬이 첫 프로그래밍 언어일 본 교재의 독자들이 두려움 없이 파이썬을 기초부터 쉽게 공부하다가, 교재를 다 읽고 나면 “어느새 중급 수준에 도달했구나”라는 생각이 들도록  완성도 높은 교재를 목표로 하였습니다. \\n\\n입문자를 대상으로 하는 교재일수록 집필하는데 훨씬 더 많은 정성과 노력이 필요하다는 것을 잘 알고 있습니다. 개인적으로는 데이터베이스 전공교재를 저술할 때보다 몇 배 더 힘들었고, 공을 많이 들였습니다. \\n\\n원고를 버전 9까지 작성하는 동안 셀 수 없이 원고를 읽어보면서 꼭 필요하지 않은 문장은 삭제하고, 필요한 문장은 반드시 넣었습니다. 고등학교 검인정 교과서 1권, 중학교 검인정 교과서 3권, 데이터베이스 전공 교재 2권, 엑셀 교재 1권, 번역서 2권을 집필하면서 나름대로 한글을 정확하고 간결하게 표현하는데 자신이 있습니다.'}]\n"
     ]
    }
   ],
   "source": [
    "print(res.json()['items'])"
   ]
  },
  {
   "cell_type": "code",
   "execution_count": 10,
   "metadata": {},
   "outputs": [],
   "source": [
    "import pandas as pd\n",
    "\n",
    "df = pd.DataFrame(res.json()['items'])"
   ]
  },
  {
   "cell_type": "code",
   "execution_count": 11,
   "metadata": {},
   "outputs": [
    {
     "data": {
      "text/plain": [
       "pandas.core.frame.DataFrame"
      ]
     },
     "execution_count": 11,
     "metadata": {},
     "output_type": "execute_result"
    }
   ],
   "source": [
    "type(df)"
   ]
  },
  {
   "cell_type": "code",
   "execution_count": 12,
   "metadata": {},
   "outputs": [
    {
     "data": {
      "text/html": [
       "<div>\n",
       "<style scoped>\n",
       "    .dataframe tbody tr th:only-of-type {\n",
       "        vertical-align: middle;\n",
       "    }\n",
       "\n",
       "    .dataframe tbody tr th {\n",
       "        vertical-align: top;\n",
       "    }\n",
       "\n",
       "    .dataframe thead th {\n",
       "        text-align: right;\n",
       "    }\n",
       "</style>\n",
       "<table border=\"1\" class=\"dataframe\">\n",
       "  <thead>\n",
       "    <tr style=\"text-align: right;\">\n",
       "      <th></th>\n",
       "      <th>title</th>\n",
       "      <th>link</th>\n",
       "      <th>image</th>\n",
       "      <th>author</th>\n",
       "      <th>discount</th>\n",
       "      <th>publisher</th>\n",
       "      <th>pubdate</th>\n",
       "      <th>isbn</th>\n",
       "      <th>description</th>\n",
       "    </tr>\n",
       "  </thead>\n",
       "  <tbody>\n",
       "    <tr>\n",
       "      <th>0</th>\n",
       "      <td>혼자 만들면서 공부하는 파이썬 (37개 라이브러리와 API로 보고서, 차트, 게임,...</td>\n",
       "      <td>https://search.shopping.naver.com/book/catalog...</td>\n",
       "      <td>https://shopping-phinf.pstatic.net/main_528593...</td>\n",
       "      <td>문현일</td>\n",
       "      <td>19800</td>\n",
       "      <td>한빛미디어</td>\n",
       "      <td>20250214</td>\n",
       "      <td>9791169213271</td>\n",
       "      <td>“파이썬을 배워서 어디에 활용할 수 있을지 궁금했나요?”\\n나의 신용카드 내역 분석...</td>\n",
       "    </tr>\n",
       "    <tr>\n",
       "      <th>1</th>\n",
       "      <td>밑바닥부터 시작하는 딥러닝 1(리마스터판) (파이썬으로 익히는 딥러닝 이론과 구현)</td>\n",
       "      <td>https://search.shopping.naver.com/book/catalog...</td>\n",
       "      <td>https://shopping-phinf.pstatic.net/main_526155...</td>\n",
       "      <td>사이토 고키</td>\n",
       "      <td>23400</td>\n",
       "      <td>한빛미디어</td>\n",
       "      <td>20250124</td>\n",
       "      <td>9791169213387</td>\n",
       "      <td>딥러닝 분야 부동의 베스트셀러!\\n머리로 이해하고 손으로 익히는 가장 쉬운 딥러닝 ...</td>\n",
       "    </tr>\n",
       "    <tr>\n",
       "      <th>2</th>\n",
       "      <td>혼자 공부하는 파이썬 (1:1 과외하듯 배우는 프로그래밍 자습서)</td>\n",
       "      <td>https://search.shopping.naver.com/book/catalog...</td>\n",
       "      <td>https://shopping-phinf.pstatic.net/main_325076...</td>\n",
       "      <td>윤인성</td>\n",
       "      <td>19800</td>\n",
       "      <td>한빛미디어</td>\n",
       "      <td>20220601</td>\n",
       "      <td>9791162245651</td>\n",
       "      <td>혼자 해도 충분하다! 1:1 과외하듯 배우는 파이썬 프로그래밍 자습서\\n\\n『혼자 ...</td>\n",
       "    </tr>\n",
       "    <tr>\n",
       "      <th>3</th>\n",
       "      <td>Do it! 점프 투 파이썬 (중학생도 첫날부터 실습하는 초고속 입문서)</td>\n",
       "      <td>https://search.shopping.naver.com/book/catalog...</td>\n",
       "      <td>https://shopping-phinf.pstatic.net/main_403540...</td>\n",
       "      <td>박응용</td>\n",
       "      <td>19800</td>\n",
       "      <td>이지스퍼블리싱</td>\n",
       "      <td>20230615</td>\n",
       "      <td>9791163034735</td>\n",
       "      <td>프로그래밍 분야 8년 연속 베스트셀러!\\n《Do it! 점프 투 파이썬》 전면 개정...</td>\n",
       "    </tr>\n",
       "    <tr>\n",
       "      <th>4</th>\n",
       "      <td>파이썬</td>\n",
       "      <td>https://search.shopping.naver.com/book/catalog...</td>\n",
       "      <td>https://shopping-phinf.pstatic.net/main_324609...</td>\n",
       "      <td>홍의경</td>\n",
       "      <td>29440</td>\n",
       "      <td>생능출판</td>\n",
       "      <td>20220309</td>\n",
       "      <td>9788970506784</td>\n",
       "      <td>코딩 실력을 키우는 지름길은 실습이다.\\n\\n2008년 즈음에 검인정 중학교 교과서...</td>\n",
       "    </tr>\n",
       "  </tbody>\n",
       "</table>\n",
       "</div>"
      ],
      "text/plain": [
       "                                               title  \\\n",
       "0  혼자 만들면서 공부하는 파이썬 (37개 라이브러리와 API로 보고서, 차트, 게임,...   \n",
       "1     밑바닥부터 시작하는 딥러닝 1(리마스터판) (파이썬으로 익히는 딥러닝 이론과 구현)   \n",
       "2               혼자 공부하는 파이썬 (1:1 과외하듯 배우는 프로그래밍 자습서)   \n",
       "3           Do it! 점프 투 파이썬 (중학생도 첫날부터 실습하는 초고속 입문서)   \n",
       "4                                                파이썬   \n",
       "\n",
       "                                                link  \\\n",
       "0  https://search.shopping.naver.com/book/catalog...   \n",
       "1  https://search.shopping.naver.com/book/catalog...   \n",
       "2  https://search.shopping.naver.com/book/catalog...   \n",
       "3  https://search.shopping.naver.com/book/catalog...   \n",
       "4  https://search.shopping.naver.com/book/catalog...   \n",
       "\n",
       "                                               image  author discount  \\\n",
       "0  https://shopping-phinf.pstatic.net/main_528593...     문현일    19800   \n",
       "1  https://shopping-phinf.pstatic.net/main_526155...  사이토 고키    23400   \n",
       "2  https://shopping-phinf.pstatic.net/main_325076...     윤인성    19800   \n",
       "3  https://shopping-phinf.pstatic.net/main_403540...     박응용    19800   \n",
       "4  https://shopping-phinf.pstatic.net/main_324609...     홍의경    29440   \n",
       "\n",
       "  publisher   pubdate           isbn  \\\n",
       "0     한빛미디어  20250214  9791169213271   \n",
       "1     한빛미디어  20250124  9791169213387   \n",
       "2     한빛미디어  20220601  9791162245651   \n",
       "3   이지스퍼블리싱  20230615  9791163034735   \n",
       "4      생능출판  20220309  9788970506784   \n",
       "\n",
       "                                         description  \n",
       "0  “파이썬을 배워서 어디에 활용할 수 있을지 궁금했나요?”\\n나의 신용카드 내역 분석...  \n",
       "1  딥러닝 분야 부동의 베스트셀러!\\n머리로 이해하고 손으로 익히는 가장 쉬운 딥러닝 ...  \n",
       "2  혼자 해도 충분하다! 1:1 과외하듯 배우는 파이썬 프로그래밍 자습서\\n\\n『혼자 ...  \n",
       "3  프로그래밍 분야 8년 연속 베스트셀러!\\n《Do it! 점프 투 파이썬》 전면 개정...  \n",
       "4  코딩 실력을 키우는 지름길은 실습이다.\\n\\n2008년 즈음에 검인정 중학교 교과서...  "
      ]
     },
     "execution_count": 12,
     "metadata": {},
     "output_type": "execute_result"
    }
   ],
   "source": [
    "df"
   ]
  },
  {
   "cell_type": "code",
   "execution_count": 13,
   "metadata": {},
   "outputs": [
    {
     "name": "stdout",
     "output_type": "stream",
     "text": [
      "<class 'pandas.core.frame.DataFrame'>\n",
      "RangeIndex: 5 entries, 0 to 4\n",
      "Data columns (total 9 columns):\n",
      " #   Column       Non-Null Count  Dtype \n",
      "---  ------       --------------  ----- \n",
      " 0   title        5 non-null      object\n",
      " 1   link         5 non-null      object\n",
      " 2   image        5 non-null      object\n",
      " 3   author       5 non-null      object\n",
      " 4   discount     5 non-null      object\n",
      " 5   publisher    5 non-null      object\n",
      " 6   pubdate      5 non-null      object\n",
      " 7   isbn         5 non-null      object\n",
      " 8   description  5 non-null      object\n",
      "dtypes: object(9)\n",
      "memory usage: 492.0+ bytes\n"
     ]
    }
   ],
   "source": [
    "df.info()"
   ]
  },
  {
   "cell_type": "code",
   "execution_count": 14,
   "metadata": {},
   "outputs": [
    {
     "data": {
      "text/html": [
       "<div>\n",
       "<style scoped>\n",
       "    .dataframe tbody tr th:only-of-type {\n",
       "        vertical-align: middle;\n",
       "    }\n",
       "\n",
       "    .dataframe tbody tr th {\n",
       "        vertical-align: top;\n",
       "    }\n",
       "\n",
       "    .dataframe thead th {\n",
       "        text-align: right;\n",
       "    }\n",
       "</style>\n",
       "<table border=\"1\" class=\"dataframe\">\n",
       "  <thead>\n",
       "    <tr style=\"text-align: right;\">\n",
       "      <th></th>\n",
       "      <th>title</th>\n",
       "      <th>link</th>\n",
       "      <th>image</th>\n",
       "      <th>author</th>\n",
       "      <th>discount</th>\n",
       "      <th>publisher</th>\n",
       "      <th>pubdate</th>\n",
       "      <th>isbn</th>\n",
       "      <th>description</th>\n",
       "    </tr>\n",
       "  </thead>\n",
       "  <tbody>\n",
       "    <tr>\n",
       "      <th>count</th>\n",
       "      <td>5</td>\n",
       "      <td>5</td>\n",
       "      <td>5</td>\n",
       "      <td>5</td>\n",
       "      <td>5</td>\n",
       "      <td>5</td>\n",
       "      <td>5</td>\n",
       "      <td>5</td>\n",
       "      <td>5</td>\n",
       "    </tr>\n",
       "    <tr>\n",
       "      <th>unique</th>\n",
       "      <td>5</td>\n",
       "      <td>5</td>\n",
       "      <td>5</td>\n",
       "      <td>5</td>\n",
       "      <td>3</td>\n",
       "      <td>3</td>\n",
       "      <td>5</td>\n",
       "      <td>5</td>\n",
       "      <td>5</td>\n",
       "    </tr>\n",
       "    <tr>\n",
       "      <th>top</th>\n",
       "      <td>혼자 만들면서 공부하는 파이썬 (37개 라이브러리와 API로 보고서, 차트, 게임,...</td>\n",
       "      <td>https://search.shopping.naver.com/book/catalog...</td>\n",
       "      <td>https://shopping-phinf.pstatic.net/main_528593...</td>\n",
       "      <td>문현일</td>\n",
       "      <td>19800</td>\n",
       "      <td>한빛미디어</td>\n",
       "      <td>20250214</td>\n",
       "      <td>9791169213271</td>\n",
       "      <td>“파이썬을 배워서 어디에 활용할 수 있을지 궁금했나요?”\\n나의 신용카드 내역 분석...</td>\n",
       "    </tr>\n",
       "    <tr>\n",
       "      <th>freq</th>\n",
       "      <td>1</td>\n",
       "      <td>1</td>\n",
       "      <td>1</td>\n",
       "      <td>1</td>\n",
       "      <td>3</td>\n",
       "      <td>3</td>\n",
       "      <td>1</td>\n",
       "      <td>1</td>\n",
       "      <td>1</td>\n",
       "    </tr>\n",
       "  </tbody>\n",
       "</table>\n",
       "</div>"
      ],
      "text/plain": [
       "                                                    title  \\\n",
       "count                                                   5   \n",
       "unique                                                  5   \n",
       "top     혼자 만들면서 공부하는 파이썬 (37개 라이브러리와 API로 보고서, 차트, 게임,...   \n",
       "freq                                                    1   \n",
       "\n",
       "                                                     link  \\\n",
       "count                                                   5   \n",
       "unique                                                  5   \n",
       "top     https://search.shopping.naver.com/book/catalog...   \n",
       "freq                                                    1   \n",
       "\n",
       "                                                    image author discount  \\\n",
       "count                                                   5      5        5   \n",
       "unique                                                  5      5        3   \n",
       "top     https://shopping-phinf.pstatic.net/main_528593...    문현일    19800   \n",
       "freq                                                    1      1        3   \n",
       "\n",
       "       publisher   pubdate           isbn  \\\n",
       "count          5         5              5   \n",
       "unique         3         5              5   \n",
       "top        한빛미디어  20250214  9791169213271   \n",
       "freq           3         1              1   \n",
       "\n",
       "                                              description  \n",
       "count                                                   5  \n",
       "unique                                                  5  \n",
       "top     “파이썬을 배워서 어디에 활용할 수 있을지 궁금했나요?”\\n나의 신용카드 내역 분석...  \n",
       "freq                                                    1  "
      ]
     },
     "execution_count": 14,
     "metadata": {},
     "output_type": "execute_result"
    }
   ],
   "source": [
    "df.describe()"
   ]
  },
  {
   "cell_type": "code",
   "execution_count": 15,
   "metadata": {},
   "outputs": [
    {
     "data": {
      "text/plain": [
       "(5, 9)"
      ]
     },
     "execution_count": 15,
     "metadata": {},
     "output_type": "execute_result"
    }
   ],
   "source": [
    "df.shape"
   ]
  },
  {
   "cell_type": "code",
   "execution_count": 16,
   "metadata": {},
   "outputs": [
    {
     "data": {
      "text/html": [
       "<div>\n",
       "<style scoped>\n",
       "    .dataframe tbody tr th:only-of-type {\n",
       "        vertical-align: middle;\n",
       "    }\n",
       "\n",
       "    .dataframe tbody tr th {\n",
       "        vertical-align: top;\n",
       "    }\n",
       "\n",
       "    .dataframe thead th {\n",
       "        text-align: right;\n",
       "    }\n",
       "</style>\n",
       "<table border=\"1\" class=\"dataframe\">\n",
       "  <thead>\n",
       "    <tr style=\"text-align: right;\">\n",
       "      <th></th>\n",
       "      <th>title</th>\n",
       "      <th>link</th>\n",
       "      <th>image</th>\n",
       "      <th>author</th>\n",
       "      <th>discount</th>\n",
       "      <th>publisher</th>\n",
       "      <th>pubdate</th>\n",
       "      <th>isbn</th>\n",
       "      <th>description</th>\n",
       "    </tr>\n",
       "  </thead>\n",
       "  <tbody>\n",
       "    <tr>\n",
       "      <th>0</th>\n",
       "      <td>혼자 만들면서 공부하는 파이썬 (37개 라이브러리와 API로 보고서, 차트, 게임,...</td>\n",
       "      <td>https://search.shopping.naver.com/book/catalog...</td>\n",
       "      <td>https://shopping-phinf.pstatic.net/main_528593...</td>\n",
       "      <td>문현일</td>\n",
       "      <td>19800</td>\n",
       "      <td>한빛미디어</td>\n",
       "      <td>20250214</td>\n",
       "      <td>9791169213271</td>\n",
       "      <td>“파이썬을 배워서 어디에 활용할 수 있을지 궁금했나요?”\\n나의 신용카드 내역 분석...</td>\n",
       "    </tr>\n",
       "    <tr>\n",
       "      <th>1</th>\n",
       "      <td>밑바닥부터 시작하는 딥러닝 1(리마스터판) (파이썬으로 익히는 딥러닝 이론과 구현)</td>\n",
       "      <td>https://search.shopping.naver.com/book/catalog...</td>\n",
       "      <td>https://shopping-phinf.pstatic.net/main_526155...</td>\n",
       "      <td>사이토 고키</td>\n",
       "      <td>23400</td>\n",
       "      <td>한빛미디어</td>\n",
       "      <td>20250124</td>\n",
       "      <td>9791169213387</td>\n",
       "      <td>딥러닝 분야 부동의 베스트셀러!\\n머리로 이해하고 손으로 익히는 가장 쉬운 딥러닝 ...</td>\n",
       "    </tr>\n",
       "    <tr>\n",
       "      <th>2</th>\n",
       "      <td>혼자 공부하는 파이썬 (1:1 과외하듯 배우는 프로그래밍 자습서)</td>\n",
       "      <td>https://search.shopping.naver.com/book/catalog...</td>\n",
       "      <td>https://shopping-phinf.pstatic.net/main_325076...</td>\n",
       "      <td>윤인성</td>\n",
       "      <td>19800</td>\n",
       "      <td>한빛미디어</td>\n",
       "      <td>20220601</td>\n",
       "      <td>9791162245651</td>\n",
       "      <td>혼자 해도 충분하다! 1:1 과외하듯 배우는 파이썬 프로그래밍 자습서\\n\\n『혼자 ...</td>\n",
       "    </tr>\n",
       "  </tbody>\n",
       "</table>\n",
       "</div>"
      ],
      "text/plain": [
       "                                               title  \\\n",
       "0  혼자 만들면서 공부하는 파이썬 (37개 라이브러리와 API로 보고서, 차트, 게임,...   \n",
       "1     밑바닥부터 시작하는 딥러닝 1(리마스터판) (파이썬으로 익히는 딥러닝 이론과 구현)   \n",
       "2               혼자 공부하는 파이썬 (1:1 과외하듯 배우는 프로그래밍 자습서)   \n",
       "\n",
       "                                                link  \\\n",
       "0  https://search.shopping.naver.com/book/catalog...   \n",
       "1  https://search.shopping.naver.com/book/catalog...   \n",
       "2  https://search.shopping.naver.com/book/catalog...   \n",
       "\n",
       "                                               image  author discount  \\\n",
       "0  https://shopping-phinf.pstatic.net/main_528593...     문현일    19800   \n",
       "1  https://shopping-phinf.pstatic.net/main_526155...  사이토 고키    23400   \n",
       "2  https://shopping-phinf.pstatic.net/main_325076...     윤인성    19800   \n",
       "\n",
       "  publisher   pubdate           isbn  \\\n",
       "0     한빛미디어  20250214  9791169213271   \n",
       "1     한빛미디어  20250124  9791169213387   \n",
       "2     한빛미디어  20220601  9791162245651   \n",
       "\n",
       "                                         description  \n",
       "0  “파이썬을 배워서 어디에 활용할 수 있을지 궁금했나요?”\\n나의 신용카드 내역 분석...  \n",
       "1  딥러닝 분야 부동의 베스트셀러!\\n머리로 이해하고 손으로 익히는 가장 쉬운 딥러닝 ...  \n",
       "2  혼자 해도 충분하다! 1:1 과외하듯 배우는 파이썬 프로그래밍 자습서\\n\\n『혼자 ...  "
      ]
     },
     "execution_count": 16,
     "metadata": {},
     "output_type": "execute_result"
    }
   ],
   "source": [
    "df.head(3)"
   ]
  },
  {
   "cell_type": "code",
   "execution_count": 17,
   "metadata": {},
   "outputs": [
    {
     "data": {
      "text/html": [
       "<div>\n",
       "<style scoped>\n",
       "    .dataframe tbody tr th:only-of-type {\n",
       "        vertical-align: middle;\n",
       "    }\n",
       "\n",
       "    .dataframe tbody tr th {\n",
       "        vertical-align: top;\n",
       "    }\n",
       "\n",
       "    .dataframe thead th {\n",
       "        text-align: right;\n",
       "    }\n",
       "</style>\n",
       "<table border=\"1\" class=\"dataframe\">\n",
       "  <thead>\n",
       "    <tr style=\"text-align: right;\">\n",
       "      <th></th>\n",
       "      <th>title</th>\n",
       "      <th>link</th>\n",
       "      <th>image</th>\n",
       "      <th>author</th>\n",
       "      <th>discount</th>\n",
       "      <th>publisher</th>\n",
       "      <th>pubdate</th>\n",
       "      <th>isbn</th>\n",
       "      <th>description</th>\n",
       "    </tr>\n",
       "  </thead>\n",
       "  <tbody>\n",
       "    <tr>\n",
       "      <th>2</th>\n",
       "      <td>혼자 공부하는 파이썬 (1:1 과외하듯 배우는 프로그래밍 자습서)</td>\n",
       "      <td>https://search.shopping.naver.com/book/catalog...</td>\n",
       "      <td>https://shopping-phinf.pstatic.net/main_325076...</td>\n",
       "      <td>윤인성</td>\n",
       "      <td>19800</td>\n",
       "      <td>한빛미디어</td>\n",
       "      <td>20220601</td>\n",
       "      <td>9791162245651</td>\n",
       "      <td>혼자 해도 충분하다! 1:1 과외하듯 배우는 파이썬 프로그래밍 자습서\\n\\n『혼자 ...</td>\n",
       "    </tr>\n",
       "    <tr>\n",
       "      <th>3</th>\n",
       "      <td>Do it! 점프 투 파이썬 (중학생도 첫날부터 실습하는 초고속 입문서)</td>\n",
       "      <td>https://search.shopping.naver.com/book/catalog...</td>\n",
       "      <td>https://shopping-phinf.pstatic.net/main_403540...</td>\n",
       "      <td>박응용</td>\n",
       "      <td>19800</td>\n",
       "      <td>이지스퍼블리싱</td>\n",
       "      <td>20230615</td>\n",
       "      <td>9791163034735</td>\n",
       "      <td>프로그래밍 분야 8년 연속 베스트셀러!\\n《Do it! 점프 투 파이썬》 전면 개정...</td>\n",
       "    </tr>\n",
       "    <tr>\n",
       "      <th>4</th>\n",
       "      <td>파이썬</td>\n",
       "      <td>https://search.shopping.naver.com/book/catalog...</td>\n",
       "      <td>https://shopping-phinf.pstatic.net/main_324609...</td>\n",
       "      <td>홍의경</td>\n",
       "      <td>29440</td>\n",
       "      <td>생능출판</td>\n",
       "      <td>20220309</td>\n",
       "      <td>9788970506784</td>\n",
       "      <td>코딩 실력을 키우는 지름길은 실습이다.\\n\\n2008년 즈음에 검인정 중학교 교과서...</td>\n",
       "    </tr>\n",
       "  </tbody>\n",
       "</table>\n",
       "</div>"
      ],
      "text/plain": [
       "                                      title  \\\n",
       "2      혼자 공부하는 파이썬 (1:1 과외하듯 배우는 프로그래밍 자습서)   \n",
       "3  Do it! 점프 투 파이썬 (중학생도 첫날부터 실습하는 초고속 입문서)   \n",
       "4                                       파이썬   \n",
       "\n",
       "                                                link  \\\n",
       "2  https://search.shopping.naver.com/book/catalog...   \n",
       "3  https://search.shopping.naver.com/book/catalog...   \n",
       "4  https://search.shopping.naver.com/book/catalog...   \n",
       "\n",
       "                                               image author discount  \\\n",
       "2  https://shopping-phinf.pstatic.net/main_325076...    윤인성    19800   \n",
       "3  https://shopping-phinf.pstatic.net/main_403540...    박응용    19800   \n",
       "4  https://shopping-phinf.pstatic.net/main_324609...    홍의경    29440   \n",
       "\n",
       "  publisher   pubdate           isbn  \\\n",
       "2     한빛미디어  20220601  9791162245651   \n",
       "3   이지스퍼블리싱  20230615  9791163034735   \n",
       "4      생능출판  20220309  9788970506784   \n",
       "\n",
       "                                         description  \n",
       "2  혼자 해도 충분하다! 1:1 과외하듯 배우는 파이썬 프로그래밍 자습서\\n\\n『혼자 ...  \n",
       "3  프로그래밍 분야 8년 연속 베스트셀러!\\n《Do it! 점프 투 파이썬》 전면 개정...  \n",
       "4  코딩 실력을 키우는 지름길은 실습이다.\\n\\n2008년 즈음에 검인정 중학교 교과서...  "
      ]
     },
     "execution_count": 17,
     "metadata": {},
     "output_type": "execute_result"
    }
   ],
   "source": [
    "df.tail(3)"
   ]
  },
  {
   "cell_type": "code",
   "execution_count": 18,
   "metadata": {},
   "outputs": [],
   "source": [
    "# JSON 데이터에서 필요한 부분 추출 및 DataFrame생성\n",
    "# items라벨은 도서 정ㅇ보를 담은 리스트 자료구조 형태를 띄고 있다.\n",
    "# itmes는 키값이다."
   ]
  },
  {
   "cell_type": "code",
   "execution_count": 19,
   "metadata": {},
   "outputs": [
    {
     "data": {
      "text/plain": [
       "list"
      ]
     },
     "execution_count": 19,
     "metadata": {},
     "output_type": "execute_result"
    }
   ],
   "source": [
    "items = data['items']\n",
    "items\n",
    "type(items)"
   ]
  },
  {
   "cell_type": "code",
   "execution_count": 20,
   "metadata": {},
   "outputs": [],
   "source": [
    "df2 = pd.DataFrame(items)"
   ]
  },
  {
   "cell_type": "code",
   "execution_count": 21,
   "metadata": {},
   "outputs": [
    {
     "name": "stdout",
     "output_type": "stream",
     "text": [
      "CSV파일이 저장되었습니다../data0221/books0221.csv\n"
     ]
    }
   ],
   "source": [
    "# DataFrame을 CSV파일로 저장\n",
    "csv_file_path = \"./data0221/books0221.csv\"\n",
    "df2.to_csv(csv_file_path, index=False)\n",
    "print(f\"CSV파일이 저장되었습니다.{csv_file_path}\")"
   ]
  },
  {
   "cell_type": "code",
   "execution_count": 22,
   "metadata": {},
   "outputs": [],
   "source": [
    "dic_book = df2.to_dict('records')"
   ]
  },
  {
   "cell_type": "code",
   "execution_count": 23,
   "metadata": {},
   "outputs": [
    {
     "data": {
      "text/plain": [
       "list"
      ]
     },
     "execution_count": 23,
     "metadata": {},
     "output_type": "execute_result"
    }
   ],
   "source": [
    "type(dic_book)"
   ]
  },
  {
   "cell_type": "code",
   "execution_count": 25,
   "metadata": {},
   "outputs": [
    {
     "data": {
      "text/plain": [
       "5"
      ]
     },
     "execution_count": 25,
     "metadata": {},
     "output_type": "execute_result"
    }
   ],
   "source": [
    "len(dic_book)"
   ]
  },
  {
   "cell_type": "code",
   "execution_count": 26,
   "metadata": {},
   "outputs": [
    {
     "name": "stdout",
     "output_type": "stream",
     "text": [
      "혼자 만들면서 공부하는 파이썬 (37개 라이브러리와 API로 보고서, 차트, 게임, 맵, AI 챗봇 만들기|저자 직강 유튜브 강의, 오픈 채팅 제공)\n",
      "밑바닥부터 시작하는 딥러닝 1(리마스터판) (파이썬으로 익히는 딥러닝 이론과 구현)\n",
      "혼자 공부하는 파이썬 (1:1 과외하듯 배우는 프로그래밍 자습서)\n",
      "Do it! 점프 투 파이썬 (중학생도 첫날부터 실습하는 초고속 입문서)\n",
      "파이썬\n"
     ]
    }
   ],
   "source": [
    "for dic in dic_book:\n",
    "  print(dic[\"title\"])"
   ]
  }
 ],
 "metadata": {
  "kernelspec": {
   "display_name": "basic-step1",
   "language": "python",
   "name": "python3"
  },
  "language_info": {
   "codemirror_mode": {
    "name": "ipython",
    "version": 3
   },
   "file_extension": ".py",
   "mimetype": "text/x-python",
   "name": "python",
   "nbconvert_exporter": "python",
   "pygments_lexer": "ipython3",
   "version": "3.11.9"
  }
 },
 "nbformat": 4,
 "nbformat_minor": 2
}
