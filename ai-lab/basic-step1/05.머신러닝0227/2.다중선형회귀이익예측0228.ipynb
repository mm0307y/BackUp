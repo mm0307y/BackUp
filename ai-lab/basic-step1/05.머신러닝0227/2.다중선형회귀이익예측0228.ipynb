{
 "cells": [
  {
   "cell_type": "markdown",
   "metadata": {},
   "source": [
    "#### 다중 선형 회귀     \n",
    "- 코딩 순서\n",
    "1. 라이브 러리 추가하기 - import     \n",
    "2. 데이터셋 가져오기       \n",
    "3. 범주형을 인코딩하기 - 원-핫 인코딩      \n",
    "4. 훈련데이터와 테스트 데이터 분리     \n",
    "5. 객체 생성 - LinearRegression, Multiple Linear Regression     \n",
    "6. 훈련 -> fit함수     \n",
    "7. 예측 -  predict()      \n",
    "8. 평가/추론      "
   ]
  },
  {
   "cell_type": "code",
   "execution_count": null,
   "metadata": {},
   "outputs": [],
   "source": [
    "#1.  라이브러리 추가   \n",
    "import numpy as np\n",
    "import pandas as pd\n",
    "import matplotlib.pyplot as plt    "
   ]
  },
  {
   "cell_type": "code",
   "execution_count": 2,
   "metadata": {},
   "outputs": [],
   "source": [
    "#2. 데이터셋 가져오기\n",
    "df = pd.read_csv(\"../data/50_Startups.csv\")"
   ]
  },
  {
   "cell_type": "code",
   "execution_count": 3,
   "metadata": {},
   "outputs": [
    {
     "data": {
      "text/plain": [
       "(50, 5)"
      ]
     },
     "execution_count": 3,
     "metadata": {},
     "output_type": "execute_result"
    }
   ],
   "source": [
    "df.shape"
   ]
  }
 ],
 "metadata": {
  "kernelspec": {
   "display_name": "basic-step1",
   "language": "python",
   "name": "python3"
  },
  "language_info": {
   "codemirror_mode": {
    "name": "ipython",
    "version": 3
   },
   "file_extension": ".py",
   "mimetype": "text/x-python",
   "name": "python",
   "nbconvert_exporter": "python",
   "pygments_lexer": "ipython3",
   "version": "3.11.9"
  }
 },
 "nbformat": 4,
 "nbformat_minor": 2
}
