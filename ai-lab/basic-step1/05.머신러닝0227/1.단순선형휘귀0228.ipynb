{
 "cells": [
  {
   "cell_type": "code",
   "execution_count": 1,
   "metadata": {},
   "outputs": [],
   "source": [
    "# 그래프 한글 처리를 위한 환경 설정\n",
    "import pandas as pd\n",
    "import numpy as np\n",
    "import seaborn as sns\n",
    "import matplotlib\n",
    "import matplotlib.pyplot as plt\n",
    "import matplotlib.font_manager as fm # 한글 폰트 관련\n",
    "from matplotlib import rc\n",
    "\n",
    "path = \"../data0225/malgun.ttf\"\n",
    "font_name = fm.FontProperties(fname=path).get_name()\n",
    "matplotlib.rc('font', family=font_name)\n",
    "plt.rc(\"font\", family=\"Malgun Gothic\")"
   ]
  }
 ],
 "metadata": {
  "kernelspec": {
   "display_name": "Python 3",
   "language": "python",
   "name": "python3"
  },
  "language_info": {
   "codemirror_mode": {
    "name": "ipython",
    "version": 3
   },
   "file_extension": ".py",
   "mimetype": "text/x-python",
   "name": "python",
   "nbconvert_exporter": "python",
   "pygments_lexer": "ipython3",
   "version": "3.11.9"
  }
 },
 "nbformat": 4,
 "nbformat_minor": 2
}
