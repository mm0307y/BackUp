{
 "cells": [
  {
   "cell_type": "markdown",
   "metadata": {},
   "source": [
    "### 결측치 처리"
   ]
  },
  {
   "cell_type": "code",
   "execution_count": 1,
   "metadata": {},
   "outputs": [],
   "source": [
    "# 라이브러리 가져오기\n",
    "import pandas as pd\n",
    "import numpy as np"
   ]
  },
  {
   "cell_type": "code",
   "execution_count": null,
   "metadata": {},
   "outputs": [
    {
     "data": {
      "text/plain": [
       "array([['France', 44.0, 72000.0, 'No'],\n",
       "       ['Spain', 27.0, 48000.0, 'Yes'],\n",
       "       ['Germany', 30.0, 54000.0, 'No'],\n",
       "       ['Spain', 38.0, 61000.0, 'No'],\n",
       "       ['Germany', 40.0, nan, 'Yes'],\n",
       "       ['France', 35.0, 58000.0, 'Yes'],\n",
       "       ['Spain', nan, 52000.0, 'No'],\n",
       "       ['France', 48.0, 79000.0, 'Yes'],\n",
       "       ['Germany', 50.0, 83000.0, 'No'],\n",
       "       ['France', 37.0, 67000.0,\n",
       "        'Yes                                                                                                                                                                                                                                                                                                                                                                                                                                                                                                                                                                                                                                                                                                                                                                                                                                                                                                                                                                                                                                                                                                                                                                                                                                                                                                                                                                                                                                                                                                                                                                                                                                                                                                                                                                                                                                                                                                                                                                                                                                                                                                                                                                                                                                                                                                                                                                                                                                                                                                                                                                                                                       ']],\n",
       "      dtype=object)"
      ]
     },
     "execution_count": 6,
     "metadata": {},
     "output_type": "execute_result"
    }
   ],
   "source": [
    "# 데이터 셋 가져오기\n",
    "df = pd.read_csv(\"../data0225/Data0227.csv\")\n",
    "\n",
    "# X는 독립변수 가져오기\n",
    "X = df.iloc[:,:-1].values\n",
    "\n",
    "# y는 종속변수 가져오기\n",
    "\n",
    "# DataFrame의  모든 행에서 마지막 열만 선택합니다.\n",
    "# 보통 마지막 열은 예측하고자 하는 결과값(종속변수 또는 타겟변수)입니다.\n",
    "# DataFrame이라며 이게 어떻게 배열이 된거지?\n",
    "# .values는 선택된 데이터를 NumPy배열 형태로 변환해 준다.\n",
    "#  머신 러닝의 모델의 정답 데이터(label)\n",
    "# 데이터 분석 - 마지막 열(-1)의 값은 예측하려는 값이나 클래스 레이블이다.\n",
    "# y 값의 종류나 분포는 데이터셋의 특성에 따라 달라질 수  있다.\n",
    "# 만일 분류의 문제라면 각 클래스의 레이블(0,1, 2), 회귀문제라면 연속된 수치값이 될 수 있다.\n",
    "y = df.iloc[:,-1].values\n",
    "X\n",
    "y"
   ]
  },
  {
   "cell_type": "code",
   "execution_count": null,
   "metadata": {},
   "outputs": [],
   "source": [
    "df"
   ]
  },
  {
   "cell_type": "code",
   "execution_count": null,
   "metadata": {},
   "outputs": [],
   "source": [
    "type(df)"
   ]
  },
  {
   "cell_type": "code",
   "execution_count": null,
   "metadata": {},
   "outputs": [],
   "source": [
    "df = pd.DataFrame([[1,2,3], [4,5,6], [7,8,9]], index=['row1', 'row2', 'row3'], columns=['col1', 'col2', 'col3'])\n",
    "print(df)\n"
   ]
  },
  {
   "cell_type": "code",
   "execution_count": null,
   "metadata": {},
   "outputs": [],
   "source": [
    "result= df.iloc[[0,2]]\n",
    "print(result)"
   ]
  },
  {
   "cell_type": "code",
   "execution_count": null,
   "metadata": {},
   "outputs": [],
   "source": [
    "result= df.iloc[[0,1]]\n",
    "print(result)"
   ]
  },
  {
   "cell_type": "code",
   "execution_count": null,
   "metadata": {},
   "outputs": [],
   "source": [
    "result= df.iloc[1:2]\n",
    "print(result)\n"
   ]
  },
  {
   "cell_type": "code",
   "execution_count": null,
   "metadata": {},
   "outputs": [],
   "source": [
    "result= df.iloc[1:1]\n",
    "print(result)"
   ]
  },
  {
   "cell_type": "code",
   "execution_count": null,
   "metadata": {},
   "outputs": [],
   "source": [
    "result= df.iloc[1:3]\n",
    "print(result)"
   ]
  },
  {
   "cell_type": "code",
   "execution_count": null,
   "metadata": {},
   "outputs": [],
   "source": [
    "result= df.iloc[0:3]\n",
    "print(result)"
   ]
  },
  {
   "cell_type": "markdown",
   "metadata": {},
   "source": [
    "슬라이스를 할 수 있다.    \n",
    "콤마는 없어도 괜찮아 df.iloc[:,:]    \n",
    "첫번째 숫자인 1은 행을 나타내는 인덱스 값이다.    \n",
    "두번째 숫자는 두번째 행을 말한다.    \n",
    "df.iloc[1:2]  "
   ]
  },
  {
   "cell_type": "code",
   "execution_count": null,
   "metadata": {},
   "outputs": [],
   "source": [
    "result= df.iloc[0:40]\n",
    "print(result)"
   ]
  },
  {
   "cell_type": "code",
   "execution_count": null,
   "metadata": {},
   "outputs": [],
   "source": [
    "df"
   ]
  },
  {
   "cell_type": "code",
   "execution_count": null,
   "metadata": {},
   "outputs": [],
   "source": [
    "type(df[\"Salary\"])"
   ]
  },
  {
   "cell_type": "code",
   "execution_count": null,
   "metadata": {},
   "outputs": [],
   "source": [
    "df[\"Salary\"].mean()"
   ]
  },
  {
   "cell_type": "code",
   "execution_count": null,
   "metadata": {},
   "outputs": [],
   "source": [
    "df[\"Salary\"] = df[\"Salary\"].mean()"
   ]
  },
  {
   "cell_type": "code",
   "execution_count": null,
   "metadata": {},
   "outputs": [],
   "source": [
    "df"
   ]
  },
  {
   "cell_type": "code",
   "execution_count": null,
   "metadata": {},
   "outputs": [],
   "source": [
    "# fillna는 Pandas DataFrame에서  결측치(NaN)를 특정 값으로 대체하기 위해 사용된다.\n",
    "# 주의 모든 컬럼의  결측치를 대체한다. - 문제제기\n",
    "df.fillna(value=df[\"Salary\"].mean())"
   ]
  },
  {
   "cell_type": "markdown",
   "metadata": {},
   "source": [
    "문제제기     \n",
    "- 기존에 배운 함수로는 일괄처리가 어렵다.    \n",
    "- Age평균으로 결측 처리하고, Salary평균으로 각각 다르게 결측치를 처리해야 한다.\n",
    "- sklearn에서  SimpleImputer객체가 제공된다.   \n",
    "\n",
    "언제 사용하지\n",
    "- 결측치가 있는 데이터셋을 머신러닝 모델에 입력하기 전에 전처할 때 유용하다.\n",
    "\n",
    "기존에 DataFrame 초기화 한다."
   ]
  },
  {
   "cell_type": "code",
   "execution_count": null,
   "metadata": {},
   "outputs": [],
   "source": [
    "df = pd.read_csv(\"../data0225/Data0227.csv\")"
   ]
  },
  {
   "cell_type": "code",
   "execution_count": null,
   "metadata": {},
   "outputs": [],
   "source": [
    "df"
   ]
  },
  {
   "cell_type": "code",
   "execution_count": null,
   "metadata": {},
   "outputs": [],
   "source": [
    "from sklearn.impute import SimpleImputer\n",
    "imputer = SimpleImputer(missing_values=np.nan, strategy=\"mean\")\n",
    "imputer.fit(X[:,1:3])\n",
    "\n",
    "# 결측치를 평균값으로 대체하려면 transform메소드를 사용한다.\n",
    "X[:,1:3] = imputer.transform(X[:,1:3])\n",
    "\n",
    "# X데이터셋의 1번과 2번 열에서 결측치를 해당 열의 평균값으로 대체하게 된다.\n",
    "# X의 대괄호 안에  , 를 기준으로 행, 열 이다.\n",
    "print(X[:,1:3])"
   ]
  },
  {
   "cell_type": "code",
   "execution_count": null,
   "metadata": {},
   "outputs": [],
   "source": [
    "df = pd.read_csv(\"../data0225/Data0227.csv\")\n",
    "X = df.iloc[:,:-1].values\n",
    "X"
   ]
  },
  {
   "cell_type": "code",
   "execution_count": null,
   "metadata": {},
   "outputs": [],
   "source": [
    "from sklearn.impute import SimpleImputer\n",
    "\n",
    "# median을 사용하면 중앙값으로 대체하기 - 평균과 중앙값이 반드시 일치하는 건 아니다.\n",
    "imputer = SimpleImputer(missing_values=np.nan, strategy=\"median\")\n",
    "imputer.fit(X[:,1:3])\n",
    "\n",
    "# 결측치를 평균값으로 대체하려면 transform메소드를 사용한다.\n",
    "X[:,1:3] = imputer.transform(X[:,1:3])\n",
    "\n",
    "# X데이터셋의 1번과 2번 열에서 결측치를 해당 열의 평균값으로 대체하게 된다.\n",
    "# X의 대괄호 안에  , 를 기준으로 행, 열 이다.\n",
    "print(X[:,1:3])"
   ]
  },
  {
   "cell_type": "code",
   "execution_count": null,
   "metadata": {},
   "outputs": [],
   "source": [
    "df = pd.read_csv(\"../data0225/Data0227.csv\")\n",
    "X = df.iloc[:,:-1].values\n",
    "X"
   ]
  },
  {
   "cell_type": "code",
   "execution_count": null,
   "metadata": {},
   "outputs": [],
   "source": [
    "from sklearn.impute import SimpleImputer\n",
    "\n",
    "# most_frequent 하면 최빈값으로 대체 합니다.\n",
    "imputer = SimpleImputer(missing_values=np.nan, strategy=\"most_frequent\")\n",
    "imputer.fit(X[:,1:3])\n",
    "\n",
    "# 결측치를 평균값으로 대체하려면 transform메소드를 사용한다.\n",
    "X[:,1:3] = imputer.transform(X[:,1:3])\n",
    "\n",
    "# X데이터셋의 1번과 2번 열에서 결측치를 해당 열의 평균값으로 대체하게 된다.\n",
    "# X의 대괄호 안에  , 를 기준으로 행, 열 이다.\n",
    "print(X[:,1:3])"
   ]
  },
  {
   "cell_type": "code",
   "execution_count": null,
   "metadata": {},
   "outputs": [],
   "source": [
    "df = pd.read_csv(\"../data0225/Data0227.csv\")\n",
    "X = df.iloc[:,:-1].values\n",
    "X"
   ]
  },
  {
   "cell_type": "code",
   "execution_count": null,
   "metadata": {},
   "outputs": [],
   "source": [
    "from sklearn.impute import SimpleImputer\n",
    "# most_frequent 하면 최빈값으로 대체 합니다.\n",
    "\n",
    "imputer = SimpleImputer(missing_values=np.nan, strategy=\"constant\", fill_value=100)\n",
    "imputer.fit(X[:,1:3])\n",
    "\n",
    "# 결측치를 평균값으로 대체하려면 transform메소드를 사용한다.\n",
    "X[:,1:3] = imputer.transform(X[:,1:3])\n",
    "\n",
    "# X데이터셋의 1번과 2번 열에서 결측치를 해당 열의 평균값으로 대체하게 된다.\n",
    "# X의 대괄호 안에  , 를 기준으로 행, 열 이다.\n",
    "print(X[:,1:3])"
   ]
  }
 ],
 "metadata": {
  "kernelspec": {
   "display_name": "Python 3",
   "language": "python",
   "name": "python3"
  },
  "language_info": {
   "codemirror_mode": {
    "name": "ipython",
    "version": 3
   },
   "file_extension": ".py",
   "mimetype": "text/x-python",
   "name": "python",
   "nbconvert_exporter": "python",
   "pygments_lexer": "ipython3",
   "version": "3.11.9"
  }
 },
 "nbformat": 4,
 "nbformat_minor": 2
}
