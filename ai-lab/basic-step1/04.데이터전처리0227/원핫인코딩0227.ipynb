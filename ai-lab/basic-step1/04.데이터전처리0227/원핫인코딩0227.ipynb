{
 "cells": [
  {
   "cell_type": "markdown",
   "metadata": {},
   "source": [
    "### 원 핫 인코딩     \n",
    "France - (1,0) (0,0) (0,0)     \n",
    "Spain - (0,0) (1,0) (0,0)    \n",
    "Germany - (0,0) (0,0) (1, 0)    "
   ]
  },
  {
   "cell_type": "code",
   "execution_count": 1,
   "metadata": {},
   "outputs": [],
   "source": [
    "import pandas as pd\n",
    "import numpy as np"
   ]
  },
  {
   "cell_type": "code",
   "execution_count": 2,
   "metadata": {},
   "outputs": [
    {
     "name": "stdout",
     "output_type": "stream",
     "text": [
      "[['France' 44.0 72000.0]\n",
      " ['Spain' 27.0 48000.0]\n",
      " ['Germany' 30.0 54000.0]\n",
      " ['Spain' 38.0 61000.0]\n",
      " ['Germany' 40.0 nan]\n",
      " ['France' 35.0 58000.0]\n",
      " ['Spain' nan 52000.0]\n",
      " ['France' 48.0 79000.0]\n",
      " ['Germany' 50.0 83000.0]\n",
      " ['France' 37.0 67000.0]]\n",
      "['No' 'Yes' 'No' 'No' 'Yes' 'Yes' 'No' 'Yes' 'No'\n",
      " 'Yes                                                                                                                                                                                                                                                                                                                                                                                                                                                                                                                                                                                                                                                                                                                                                                                                                                                                                                                                                                                                                                                                                                                                                                                                                                                                                                                                                                                                                                                                                                                                                                                                                                                                                                                                                                                                                                                                                                                                                                                                                                                                                                                                                                                                                                                                                                                                                                                                                                                                                                                                                                                                                       ']\n"
     ]
    }
   ],
   "source": [
    "df = pd.read_csv(\"../data0225/Data0227.csv\")\n",
    "X = df.iloc[:,:-1].values\n",
    "y = df.iloc[:,-1].values\n",
    "print(X)\n",
    "print(y)"
   ]
  },
  {
   "cell_type": "code",
   "execution_count": 3,
   "metadata": {},
   "outputs": [
    {
     "name": "stdout",
     "output_type": "stream",
     "text": [
      "<class 'pandas.core.frame.DataFrame'>\n",
      "RangeIndex: 10 entries, 0 to 9\n",
      "Data columns (total 4 columns):\n",
      " #   Column     Non-Null Count  Dtype  \n",
      "---  ------     --------------  -----  \n",
      " 0   Country    10 non-null     object \n",
      " 1   Age        9 non-null      float64\n",
      " 2   Salary     9 non-null      float64\n",
      " 3   Purchased  10 non-null     object \n",
      "dtypes: float64(2), object(2)\n",
      "memory usage: 452.0+ bytes\n"
     ]
    }
   ],
   "source": [
    "df.info()"
   ]
  },
  {
   "cell_type": "markdown",
   "metadata": {},
   "source": [
    "- fit() : 데이터를 이용해서 내부 파라미터를 학습할 때 사용한다.\n",
    "- transform() : 이미 fit()이나 fit_transform()통해서 학습한 파라미터를 사용하여 데이터를 변환한다.\n",
    "예) 학습한 평균값으로 결측치를 채우거나  학습한 표준편차로 데이터를 스케일링\n",
    "- fit_transform() : fit + transform\n",
    "fit(), transform()을 한 번에 실행하는 메소드 이다.\n",
    "데이터를 먼저 학습을 한 후에 즉시 변환한다.\n",
    "\n",
    "- 정리\n",
    ": 처음 데이터를 학습하여 내부 파라미터를 계산하고 이를 적용하려면 fit_transform을 사용하고\n",
    "이미 학습된 파라미터를 사용해 새로운 데이터나 추가 데이터에 변환만 적용하려면  transform을 사용한다."
   ]
  },
  {
   "cell_type": "code",
   "execution_count": null,
   "metadata": {},
   "outputs": [
    {
     "name": "stdout",
     "output_type": "stream",
     "text": [
      "[[44.0 72000.0]\n",
      " [27.0 48000.0]\n",
      " [30.0 54000.0]\n",
      " [38.0 61000.0]\n",
      " [40.0 63777.77777777778]\n",
      " [35.0 58000.0]\n",
      " [38.77777777777778 52000.0]\n",
      " [48.0 79000.0]\n",
      " [50.0 83000.0]\n",
      " [37.0 67000.0]]\n"
     ]
    }
   ],
   "source": [
    "from sklearn.impute import SimpleImputer\n",
    "imputer = SimpleImputer(missing_values=np.nan, strategy=\"mean\")\n",
    "imputer.fit(X[:,1:3])\n",
    "\n",
    "# 결측치를 평균값으로 대체하려면 transform메소드를 사용한다.\n",
    "X[:,1:3] = imputer.transform(X[:,1:3])\n",
    "\n",
    "# X데이터셋의 1번과 2번 열에서 결측치를 해당 열의 평균값으로 대체하게 된다.\n",
    "# X의 대괄호 안에  , 를 기준으로 행, 열 이다.\n",
    "print(X[:,1:3])"
   ]
  },
  {
   "cell_type": "markdown",
   "metadata": {},
   "source": [
    "- 첫번 째열은 원-핫 인코딩된 결과로 출력. 나머지 열은 기존 데이터 그대로 출력된다.\n",
    "- 범주형 데이터를 모델 학습 전에 수치형 데이터로 쉽게 변환할 수 있다.    \n",
    "- 사용 목적은 국가 정보가 문자열로 되어 있어 서로 영향이 전혀 없어야 하는 컬럼임에도\n",
    "학습 과정에서 의도하지 않은 영향을 줄 수도 있으므로 보통 수치형으로 변환을 한다.\n",
    "- 의도하지 않은 의미가 부여되기를 원치 않아서..... 그래서 굳이 한다."
   ]
  },
  {
   "cell_type": "code",
   "execution_count": null,
   "metadata": {},
   "outputs": [
    {
     "name": "stdout",
     "output_type": "stream",
     "text": [
      "[[0.0 1.0 0.0 0.0 44.0 72000.0]\n",
      " [1.0 0.0 0.0 1.0 27.0 48000.0]\n",
      " [1.0 0.0 1.0 0.0 30.0 54000.0]\n",
      " [1.0 0.0 0.0 1.0 38.0 61000.0]\n",
      " [1.0 0.0 1.0 0.0 40.0 63777.77777777778]\n",
      " [0.0 1.0 0.0 0.0 35.0 58000.0]\n",
      " [1.0 0.0 0.0 1.0 38.77777777777778 52000.0]\n",
      " [0.0 1.0 0.0 0.0 48.0 79000.0]\n",
      " [1.0 0.0 1.0 0.0 50.0 83000.0]\n",
      " [0.0 1.0 0.0 0.0 37.0 67000.0]]\n"
     ]
    }
   ],
   "source": [
    "# OneHotEncoder는 범주형 데이터를 0과 1로 이루어진 이진 형태로 변환\n",
    "from sklearn.preprocessing import  OneHotEncoder\n",
    "\n",
    "# ColumnTransformer는 데이터셋의 특정 열에만 선택적으로 변환기를 적용할 수 있도록 해준다.\n",
    "from sklearn.compose import ColumnTransformer\n",
    "\n",
    "# [0]는 이름 encoder로 OneHotEncoder를 정의하고 X의 인덱스 0에 해당하는 열에만 적용해줘.\n",
    "# passthrough는 지정되지 않은 다른  열들은 그대로 유지하여 변하지 않도록 한다.\n",
    "ct = ColumnTransformer(transformers=[('encoder', OneHotEncoder(), [0])], remainder=\"passthrough\")\n",
    "\n",
    "# X의 0번째 열에서 학습한 후 해당 열을 원-핫 인코딩으로 변환한다\n",
    "# 변환 결과는 NumPy배열로 형변환이 되어 X 에 다시 할당이 된다.\n",
    "X = np.array(ct.fit_transform(X))\n",
    "print(X)"
   ]
  }
 ],
 "metadata": {
  "kernelspec": {
   "display_name": "Python 3",
   "language": "python",
   "name": "python3"
  },
  "language_info": {
   "codemirror_mode": {
    "name": "ipython",
    "version": 3
   },
   "file_extension": ".py",
   "mimetype": "text/x-python",
   "name": "python",
   "nbconvert_exporter": "python",
   "pygments_lexer": "ipython3",
   "version": "3.11.9"
  }
 },
 "nbformat": 4,
 "nbformat_minor": 2
}
