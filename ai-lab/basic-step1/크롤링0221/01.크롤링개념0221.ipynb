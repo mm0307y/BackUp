{
 "cells": [
  {
   "cell_type": "markdown",
   "metadata": {},
   "source": [
    "### 크롤링\n",
    "1. 크롤링이란?\n",
    "- 웹 크롤러가 하는 직업\n",
    "- 웹 크롤러 : 조지적, 자동화된 방법으로 웹 탐색하는일\n",
    "\t\t- 특정 웹 사이트 또는 여러 웹 사이트의 정보를 수집하는 일\n",
    "- 주의 : robots.txt 확인하여 허락 유무 확인\n",
    "https://brunch.co.kr/robots.txt\n",
    "User-agent: * -> 모든 웹 크롤러(검색 엔진 로봇)\n",
    "Allow: / -> 사이트의 루트 디렉토리 및 하위의 모든 페이지에 접근 허용한다."
   ]
  },
  {
   "cell_type": "markdown",
   "metadata": {},
   "source": [
    "2. 크롤링의 종류\n",
    "- 정적 크롤링 : BeautifulSoup : 한 페이지에 열린 내용암ㄴ 가져온다. - 속도가 빠르다.\n",
    "- 동적 크롤링 : selenium - 입력, 클릭, 스크롤 움직임을 통해서 까지 바뀌는 내용을 지속적으로 크롤링할 수 있다.\n",
    "\t- 다양한 정보를 가져올 수는 있지만 상대적으로 속도가 느리다."
   ]
  }
 ],
 "metadata": {
  "language_info": {
   "name": "python"
  }
 },
 "nbformat": 4,
 "nbformat_minor": 2
}
