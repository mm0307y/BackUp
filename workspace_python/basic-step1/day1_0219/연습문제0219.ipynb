{
 "cells": [
  {
   "cell_type": "markdown",
   "metadata": {},
   "source": [
    "### 연습 문제"
   ]
  },
  {
   "cell_type": "markdown",
   "metadata": {},
   "source": [
    "1. 원의 면적을 계산하는 프로그램을 작성하시오.\n",
    "- 변수는 몇  개 필요한가?\n",
    "- 변수의 타입은 무엇으로 할까?\n",
    "- 실수형의 경우 소수 몇 자리까지 출력을 원하는가?"
   ]
  },
  {
   "cell_type": "code",
   "execution_count": null,
   "metadata": {},
   "outputs": [
    {
     "name": "stdout",
     "output_type": "stream",
     "text": [
      "153.86\n"
     ]
    }
   ],
   "source": [
    "radius = 7\n",
    "pi = 3.14\n",
    "area = pi * (radius ** 2)\n",
    "print(area)"
   ]
  },
  {
   "cell_type": "code",
   "execution_count": null,
   "metadata": {},
   "outputs": [
    {
     "name": "stdout",
     "output_type": "stream",
     "text": [
      "153.93791\n",
      "153.94\n"
     ]
    }
   ],
   "source": [
    "radius = 7\n",
    "pi = 3.14159\n",
    "area = pi * (radius ** 2)\n",
    "print(area)\n",
    "# 첫번째 자리는 값, 두번째 자리는 소수 2자리까지 출력해줘\n",
    "#세번째 자리에서 반올림 처리\n",
    "print(round(area, 2))"
   ]
  },
  {
   "cell_type": "markdown",
   "metadata": {},
   "source": [
    "#### 연습문제2\n",
    "- 총 식사 금액을 입력 받아서 팁이 20%라고 가정했을 때 3명이 부담해야 할 개인별 금액을    \n",
    "계산해 주는 프로그램을 작성하시오."
   ]
  },
  {
   "cell_type": "code",
   "execution_count": null,
   "metadata": {},
   "outputs": [],
   "source": [
    "# 총팁 금액\n",
    "# 총 최종 금액\n",
    "# 각 사람이 내야 할 금액 계산해 본다."
   ]
  },
  {
   "cell_type": "code",
   "execution_count": null,
   "metadata": {},
   "outputs": [],
   "source": [
    "# 사용자로 부터 총 식사 금액과 팁 비율을 입력 받는다.\n",
    "\n",
    "# 팁 금액을 계산하기\n",
    "\n",
    "# 최종 금액을 계산하기\n",
    "\n",
    "# 인원 수를 정의 해 본다.\n",
    "\n",
    "# 각 사람이 내야 할 금액을 계산해 본다."
   ]
  },
  {
   "cell_type": "code",
   "execution_count": null,
   "metadata": {},
   "outputs": [],
   "source": [
    "bill = int(input(\"식사 금액을 입력하세요.\"))\n",
    "print(bill)"
   ]
  },
  {
   "cell_type": "code",
   "execution_count": null,
   "metadata": {},
   "outputs": [],
   "source": [
    "tip = int(input(\"몇 퍼센트의 팁을 주고 싶나요? 10, 12, or 15\"))\n",
    "print(tip)"
   ]
  },
  {
   "cell_type": "code",
   "execution_count": null,
   "metadata": {},
   "outputs": [],
   "source": [
    "people = int(input(\"몇 명이 나눠서 계산할 것인가?\"))"
   ]
  },
  {
   "cell_type": "code",
   "execution_count": null,
   "metadata": {},
   "outputs": [],
   "source": [
    "tip_as_percent = tip / 100\n",
    "total_tip_amount = bill * tip_as_percent\n",
    "total_bill = bill + total_tip_amount"
   ]
  },
  {
   "cell_type": "code",
   "execution_count": null,
   "metadata": {},
   "outputs": [],
   "source": [
    "bill_per_person = total_bill / people\n",
    "final_amount = round(bill_per_person, 2)"
   ]
  },
  {
   "cell_type": "code",
   "execution_count": null,
   "metadata": {},
   "outputs": [],
   "source": [
    "print(f\"1인당 ${final_amount} 금액을 내야 합니다.\")"
   ]
  },
  {
   "cell_type": "markdown",
   "metadata": {},
   "source": [
    "연습문제2. BMI계산기를 구현해 보세요."
   ]
  },
  {
   "cell_type": "code",
   "execution_count": null,
   "metadata": {},
   "outputs": [],
   "source": [
    "# 키와 몸무게를 입력 받습니다.\n",
    "# 정수로 받는 다면 int로 처리하고 소수 자리를 받으려면 float를 사용합니다.\n",
    "height = input() #키는 미터(실수)로 받는다.\n",
    "weight = input() # 몸무게는 kg(정수)로 받는다.\n",
    "# 문자로 받은 몸무게를 정수 변수에 담기\n",
    "# 문자로 받은 키를 실수 변수에 담기\n",
    "weight_as_int = int(weight)\n",
    "height_as_float = float(height) "
   ]
  },
  {
   "cell_type": "code",
   "execution_count": null,
   "metadata": {},
   "outputs": [],
   "source": [
    "# BMI 계산하는 공식은?\n",
    "# bmi = 몸무게/(키 제곱승)\n",
    "bmi = weight_as_int / (height_as_float ** 2)\n",
    "print(bmi)"
   ]
  }
 ],
 "metadata": {
  "kernelspec": {
   "display_name": "basic-step1",
   "language": "python",
   "name": "python3"
  },
  "language_info": {
   "codemirror_mode": {
    "name": "ipython",
    "version": 3
   },
   "file_extension": ".py",
   "mimetype": "text/x-python",
   "name": "python",
   "nbconvert_exporter": "python",
   "pygments_lexer": "ipython3",
   "version": "3.11.9"
  }
 },
 "nbformat": 4,
 "nbformat_minor": 2
}
