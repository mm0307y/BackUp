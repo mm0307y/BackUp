{
 "cells": [
  {
   "cell_type": "markdown",
   "metadata": {},
   "source": [
    "### 변수선언"
   ]
  },
  {
   "cell_type": "code",
   "execution_count": 1,
   "metadata": {},
   "outputs": [
    {
     "name": "stdout",
     "output_type": "stream",
     "text": [
      "10\n"
     ]
    }
   ],
   "source": [
    "print(10)"
   ]
  },
  {
   "cell_type": "markdown",
   "metadata": {},
   "source": [
    "#### 프로그래밍을 위해서 사용자로부터 입력 받는 값이 필요하다."
   ]
  },
  {
   "cell_type": "code",
   "execution_count": null,
   "metadata": {},
   "outputs": [
    {
     "name": "stdout",
     "output_type": "stream",
     "text": [
      "<class 'str'>\n"
     ]
    }
   ],
   "source": [
    "# input은 한 줄 모두 입력 받음. 공백 포함. 띄어쓰기도 포함된다.\n",
    "# n은 문자열 입니다. - str\n",
    "n = input()\n",
    "print(type(n))"
   ]
  },
  {
   "cell_type": "code",
   "execution_count": 4,
   "metadata": {},
   "outputs": [
    {
     "name": "stdout",
     "output_type": "stream",
     "text": [
      "<class 'int'>\n",
      "3\n"
     ]
    }
   ],
   "source": [
    "# 만일 정수를 입력 받고 싶다면\n",
    "n = int(input())\n",
    "print(type(n)) # <class 'int'>\n",
    "print(n+1)"
   ]
  },
  {
   "cell_type": "code",
   "execution_count": 5,
   "metadata": {},
   "outputs": [
    {
     "name": "stdout",
     "output_type": "stream",
     "text": [
      "<class 'list'>\n",
      "['123', '345']\n"
     ]
    }
   ],
   "source": [
    "# input함수에 split함수 같이 사용하면 띄어쓰기로 잘라서 리스트로 반환 해줌.\n",
    "n = input().split()\n",
    "print(type(n)) # <class 'list'>\n",
    "print(n)"
   ]
  },
  {
   "cell_type": "code",
   "execution_count": null,
   "metadata": {},
   "outputs": [
    {
     "name": "stdout",
     "output_type": "stream",
     "text": [
      "1\n",
      "5\n"
     ]
    }
   ],
   "source": [
    "# input에 map을 같이 사용하면 입력 받은 문자열을 split로 쪼개고\n",
    "# 쪼갠 결과를 int로 담을 수 있다.\n",
    "a, b = map(int, input().split())\n",
    "# print(type(a)) 혹은 print(type(b))\n",
    "print(a+1) #a자리에 1을 입력 했다면 11이 출력되는게 아니라 2가 출력됨.\n",
    "print(b+2)"
   ]
  },
  {
   "cell_type": "markdown",
   "metadata": {},
   "source": [
    "- 입출력 함수 -> print, input\n",
    "-빠른 입출력 함수"
   ]
  },
  {
   "cell_type": "code",
   "execution_count": null,
   "metadata": {},
   "outputs": [
    {
     "name": "stdout",
     "output_type": "stream",
     "text": [
      "1\n",
      "2\n",
      "3\n",
      "4\n",
      "5\n",
      "6\n",
      "7\n",
      "8\n",
      "9\n",
      "10\n"
     ]
    }
   ],
   "source": [
    "# 만번이 넘어가면 급격하게 속도 느려짐 - 성능 향상 -> sys\n",
    "for _ in range(10): # 10번 반복하기\n",
    "    n = int(input()) #정수를 10번 입력 받아서 담기\n",
    "    print(n)"
   ]
  },
  {
   "cell_type": "code",
   "execution_count": null,
   "metadata": {},
   "outputs": [],
   "source": [
    "for _ in range(1000000): # 100만번 반복하기\n",
    "    n = int(input()) #정수를 10번 입력 받아서 담기\n",
    "    print(n)"
   ]
  },
  {
   "cell_type": "code",
   "execution_count": null,
   "metadata": {},
   "outputs": [],
   "source": [
    "# input함수 보다 빠르게 처리 가능함.\n",
    "import sys\n",
    "for _ in range(1000000): # 100만번 반복하기\n",
    "    n = int(sys.stdin.readline()) #정수를 10번 입력 받아서 담기\n",
    "    print(n)"
   ]
  }
 ],
 "metadata": {
  "kernelspec": {
   "display_name": "basic-step1",
   "language": "python",
   "name": "python3"
  },
  "language_info": {
   "codemirror_mode": {
    "name": "ipython",
    "version": 3
   },
   "file_extension": ".py",
   "mimetype": "text/x-python",
   "name": "python",
   "nbconvert_exporter": "python",
   "pygments_lexer": "ipython3",
   "version": "3.11.9"
  }
 },
 "nbformat": 4,
 "nbformat_minor": 2
}
